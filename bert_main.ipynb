{
 "cells": [
  {
   "cell_type": "code",
   "execution_count": 3,
   "id": "a2f52e85",
   "metadata": {},
   "outputs": [
    {
     "name": "stdout",
     "output_type": "stream",
     "text": [
      "Requirement already satisfied: langdetect in /Users/jaishreeram/anaconda3/lib/python3.11/site-packages (1.0.9)\n",
      "Requirement already satisfied: six in /Users/jaishreeram/anaconda3/lib/python3.11/site-packages (from langdetect) (1.16.0)\n",
      "Note: you may need to restart the kernel to use updated packages.\n"
     ]
    }
   ],
   "source": [
    "pip install langdetect\n"
   ]
  },
  {
   "cell_type": "code",
   "execution_count": 4,
   "id": "cc7f6ba0",
   "metadata": {},
   "outputs": [
    {
     "name": "stdout",
     "output_type": "stream",
     "text": [
      "Requirement already satisfied: geopandas in /Users/jaishreeram/anaconda3/lib/python3.11/site-packages (1.0.1)\n",
      "Requirement already satisfied: numpy>=1.22 in /Users/jaishreeram/anaconda3/lib/python3.11/site-packages (from geopandas) (1.23.5)\n",
      "Requirement already satisfied: pyogrio>=0.7.2 in /Users/jaishreeram/anaconda3/lib/python3.11/site-packages (from geopandas) (0.9.0)\n",
      "Requirement already satisfied: packaging in /Users/jaishreeram/anaconda3/lib/python3.11/site-packages (from geopandas) (23.0)\n",
      "Requirement already satisfied: pandas>=1.4.0 in /Users/jaishreeram/anaconda3/lib/python3.11/site-packages (from geopandas) (1.5.3)\n",
      "Requirement already satisfied: pyproj>=3.3.0 in /Users/jaishreeram/anaconda3/lib/python3.11/site-packages (from geopandas) (3.6.1)\n",
      "Requirement already satisfied: shapely>=2.0.0 in /Users/jaishreeram/anaconda3/lib/python3.11/site-packages (from geopandas) (2.0.4)\n",
      "Requirement already satisfied: python-dateutil>=2.8.1 in /Users/jaishreeram/anaconda3/lib/python3.11/site-packages (from pandas>=1.4.0->geopandas) (2.8.2)\n",
      "Requirement already satisfied: pytz>=2020.1 in /Users/jaishreeram/anaconda3/lib/python3.11/site-packages (from pandas>=1.4.0->geopandas) (2022.7)\n",
      "Requirement already satisfied: certifi in /Users/jaishreeram/anaconda3/lib/python3.11/site-packages (from pyogrio>=0.7.2->geopandas) (2023.7.22)\n",
      "Requirement already satisfied: six>=1.5 in /Users/jaishreeram/anaconda3/lib/python3.11/site-packages (from python-dateutil>=2.8.1->pandas>=1.4.0->geopandas) (1.16.0)\n",
      "Note: you may need to restart the kernel to use updated packages.\n"
     ]
    }
   ],
   "source": [
    "pip install geopandas"
   ]
  },
  {
   "cell_type": "code",
   "execution_count": 5,
   "id": "5c147f17",
   "metadata": {},
   "outputs": [],
   "source": [
    "import os\n",
    "import time\n",
    "import missingno as msno\n",
    "import pandas as pd\n",
    "import geopandas as gpd\n",
    "import numpy as np\n",
    "import seaborn as sns\n",
    "import matplotlib.pyplot as plt\n",
    "import nltk, re, string, collections, unicodedata\n",
    "import tensorflow as tf\n",
    "\n",
    "\n",
    "%matplotlib inline\n",
    "from matplotlib import cm, dates\n",
    "from matplotlib.ticker import ScalarFormatter\n",
    "from matplotlib.ticker import FuncFormatter\n",
    "from datetime import datetime, timedelta\n",
    "from textblob import TextBlob\n",
    "from wordcloud import WordCloud, STOPWORDS\n",
    "from langdetect import detect\n",
    "from nltk.util import ngrams\n",
    "from nltk.tokenize import word_tokenize\n",
    "from nltk.classify import NaiveBayesClassifier\n",
    "from nltk.corpus import subjectivity\n",
    "from nltk.sentiment import SentimentAnalyzer\n",
    "from nltk.sentiment.util import *\n",
    "from nltk.sentiment.vader import SentimentIntensityAnalyzer"
   ]
  },
  {
   "cell_type": "code",
   "execution_count": 6,
   "id": "f0df226e",
   "metadata": {},
   "outputs": [
    {
     "name": "stderr",
     "output_type": "stream",
     "text": [
      "/var/folders/yc/drdkfqm540l_z3lpnprppnt80000gn/T/ipykernel_51505/2018006824.py:1: DtypeWarning: Columns (1,3,6,11,13,14) have mixed types. Specify dtype option on import or set low_memory=False.\n",
      "  df1=pd.read_csv('hashtag_donaldtrump.csv', lineterminator='\\n')\n"
     ]
    },
    {
     "data": {
      "text/html": [
       "<div>\n",
       "<style scoped>\n",
       "    .dataframe tbody tr th:only-of-type {\n",
       "        vertical-align: middle;\n",
       "    }\n",
       "\n",
       "    .dataframe tbody tr th {\n",
       "        vertical-align: top;\n",
       "    }\n",
       "\n",
       "    .dataframe thead th {\n",
       "        text-align: right;\n",
       "    }\n",
       "</style>\n",
       "<table border=\"1\" class=\"dataframe\">\n",
       "  <thead>\n",
       "    <tr style=\"text-align: right;\">\n",
       "      <th></th>\n",
       "      <th>created_at</th>\n",
       "      <th>tweet_id</th>\n",
       "      <th>tweet</th>\n",
       "      <th>likes</th>\n",
       "      <th>retweet_count</th>\n",
       "      <th>source</th>\n",
       "      <th>user_id</th>\n",
       "      <th>user_name</th>\n",
       "      <th>user_screen_name</th>\n",
       "      <th>user_description</th>\n",
       "      <th>...</th>\n",
       "      <th>user_followers_count</th>\n",
       "      <th>user_location</th>\n",
       "      <th>lat</th>\n",
       "      <th>long</th>\n",
       "      <th>city</th>\n",
       "      <th>country</th>\n",
       "      <th>continent</th>\n",
       "      <th>state</th>\n",
       "      <th>state_code</th>\n",
       "      <th>collected_at\\r</th>\n",
       "    </tr>\n",
       "  </thead>\n",
       "  <tbody>\n",
       "    <tr>\n",
       "      <th>0</th>\n",
       "      <td>15/10/2020 00:00</td>\n",
       "      <td>1.32E+18</td>\n",
       "      <td>#Elecciones2020 | En #Florida: #JoeBiden dice ...</td>\n",
       "      <td>0</td>\n",
       "      <td>0.0</td>\n",
       "      <td>TweetDeck</td>\n",
       "      <td>360666534</td>\n",
       "      <td>El Sol Latino News</td>\n",
       "      <td>elsollatinonews</td>\n",
       "      <td>🌐 Noticias de interés para latinos de la costa...</td>\n",
       "      <td>...</td>\n",
       "      <td>1860</td>\n",
       "      <td>Philadelphia, PA / Miami, FL</td>\n",
       "      <td>25.77427</td>\n",
       "      <td>-80.19366</td>\n",
       "      <td>NaN</td>\n",
       "      <td>United States of America</td>\n",
       "      <td>North America</td>\n",
       "      <td>Florida</td>\n",
       "      <td>FL</td>\n",
       "      <td>21/10/2020 00:00\\r</td>\n",
       "    </tr>\n",
       "    <tr>\n",
       "      <th>1</th>\n",
       "      <td>15/10/2020 00:00</td>\n",
       "      <td>1.32E+18</td>\n",
       "      <td>Usa 2020, Trump contro Facebook e Twitter: cop...</td>\n",
       "      <td>26</td>\n",
       "      <td>9.0</td>\n",
       "      <td>Social Mediaset</td>\n",
       "      <td>331617619</td>\n",
       "      <td>Tgcom24</td>\n",
       "      <td>MediasetTgcom24</td>\n",
       "      <td>Profilo ufficiale di Tgcom24: tutte le notizie...</td>\n",
       "      <td>...</td>\n",
       "      <td>1067661</td>\n",
       "      <td>NaN</td>\n",
       "      <td>NaN</td>\n",
       "      <td>NaN</td>\n",
       "      <td>NaN</td>\n",
       "      <td>NaN</td>\n",
       "      <td>NaN</td>\n",
       "      <td>NaN</td>\n",
       "      <td>NaN</td>\n",
       "      <td>00:00.4\\r</td>\n",
       "    </tr>\n",
       "  </tbody>\n",
       "</table>\n",
       "<p>2 rows × 21 columns</p>\n",
       "</div>"
      ],
      "text/plain": [
       "         created_at  tweet_id  \\\n",
       "0  15/10/2020 00:00  1.32E+18   \n",
       "1  15/10/2020 00:00  1.32E+18   \n",
       "\n",
       "                                               tweet likes  retweet_count  \\\n",
       "0  #Elecciones2020 | En #Florida: #JoeBiden dice ...     0            0.0   \n",
       "1  Usa 2020, Trump contro Facebook e Twitter: cop...    26            9.0   \n",
       "\n",
       "             source    user_id           user_name user_screen_name  \\\n",
       "0         TweetDeck  360666534  El Sol Latino News  elsollatinonews   \n",
       "1  Social Mediaset   331617619             Tgcom24  MediasetTgcom24   \n",
       "\n",
       "                                    user_description  ...  \\\n",
       "0  🌐 Noticias de interés para latinos de la costa...  ...   \n",
       "1  Profilo ufficiale di Tgcom24: tutte le notizie...  ...   \n",
       "\n",
       "  user_followers_count                 user_location       lat      long city  \\\n",
       "0                 1860  Philadelphia, PA / Miami, FL  25.77427 -80.19366  NaN   \n",
       "1              1067661                           NaN       NaN       NaN  NaN   \n",
       "\n",
       "                    country      continent    state state_code  \\\n",
       "0  United States of America  North America  Florida         FL   \n",
       "1                       NaN            NaN      NaN        NaN   \n",
       "\n",
       "       collected_at\\r  \n",
       "0  21/10/2020 00:00\\r  \n",
       "1           00:00.4\\r  \n",
       "\n",
       "[2 rows x 21 columns]"
      ]
     },
     "execution_count": 6,
     "metadata": {},
     "output_type": "execute_result"
    }
   ],
   "source": [
    "df1=pd.read_csv('hashtag_donaldtrump.csv', lineterminator='\\n')\n",
    "df1.head(2)"
   ]
  },
  {
   "cell_type": "code",
   "execution_count": 8,
   "id": "24f4d74d",
   "metadata": {},
   "outputs": [
    {
     "name": "stderr",
     "output_type": "stream",
     "text": [
      "/var/folders/yc/drdkfqm540l_z3lpnprppnt80000gn/T/ipykernel_51505/2304426348.py:1: DtypeWarning: Columns (3,6,11,13,14) have mixed types. Specify dtype option on import or set low_memory=False.\n",
      "  df2=pd.read_csv('hashtag_joebiden.csv', lineterminator='\\n')\n"
     ]
    },
    {
     "data": {
      "text/html": [
       "<div>\n",
       "<style scoped>\n",
       "    .dataframe tbody tr th:only-of-type {\n",
       "        vertical-align: middle;\n",
       "    }\n",
       "\n",
       "    .dataframe tbody tr th {\n",
       "        vertical-align: top;\n",
       "    }\n",
       "\n",
       "    .dataframe thead th {\n",
       "        text-align: right;\n",
       "    }\n",
       "</style>\n",
       "<table border=\"1\" class=\"dataframe\">\n",
       "  <thead>\n",
       "    <tr style=\"text-align: right;\">\n",
       "      <th></th>\n",
       "      <th>created_at</th>\n",
       "      <th>tweet_id</th>\n",
       "      <th>tweet</th>\n",
       "      <th>likes</th>\n",
       "      <th>retweet_count</th>\n",
       "      <th>source</th>\n",
       "      <th>user_id</th>\n",
       "      <th>user_name</th>\n",
       "      <th>user_screen_name</th>\n",
       "      <th>user_description</th>\n",
       "      <th>...</th>\n",
       "      <th>user_followers_count</th>\n",
       "      <th>user_location</th>\n",
       "      <th>lat</th>\n",
       "      <th>long</th>\n",
       "      <th>city</th>\n",
       "      <th>country</th>\n",
       "      <th>continent</th>\n",
       "      <th>state</th>\n",
       "      <th>state_code</th>\n",
       "      <th>collected_at\\r</th>\n",
       "    </tr>\n",
       "  </thead>\n",
       "  <tbody>\n",
       "    <tr>\n",
       "      <th>0</th>\n",
       "      <td>15/10/2020</td>\n",
       "      <td>1.316530e+18</td>\n",
       "      <td>#Elecciones2020 | En #Florida: #JoeBiden dice ...</td>\n",
       "      <td>0.00</td>\n",
       "      <td>0.0</td>\n",
       "      <td>TweetDeck</td>\n",
       "      <td>360666534.00</td>\n",
       "      <td>El Sol Latino News</td>\n",
       "      <td>elsollatinonews</td>\n",
       "      <td>🌐 Noticias de interés para latinos de la costa...</td>\n",
       "      <td>...</td>\n",
       "      <td>1860</td>\n",
       "      <td>Philadelphia, PA / Miami, FL</td>\n",
       "      <td>25.77427</td>\n",
       "      <td>-80.19366</td>\n",
       "      <td>NaN</td>\n",
       "      <td>United States of America</td>\n",
       "      <td>North America</td>\n",
       "      <td>Florida</td>\n",
       "      <td>FL</td>\n",
       "      <td>21/10/2020\\r</td>\n",
       "    </tr>\n",
       "    <tr>\n",
       "      <th>1</th>\n",
       "      <td>15/10/2020</td>\n",
       "      <td>1.316530e+18</td>\n",
       "      <td>#HunterBiden #HunterBidenEmails #JoeBiden #Joe...</td>\n",
       "      <td>0.00</td>\n",
       "      <td>0.0</td>\n",
       "      <td>Twitter for iPad</td>\n",
       "      <td>809904438.00</td>\n",
       "      <td>Cheri A. 🇺🇸</td>\n",
       "      <td>Biloximeemaw</td>\n",
       "      <td>Locked and loaded Meemaw. Love God, my family ...</td>\n",
       "      <td>...</td>\n",
       "      <td>6628</td>\n",
       "      <td>NaN</td>\n",
       "      <td>NaN</td>\n",
       "      <td>NaN</td>\n",
       "      <td>NaN</td>\n",
       "      <td>NaN</td>\n",
       "      <td>NaN</td>\n",
       "      <td>NaN</td>\n",
       "      <td>NaN</td>\n",
       "      <td>21/10/2020\\r</td>\n",
       "    </tr>\n",
       "  </tbody>\n",
       "</table>\n",
       "<p>2 rows × 21 columns</p>\n",
       "</div>"
      ],
      "text/plain": [
       "   created_at      tweet_id  \\\n",
       "0  15/10/2020  1.316530e+18   \n",
       "1  15/10/2020  1.316530e+18   \n",
       "\n",
       "                                               tweet likes  retweet_count  \\\n",
       "0  #Elecciones2020 | En #Florida: #JoeBiden dice ...  0.00            0.0   \n",
       "1  #HunterBiden #HunterBidenEmails #JoeBiden #Joe...  0.00            0.0   \n",
       "\n",
       "             source       user_id           user_name user_screen_name  \\\n",
       "0         TweetDeck  360666534.00  El Sol Latino News  elsollatinonews   \n",
       "1  Twitter for iPad  809904438.00         Cheri A. 🇺🇸     Biloximeemaw   \n",
       "\n",
       "                                    user_description  ...  \\\n",
       "0  🌐 Noticias de interés para latinos de la costa...  ...   \n",
       "1  Locked and loaded Meemaw. Love God, my family ...  ...   \n",
       "\n",
       "  user_followers_count                 user_location       lat      long city  \\\n",
       "0                 1860  Philadelphia, PA / Miami, FL  25.77427 -80.19366  NaN   \n",
       "1                 6628                           NaN       NaN       NaN  NaN   \n",
       "\n",
       "                    country      continent    state state_code collected_at\\r  \n",
       "0  United States of America  North America  Florida         FL   21/10/2020\\r  \n",
       "1                       NaN            NaN      NaN        NaN   21/10/2020\\r  \n",
       "\n",
       "[2 rows x 21 columns]"
      ]
     },
     "execution_count": 8,
     "metadata": {},
     "output_type": "execute_result"
    }
   ],
   "source": [
    "df2=pd.read_csv('hashtag_joebiden.csv', lineterminator='\\n')\n",
    "df2.head(2)"
   ]
  },
  {
   "cell_type": "code",
   "execution_count": 14,
   "id": "b14e0a37",
   "metadata": {},
   "outputs": [
    {
     "name": "stderr",
     "output_type": "stream",
     "text": [
      "/var/folders/yc/drdkfqm540l_z3lpnprppnt80000gn/T/ipykernel_51505/573302903.py:1: DtypeWarning: Columns (3,6,11,13,14) have mixed types. Specify dtype option on import or set low_memory=False.\n",
      "  tweets_biden = pd.read_csv('hashtag_joebiden.csv', lineterminator='\\n', parse_dates=True)\n",
      "/var/folders/yc/drdkfqm540l_z3lpnprppnt80000gn/T/ipykernel_51505/573302903.py:2: DtypeWarning: Columns (1,3,6,11,13,14) have mixed types. Specify dtype option on import or set low_memory=False.\n",
      "  tweets_trump = pd.read_csv('hashtag_donaldtrump.csv', lineterminator='\\n', parse_dates=True)\n",
      "/var/folders/yc/drdkfqm540l_z3lpnprppnt80000gn/T/ipykernel_51505/573302903.py:27: UserWarning: Parsing dates in DD/MM/YYYY format when dayfirst=False (the default) was specified. This may lead to inconsistently parsed dates! Specify a format to ensure consistent parsing.\n",
      "  tweets_biden['created_at'] = pd.to_datetime(tweets_biden['created_at'], errors='coerce')\n",
      "/var/folders/yc/drdkfqm540l_z3lpnprppnt80000gn/T/ipykernel_51505/573302903.py:42: RuntimeWarning: divide by zero encountered in divide\n",
      "  return np.where(y == 0, 0, x / y)\n",
      "/var/folders/yc/drdkfqm540l_z3lpnprppnt80000gn/T/ipykernel_51505/573302903.py:42: RuntimeWarning: invalid value encountered in divide\n",
      "  return np.where(y == 0, 0, x / y)\n",
      "/var/folders/yc/drdkfqm540l_z3lpnprppnt80000gn/T/ipykernel_51505/573302903.py:42: RuntimeWarning: divide by zero encountered in divide\n",
      "  return np.where(y == 0, 0, x / y)\n",
      "/var/folders/yc/drdkfqm540l_z3lpnprppnt80000gn/T/ipykernel_51505/573302903.py:42: RuntimeWarning: invalid value encountered in divide\n",
      "  return np.where(y == 0, 0, x / y)\n"
     ]
    },
    {
     "data": {
      "text/html": [
       "<div>\n",
       "<style scoped>\n",
       "    .dataframe tbody tr th:only-of-type {\n",
       "        vertical-align: middle;\n",
       "    }\n",
       "\n",
       "    .dataframe tbody tr th {\n",
       "        vertical-align: top;\n",
       "    }\n",
       "\n",
       "    .dataframe thead th {\n",
       "        text-align: right;\n",
       "    }\n",
       "</style>\n",
       "<table border=\"1\" class=\"dataframe\">\n",
       "  <thead>\n",
       "    <tr style=\"text-align: right;\">\n",
       "      <th></th>\n",
       "      <th>created_at</th>\n",
       "      <th>tweet_id</th>\n",
       "      <th>tweet</th>\n",
       "      <th>likes</th>\n",
       "      <th>retweet_count</th>\n",
       "      <th>source</th>\n",
       "      <th>user_id</th>\n",
       "      <th>user_name</th>\n",
       "      <th>user_screen_name</th>\n",
       "      <th>user_description</th>\n",
       "      <th>...</th>\n",
       "      <th>city</th>\n",
       "      <th>country</th>\n",
       "      <th>continent</th>\n",
       "      <th>state</th>\n",
       "      <th>state_code</th>\n",
       "      <th>collected_at\\r</th>\n",
       "      <th>created_at_r</th>\n",
       "      <th>created_at_r2</th>\n",
       "      <th>likes_norm</th>\n",
       "      <th>retweet_norm</th>\n",
       "    </tr>\n",
       "  </thead>\n",
       "  <tbody>\n",
       "    <tr>\n",
       "      <th>499957</th>\n",
       "      <td>2020-05-11</td>\n",
       "      <td>1.324500e+18</td>\n",
       "      <td>I wonder who they’re voting for 🤔... - #fyp #f...</td>\n",
       "      <td>0.0</td>\n",
       "      <td>0.0</td>\n",
       "      <td>Instagram</td>\n",
       "      <td>831707520007708032.0</td>\n",
       "      <td>NathanKTV</td>\n",
       "      <td>NathanKTV_</td>\n",
       "      <td>💁🏻‍♂️: IG 👉  NathanKTV \\n🎥: 👇🏼\\nhttps://t.co/o...</td>\n",
       "      <td>...</td>\n",
       "      <td>NaN</td>\n",
       "      <td>United States of America</td>\n",
       "      <td>North America</td>\n",
       "      <td>California</td>\n",
       "      <td>CA</td>\n",
       "      <td>2020-06-11</td>\n",
       "      <td>2020-05-11 00</td>\n",
       "      <td>05-11</td>\n",
       "      <td>0.0</td>\n",
       "      <td>0.0</td>\n",
       "    </tr>\n",
       "    <tr>\n",
       "      <th>499958</th>\n",
       "      <td>2020-05-11</td>\n",
       "      <td>1.324500e+18</td>\n",
       "      <td>Biden - 290 \\nTrump 🤡 - 248 \\nEasy money babby...</td>\n",
       "      <td>0.0</td>\n",
       "      <td>0.0</td>\n",
       "      <td>Twitter for iPhone</td>\n",
       "      <td>907107470874512896.0</td>\n",
       "      <td>BraddahBit 🤙🏽</td>\n",
       "      <td>alohacory_</td>\n",
       "      <td>crypto degenerate : truth seeker : datsun enth...</td>\n",
       "      <td>...</td>\n",
       "      <td>San Francisco</td>\n",
       "      <td>United States of America</td>\n",
       "      <td>North America</td>\n",
       "      <td>California</td>\n",
       "      <td>CA</td>\n",
       "      <td>2020-06-11</td>\n",
       "      <td>2020-05-11 00</td>\n",
       "      <td>05-11</td>\n",
       "      <td>0.0</td>\n",
       "      <td>0.0</td>\n",
       "    </tr>\n",
       "  </tbody>\n",
       "</table>\n",
       "<p>2 rows × 25 columns</p>\n",
       "</div>"
      ],
      "text/plain": [
       "       created_at      tweet_id  \\\n",
       "499957 2020-05-11  1.324500e+18   \n",
       "499958 2020-05-11  1.324500e+18   \n",
       "\n",
       "                                                    tweet  likes  \\\n",
       "499957  I wonder who they’re voting for 🤔... - #fyp #f...    0.0   \n",
       "499958  Biden - 290 \\nTrump 🤡 - 248 \\nEasy money babby...    0.0   \n",
       "\n",
       "        retweet_count              source               user_id  \\\n",
       "499957            0.0           Instagram  831707520007708032.0   \n",
       "499958            0.0  Twitter for iPhone  907107470874512896.0   \n",
       "\n",
       "            user_name user_screen_name  \\\n",
       "499957      NathanKTV       NathanKTV_   \n",
       "499958  BraddahBit 🤙🏽       alohacory_   \n",
       "\n",
       "                                         user_description  ...           city  \\\n",
       "499957  💁🏻‍♂️: IG 👉  NathanKTV \\n🎥: 👇🏼\\nhttps://t.co/o...  ...            NaN   \n",
       "499958  crypto degenerate : truth seeker : datsun enth...  ...  San Francisco   \n",
       "\n",
       "                         country      continent       state state_code  \\\n",
       "499957  United States of America  North America  California         CA   \n",
       "499958  United States of America  North America  California         CA   \n",
       "\n",
       "       collected_at\\r   created_at_r created_at_r2 likes_norm retweet_norm  \n",
       "499957     2020-06-11  2020-05-11 00         05-11        0.0          0.0  \n",
       "499958     2020-06-11  2020-05-11 00         05-11        0.0          0.0  \n",
       "\n",
       "[2 rows x 25 columns]"
      ]
     },
     "execution_count": 14,
     "metadata": {},
     "output_type": "execute_result"
    }
   ],
   "source": [
    "tweets_biden = pd.read_csv('hashtag_joebiden.csv', lineterminator='\\n', parse_dates=True)\n",
    "tweets_trump = pd.read_csv('hashtag_donaldtrump.csv', lineterminator='\\n', parse_dates=True)\n",
    "\n",
    "# Replace United states in country column with USA full form\n",
    "tweets_biden['country'].replace({'United States':'United States of America'}, inplace=True)\n",
    "tweets_trump['country'].replace({'United States':'United States of America'}, inplace=True)\n",
    "\n",
    "\n",
    "# Add Features\n",
    "def normalise(x,y):\n",
    "    x = np.array(x)\n",
    "    y = np.array(y)\n",
    "    return np.where(x == 0, 0, x / y)\n",
    "\n",
    "def sentiment(data):\n",
    "    temp=[]\n",
    "    for row in data:\n",
    "        tmp=sid.polarity_scores(row)\n",
    "        temp.append(tmp)\n",
    "    return temp\n",
    "\n",
    "# convert to datetime object\n",
    "tweets_biden['user_join_date'] = pd.to_datetime(tweets_biden['user_join_date'], errors='coerce')\n",
    "tweets_trump['user_join_date'] = pd.to_datetime(tweets_trump['user_join_date'], errors='coerce')\n",
    "tweets_biden['collected_at\\r'] = pd.to_datetime(tweets_biden['collected_at\\r'], errors='coerce')\n",
    "tweets_trump['collected_at\\r'] = pd.to_datetime(tweets_trump['collected_at\\r'], errors='coerce')\n",
    "tweets_biden['created_at'] = pd.to_datetime(tweets_biden['created_at'], errors='coerce')\n",
    "tweets_trump['created_at'] = pd.to_datetime(tweets_trump['created_at'], errors='coerce')\n",
    "# create additional date time columns\n",
    "tweets_biden['created_at_r']=tweets_biden['created_at'].dt.strftime('%Y-%m-%d %H')\n",
    "tweets_trump['created_at_r']=tweets_trump['created_at'].dt.strftime('%Y-%m-%d %H')\n",
    "tweets_biden['created_at_r2']=tweets_biden['created_at'].dt.strftime('%m-%d')\n",
    "tweets_trump['created_at_r2']=tweets_trump['created_at'].dt.strftime('%m-%d')\n",
    "tweets_biden['likes'] = pd.to_numeric(tweets_biden['likes'], errors='coerce').fillna(0)\n",
    "tweets_biden['retweet_count'] = pd.to_numeric(tweets_biden['retweet_count'], errors='coerce').fillna(0)\n",
    "tweets_trump['likes'] = pd.to_numeric(tweets_trump['likes'], errors='coerce').fillna(0)\n",
    "tweets_trump['retweet_count'] = pd.to_numeric(tweets_trump['retweet_count'], errors='coerce').fillna(0)\n",
    "def normalise(x, y):\n",
    "    x = np.array(x)\n",
    "    y = np.array(y)\n",
    "    # Avoid division by zero and handle NaN values\n",
    "    return np.where(y == 0, 0, x / y)\n",
    "\n",
    "# normalise time diff to hours\n",
    "b_tdiff=(tweets_biden['collected_at\\r'] - tweets_biden['created_at'])\n",
    "t_tdiff=(tweets_trump['collected_at\\r'] - tweets_trump['created_at'])\n",
    "b_tdiff=(b_tdiff.dt.days * 24 + b_tdiff.dt.seconds / 3600)\n",
    "t_tdiff=(t_tdiff.dt.days * 24 + t_tdiff.dt.seconds / 3600)\n",
    "\n",
    "# Use numpy vectorisation to create new columns for normalised likes and retweets\n",
    "tweets_biden['likes_norm'] = normalise(tweets_biden['likes'],b_tdiff)\n",
    "tweets_biden['retweet_norm'] = normalise(tweets_biden['retweet_count'],b_tdiff)\n",
    "tweets_trump['likes_norm'] = normalise(tweets_trump['likes'],t_tdiff)\n",
    "tweets_trump['retweet_norm'] = normalise(tweets_trump['retweet_count'],t_tdiff)\n",
    "\n",
    "tweets_biden.tail(2)"
   ]
  },
  {
   "cell_type": "code",
   "execution_count": 15,
   "id": "c8a1c944",
   "metadata": {},
   "outputs": [
    {
     "name": "stderr",
     "output_type": "stream",
     "text": [
      "/var/folders/yc/drdkfqm540l_z3lpnprppnt80000gn/T/ipykernel_51505/275198889.py:5: MatplotlibDeprecationWarning: The get_cmap function was deprecated in Matplotlib 3.7 and will be removed two minor releases later. Use ``matplotlib.colormaps[name]`` or ``matplotlib.colormaps.get_cmap(obj)`` instead.\n",
      "  heatmap1_args = dict(annot=True, fmt='.0f', square=False, cmap=cm.get_cmap(\"RdGy\", 10), center = 90, vmin=0, vmax=10000, lw=4, cbar=False)\n"
     ]
    }
   ],
   "source": [
    "# Visualisation functions\n",
    "cmap = sns.diverging_palette(0, 230, 90, 60, as_cmap=True)\n",
    "barcolors = ['#87B88C','#9ED2A1','#E7E8CB','#48A0C9','#2A58A1','#2E8B55','#DF3659','Grey']\n",
    "barstyle = {\"edgecolor\":\"black\", \"linewidth\":1}\n",
    "heatmap1_args = dict(annot=True, fmt='.0f', square=False, cmap=cm.get_cmap(\"RdGy\", 10), center = 90, vmin=0, vmax=10000, lw=4, cbar=False)\n",
    "heatmap2_args = dict(annot=True, fmt='.3f', square=False, cmap=\"Greens\", center = 0.5, lw=4, cbar=False)\n",
    "heatmap3_args = dict(annot=True, fmt='.0f', square=False, cmap=cmap, center = 9200, lw=4, cbar=False)\n",
    "\n",
    "def hide_axes(this_ax):\n",
    "    this_ax.set_frame_on(False)\n",
    "    this_ax.set_xticks([])\n",
    "    this_ax.set_yticks([])\n",
    "    return this_ax\n",
    "\n",
    "def draw_heatmap1(df,this_ax):\n",
    "    hm = sns.heatmap(df, ax = this_ax, **heatmap1_args)\n",
    "    this_ax.set_yticklabels(this_ax.get_yticklabels(), rotation=0)\n",
    "    this_ax.yaxis.tick_right()\n",
    "    this_ax.yaxis.set_label_position(\"right\")\n",
    "    for axis in ['top','bottom','left','right']:\n",
    "        this_ax.spines[axis].set_visible(True)\n",
    "        this_ax.spines[axis].set_color('black')\n",
    "    return hm \n",
    "\n",
    "def draw_heatmap2(df,this_ax):\n",
    "    hm = sns.heatmap(df, ax = this_ax, **heatmap2_args)\n",
    "    this_ax.set_yticklabels(this_ax.get_yticklabels(), rotation=0)\n",
    "    this_ax.yaxis.tick_right()\n",
    "    this_ax.yaxis.set_label_position(\"right\")\n",
    "    for axis in ['top','bottom','left','right']:\n",
    "        this_ax.spines[axis].set_visible(True)\n",
    "        this_ax.spines[axis].set_color('black')\n",
    "    return hm \n",
    "\n",
    "def draw_heatmap3(df,this_ax):\n",
    "    hm = sns.heatmap(df, ax = this_ax, **heatmap3_args)\n",
    "    this_ax.set_yticklabels(this_ax.get_yticklabels(), rotation=0)\n",
    "    this_ax.yaxis.tick_right()\n",
    "    this_ax.yaxis.set_label_position(\"right\")\n",
    "    for axis in ['top','bottom','left','right']:\n",
    "        this_ax.spines[axis].set_visible(True)\n",
    "        this_ax.spines[axis].set_color('black')\n",
    "    return hm \n",
    "\n",
    "def thousands1(x, pos):\n",
    "    'The two args are the value and tick position'\n",
    "    return '%1.0fK' % (x * 1e-3)\n",
    "\n",
    "formatterK1 = FuncFormatter(thousands1)\n",
    "\n",
    "def thousands2(x, pos):\n",
    "    'The two args are the value and tick position'\n",
    "    return '%1.1fK' % (x * 1e-3)\n",
    "\n",
    "formatterK2 = FuncFormatter(thousands2)"
   ]
  },
  {
   "cell_type": "code",
   "execution_count": 16,
   "id": "19eb9a9b",
   "metadata": {},
   "outputs": [
    {
     "data": {
      "image/png": "[encoded data removed]",
      "text/plain": [
       "<Figure size 640x480 with 1 Axes>"
      ]
     },
     "metadata": {},
     "output_type": "display_data"
    }
   ],
   "source": [
    "df = pd.DataFrame({\n",
    "    'States': ['source', 'User name', 'User description', 'User location','Latitude','Longitude','City','Country','Continent','State','State Code'],\n",
    "    'Trump Tweets': [876, 16, 101266, 294953, 525200, 525200, 743732, 528171, 528154, 650299, 670494],\n",
    "    'Biden Tweets': [713, 18, 82006, 233791, 421593, 421593, 590014, 423107, 423089, 516691, 532277]\n",
    "})\n",
    "\n",
    "colours = ['r', 'b'][0:len(df.columns)]\n",
    "ax =df.plot(x=\"States\", y=[\"Trump Tweets\", \"Biden Tweets\"], kind=\"bar\",color=colours,alpha=0.5)\n",
    "# df.plot(figsize=(6,3))\n",
    "ax.set_xlabel(\"\")\n",
    "plt.rcParams[\"figure.figsize\"] = [20, 5]\n",
    "plt.rcParams.update({'font.size': 15})"
   ]
  },
  {
   "cell_type": "code",
   "execution_count": 17,
   "id": "fc39fa4d",
   "metadata": {},
   "outputs": [
    {
     "name": "stdout",
     "output_type": "stream",
     "text": [
      "[194, 67, 67, 942, 187, 200, 185, 74361, 321, 196, 220694, 383788, 383786, 553422, 385982, 385969, 477762, 492461, 452742, 194, 194, 452742, 452742]\n"
     ]
    },
    {
     "name": "stderr",
     "output_type": "stream",
     "text": [
      "/Users/jaishreeram/anaconda3/lib/python3.11/site-packages/IPython/core/pylabtools.py:152: UserWarning: Glyph 13 (\r",
      ") missing from current font.\n",
      "  fig.canvas.print_figure(bytes_io, **kw)\n"
     ]
    },
    {
     "data": {
      "image/png": "[encoded data removed]",
      "text/plain": [
       "<Figure size 800x800 with 2 Axes>"
      ]
     },
     "metadata": {},
     "output_type": "display_data"
    },
    {
     "data": {
      "text/plain": [
       "<Figure size 2000x500 with 0 Axes>"
      ]
     },
     "metadata": {},
     "output_type": "display_data"
    }
   ],
   "source": [
    "na_vals_b=pd.DataFrame({'Null Values':tweets_biden.isna().sum()})\n",
    "na_vals_b=na_vals_b.loc[na_vals_b['Null Values'] > 0]\n",
    "na_vals_t=pd.DataFrame({'Null Values':tweets_trump.isna().sum()})\n",
    "na_vals_t=na_vals_t.loc[na_vals_t['Null Values'] > 0]\n",
    "print(na_vals_t[\"Null Values\"].tolist())\n",
    "\n",
    "performance = [[na_vals_b,na_vals_t]]\n",
    "# Null values visualisation for tweets about Joe Biden and Donald Trump\n",
    "fig, ax=plt.subplots(2,1, figsize=(8,8), gridspec_kw={'hspace':0.7})\n",
    "\n",
    "na_vals_b.plot.bar(color=barcolors[3], **barstyle, ax=ax[0])\n",
    "# ax[0].set_title('Joe Biden Dataset')\n",
    "ax[0].set_xticklabels(ax[0].get_xticklabels(), rotation=90)\n",
    "na_vals_t.plot.bar(color=barcolors[6], **barstyle, ax=ax[1])\n",
    "# ax[1].set_title('Donald Trump Dataset')\n",
    "ax[1].set_xticklabels(ax[1].get_xticklabels(), rotation=90)\n",
    "plt.show()\n",
    "\n",
    "\n",
    "fig1 = plt.figure()"
   ]
  },
  {
   "cell_type": "code",
   "execution_count": 18,
   "id": "41949cd5",
   "metadata": {},
   "outputs": [],
   "source": [
    "text1=tweets_biden.loc[tweets_biden['country'] == 'United States of America']['tweet']\n",
    "text2=tweets_trump.loc[tweets_trump['country'] == 'United States of America']['tweet']"
   ]
  },
  {
   "cell_type": "code",
   "execution_count": 19,
   "id": "549bc57b",
   "metadata": {},
   "outputs": [
    {
     "name": "stderr",
     "output_type": "stream",
     "text": [
      "[nltk_data] Downloading package stopwords to\n",
      "[nltk_data]     /Users/jaishreeram/nltk_data...\n",
      "[nltk_data]   Package stopwords is already up-to-date!\n",
      "[nltk_data] Downloading package wordnet to\n",
      "[nltk_data]     /Users/jaishreeram/nltk_data...\n",
      "[nltk_data]   Package wordnet is already up-to-date!\n"
     ]
    },
    {
     "data": {
      "text/plain": [
       "True"
      ]
     },
     "execution_count": 19,
     "metadata": {},
     "output_type": "execute_result"
    }
   ],
   "source": [
    "import nltk\n",
    "nltk.download('stopwords')\n",
    "nltk.download('wordnet')"
   ]
  },
  {
   "cell_type": "code",
   "execution_count": 20,
   "id": "7c2bd4bc",
   "metadata": {},
   "outputs": [
    {
     "data": {
      "text/plain": [
       "['islandgirlprv',\n",
       " 'bradbeauregardj',\n",
       " 'meidastouch',\n",
       " 'ccp',\n",
       " 'thats',\n",
       " 'always',\n",
       " 'fine',\n",
       " 'jack',\n",
       " 'vijaya',\n",
       " 'dickc']"
      ]
     },
     "execution_count": 20,
     "metadata": {},
     "output_type": "execute_result"
    }
   ],
   "source": [
    "text1=tweets_biden.loc[tweets_biden['country'] == 'United States of America']['tweet']\n",
    "text2=tweets_trump.loc[tweets_trump['country'] == 'United States of America']['tweet']\n",
    "def clean1(sent):\n",
    "    filtered_sent=\"\"\n",
    "    stopwords = nltk.corpus.stopwords.words('english')\n",
    "    sent = (unicodedata.normalize('NFKD', sent)\n",
    "            .encode('ascii', 'ignore')\n",
    "            .decode('utf-8', 'ignore')\n",
    "            .lower())\n",
    "    sent = re.sub(r'#.+|https.+|[^(a-zA-Z)\\s]','',sent)\n",
    "    words=sent.split()\n",
    "    for word in words:\n",
    "        if word not in stopwords:\n",
    "            filtered_sent=filtered_sent+' '+word\n",
    "    return filtered_sent\n",
    "\n",
    "def clean2(text):\n",
    "    wnl = nltk.stem.WordNetLemmatizer()\n",
    "    stopwords = nltk.corpus.stopwords.words('english')\n",
    "    text = (unicodedata.normalize('NFKD', text)\n",
    "            .encode('ascii', 'ignore')\n",
    "            .decode('utf-8', 'ignore')\n",
    "            .lower())\n",
    "    words = re.sub(r'[^\\w\\s]', ' ', text).split()\n",
    "    return [wnl.lemmatize(word) for word in words if word not in stopwords]\n",
    "\n",
    "words1 = clean2(''.join(str(text1.apply(clean1).tolist())))\n",
    "words2 = clean2(''.join(str(text2.apply(clean1).tolist())))\n",
    "words1[:10]"
   ]
  },
  {
   "cell_type": "code",
   "execution_count": 21,
   "id": "e870ba17",
   "metadata": {},
   "outputs": [
    {
     "name": "stderr",
     "output_type": "stream",
     "text": [
      "/var/folders/yc/drdkfqm540l_z3lpnprppnt80000gn/T/ipykernel_51505/2095087823.py:1: DtypeWarning: Columns (3,6,11,13,14) have mixed types. Specify dtype option on import or set low_memory=False.\n",
      "  trump_df_init = pd.read_csv('hashtag_joebiden.csv', lineterminator='\\n')\n",
      "/var/folders/yc/drdkfqm540l_z3lpnprppnt80000gn/T/ipykernel_51505/2095087823.py:2: DtypeWarning: Columns (1,3,6,11,13,14) have mixed types. Specify dtype option on import or set low_memory=False.\n",
      "  biden_df_init = pd.read_csv('hashtag_donaldtrump.csv', lineterminator='\\n')\n"
     ]
    }
   ],
   "source": [
    "trump_df_init = pd.read_csv('hashtag_joebiden.csv', lineterminator='\\n')\n",
    "biden_df_init = pd.read_csv('hashtag_donaldtrump.csv', lineterminator='\\n')"
   ]
  },
  {
   "cell_type": "code",
   "execution_count": 43,
   "id": "471e8baf",
   "metadata": {},
   "outputs": [
    {
     "name": "stdout",
     "output_type": "stream",
     "text": [
      "Int64Index([     0,      2,      4,      5,      7,      8,     11,     12,\n",
      "                19,     22,\n",
      "            ...\n",
      "            725777, 725782, 725787, 725802, 725808, 725817, 725821, 725824,\n",
      "            725838, 725840],\n",
      "           dtype='int64', length=147395)\n"
     ]
    }
   ],
   "source": [
    "print(biden_df.index)"
   ]
  },
  {
   "cell_type": "code",
   "execution_count": 44,
   "id": "05f84374",
   "metadata": {},
   "outputs": [
    {
     "data": {
      "text/plain": [
       "'Biden - 290 \\nTrump 🤡 - 248 \\nEasy money babbyyyyyyy!! #maga #trump #biden #biden2020'"
      ]
     },
     "execution_count": 44,
     "metadata": {},
     "output_type": "execute_result"
    }
   ],
   "source": [
    "biden_df = biden_df_init[biden_df_init['country'] == 'United States of America'].copy()\n",
    "trump_df = trump_df_init[trump_df_init['country'] == 'United States of America'].copy()\n",
    "biden_df.loc[725840][\"tweet\"]"
   ]
  },
  {
   "cell_type": "code",
   "execution_count": 45,
   "id": "f5bbb62f",
   "metadata": {},
   "outputs": [],
   "source": [
    "biden_df.loc[:,'who'] = 'biden'\n",
    "trump_df.loc[:,'who'] = 'trump'\n",
    "data = pd.concat([biden_df, trump_df])"
   ]
  },
  {
   "cell_type": "code",
   "execution_count": 46,
   "id": "0d74ffd4",
   "metadata": {},
   "outputs": [],
   "source": [
    "def _calculate_languages_ratios(text):\n",
    "    languages_ratios = {}\n",
    "\n",
    "    tokens = wordpunct_tokenize(text)\n",
    "    words = [word.lower() for word in tokens]\n",
    "\n",
    "    # Compute per language included in nltk number of unique stopwords appearing in analyzed text\n",
    "    for language in stopwords.fileids():\n",
    "        stopwords_set = set(stopwords.words(language))\n",
    "        words_set = set(words)\n",
    "        common_elements = words_set.intersection(stopwords_set)\n",
    "\n",
    "        languages_ratios[language] = len(common_elements) # language \"score\"\n",
    "\n",
    "    return languages_ratios\n",
    "\n",
    "def detect_language(text):\n",
    "    ratios = _calculate_languages_ratios(text)\n",
    "\n",
    "    most_rated_language = max(ratios, key=ratios.get)\n",
    "\n",
    "    return most_rated_language"
   ]
  },
  {
   "cell_type": "code",
   "execution_count": 47,
   "id": "4298167d",
   "metadata": {},
   "outputs": [
    {
     "name": "stderr",
     "output_type": "stream",
     "text": [
      "[nltk_data] Downloading package stopwords to\n",
      "[nltk_data]     /Users/jaishreeram/nltk_data...\n",
      "[nltk_data]   Package stopwords is already up-to-date!\n"
     ]
    },
    {
     "data": {
      "text/plain": [
       "True"
      ]
     },
     "execution_count": 47,
     "metadata": {},
     "output_type": "execute_result"
    }
   ],
   "source": [
    "import sys, os\n",
    "import re\n",
    "from tqdm.auto import tqdm\n",
    "from nltk import word_tokenize, wordpunct_tokenize\n",
    "from nltk.corpus import stopwords\n",
    "\n",
    "import nltk\n",
    "nltk.download('stopwords')"
   ]
  },
  {
   "cell_type": "code",
   "execution_count": 48,
   "id": "88f108d3",
   "metadata": {},
   "outputs": [],
   "source": [
    "def filter_english_one_to_one(df, who):\n",
    "    tweets = df.query(f'who == \"{who}\" and state_code == state_code')\n",
    "    tweets['user_followers_count'] = pd.to_numeric(tweets['user_followers_count'], errors='coerce')  # Convert to numeric, replacing non-numeric values with NaN\n",
    "    tweets = tweets.sort_values('user_followers_count', ascending=False).drop_duplicates(['user_name'])[['tweet', 'long', 'lat', 'state_code']]\n",
    "    languages = [detect_language(val) for val in tqdm(tweets.tweet)]\n",
    "    filtered = tweets.loc[np.array(languages) == 'english']\n",
    "    return filtered\n",
    "def filter_english_sample_100(df, who):\n",
    "    tweets = df.query(f'who == \"{who}\" and state_code == state_code').sort_values('user_followers_count',ascending=False)[['user_id','tweet','long','lat','state_code']]\n",
    "    tweets = tweets.groupby(\"user_id\").apply(\n",
    "        lambda group_df: group_df.sample(100) if len(group_df) > 100 else group_df\n",
    "    ).reset_index(drop=True)\n",
    "    languages = [detect_language(val) for val in tqdm(tweets.tweet)]\n",
    "    filtered = tweets.loc[np.array(languages) == 'english']\n",
    "    return filtered"
   ]
  },
  {
   "cell_type": "code",
   "execution_count": 49,
   "id": "3e1efc8c",
   "metadata": {},
   "outputs": [
    {
     "name": "stderr",
     "output_type": "stream",
     "text": [
      "/var/folders/yc/drdkfqm540l_z3lpnprppnt80000gn/T/ipykernel_51505/1125556418.py:3: SettingWithCopyWarning: \n",
      "A value is trying to be set on a copy of a slice from a DataFrame.\n",
      "Try using .loc[row_indexer,col_indexer] = value instead\n",
      "\n",
      "See the caveats in the documentation: https://pandas.pydata.org/pandas-docs/stable/user_guide/indexing.html#returning-a-view-versus-a-copy\n",
      "  tweets['user_followers_count'] = pd.to_numeric(tweets['user_followers_count'], errors='coerce')  # Convert to numeric, replacing non-numeric values with NaN\n"
     ]
    },
    {
     "data": {
      "application/vnd.jupyter.widget-view+json": {
       "model_id": "66059150b28144f29eca9842ad5c930b",
       "version_major": 2,
       "version_minor": 0
      },
      "text/plain": [
       "  0%|          | 0/33477 [00:00<?, ?it/s]"
      ]
     },
     "metadata": {},
     "output_type": "display_data"
    }
   ],
   "source": [
    "filt_biden_df = filter_english_one_to_one(data, 'biden')"
   ]
  },
  {
   "cell_type": "code",
   "execution_count": 50,
   "id": "ed48f6fd",
   "metadata": {},
   "outputs": [
    {
     "name": "stderr",
     "output_type": "stream",
     "text": [
      "/var/folders/yc/drdkfqm540l_z3lpnprppnt80000gn/T/ipykernel_51505/1125556418.py:3: SettingWithCopyWarning: \n",
      "A value is trying to be set on a copy of a slice from a DataFrame.\n",
      "Try using .loc[row_indexer,col_indexer] = value instead\n",
      "\n",
      "See the caveats in the documentation: https://pandas.pydata.org/pandas-docs/stable/user_guide/indexing.html#returning-a-view-versus-a-copy\n",
      "  tweets['user_followers_count'] = pd.to_numeric(tweets['user_followers_count'], errors='coerce')  # Convert to numeric, replacing non-numeric values with NaN\n"
     ]
    },
    {
     "data": {
      "application/vnd.jupyter.widget-view+json": {
       "model_id": "ccc1074eabf746d2bdad7246b7c03903",
       "version_major": 2,
       "version_minor": 0
      },
      "text/plain": [
       "  0%|          | 0/36345 [00:00<?, ?it/s]"
      ]
     },
     "metadata": {},
     "output_type": "display_data"
    }
   ],
   "source": [
    "filt_trump_df = filter_english_one_to_one(data, 'trump')"
   ]
  },
  {
   "cell_type": "code",
   "execution_count": 51,
   "id": "0a8a5c69",
   "metadata": {},
   "outputs": [],
   "source": [
    "def tweet_clean_up(df):\n",
    "    remove_links = lambda txt: re.sub(r'\\w+:\\/{2}[\\d\\w-]+(\\.[\\d\\w-]+)*(?:(?:\\/[^\\s/]*))*', '', txt)\n",
    "    remove_special = lambda txt: re.sub(r'[^a-zA-Z0-9!,.\\'\\\"\\?\\-\\s]', '', txt)\n",
    "    remove_newline = lambda txt: re.sub(r'\\n', ' ', txt)\n",
    "    df['tweet'] = df['tweet'].apply(lambda x: remove_newline(remove_special(remove_links(x))))\n",
    "    return df"
   ]
  },
  {
   "cell_type": "code",
   "execution_count": 54,
   "id": "30eb3008",
   "metadata": {},
   "outputs": [],
   "source": [
    "def tweet_clean_up2(x):\n",
    "    remove_links = lambda txt: re.sub(r'\\w+:\\/{2}[\\d\\w-]+(\\.[\\d\\w-]+)*(?:(?:\\/[^\\s/]*))*', '', txt)\n",
    "    remove_special = lambda txt: re.sub(r'[^a-zA-Z0-9!,.\\'\\\"\\?\\-\\s]', '', txt)\n",
    "    remove_newline = lambda txt: re.sub(r'\\n', ' ', txt)\n",
    "    \n",
    "    return remove_newline(remove_special(remove_links(x)))"
   ]
  },
  {
   "cell_type": "code",
   "execution_count": 55,
   "id": "fdffa7c8",
   "metadata": {},
   "outputs": [
    {
     "data": {
      "text/plain": [
       "'Biden - 290  Trump  - 248  Easy money babbyyyyyyy!! maga trump biden biden2020'"
      ]
     },
     "execution_count": 55,
     "metadata": {},
     "output_type": "execute_result"
    }
   ],
   "source": [
    "tweet_clean_up2(\"Biden - 290 \\nTrump 🤡 - 248 \\nEasy money babbyyyyyyy!! #maga #trump #biden #biden2020\")"
   ]
  },
  {
   "cell_type": "code",
   "execution_count": 56,
   "id": "9b228589",
   "metadata": {},
   "outputs": [],
   "source": [
    "cleaned_biden = tweet_clean_up(filt_biden_df)\n",
    "cleaned_trump = tweet_clean_up(filt_trump_df)"
   ]
  },
  {
   "cell_type": "code",
   "execution_count": 57,
   "id": "fabaa29e",
   "metadata": {},
   "outputs": [],
   "source": [
    "cleaned_biden.loc[:,'sentiment'] = 0\n",
    "cleaned_trump.loc[:,'sentiment'] = 0"
   ]
  },
  {
   "cell_type": "code",
   "execution_count": 58,
   "id": "9bf0e8d7",
   "metadata": {},
   "outputs": [],
   "source": [
    "cleaned_biden.to_csv('cleaned_sample_100_biden.csv', index=False, header=True)\n",
    "cleaned_trump.to_csv('cleaned_sample_100_trump.csv', index=False, header=True)"
   ]
  },
  {
   "cell_type": "code",
   "execution_count": 60,
   "id": "c86ec3e3",
   "metadata": {},
   "outputs": [
    {
     "name": "stdout",
     "output_type": "stream",
     "text": [
      "Int64Index([465323, 337282, 109523, 286861, 384381, 495250, 103692,  59019,\n",
      "            230817, 466163,\n",
      "            ...\n",
      "             67752, 373130, 332877, 410273,  95270, 126406, 166107, 332110,\n",
      "            189520, 119343],\n",
      "           dtype='int64', length=11244)\n"
     ]
    }
   ],
   "source": [
    "print(cleaned_trump.index)"
   ]
  },
  {
   "cell_type": "code",
   "execution_count": 61,
   "id": "c1852525",
   "metadata": {},
   "outputs": [
    {
     "data": {
      "text/plain": [
       "'JoeBiden BidenHarrisToSaveAmerica '"
      ]
     },
     "execution_count": 61,
     "metadata": {},
     "output_type": "execute_result"
    }
   ],
   "source": [
    "cleaned_trump.loc[119343][\"tweet\"]"
   ]
  },
  {
   "cell_type": "code",
   "execution_count": 5,
   "id": "0939dc38",
   "metadata": {},
   "outputs": [],
   "source": [
    "import tensorflow as tf\n",
    "import pandas as pd\n",
    "\n",
    "# physical_devices = tf.config.list_physical_devices('GPU')\n",
    "# for dev in physical_devices:\n",
    "#     tf.config.experimental.set_memory_growth(dev, True)\n",
    "\n",
    "# physical_devices"
   ]
  },
  {
   "cell_type": "code",
   "execution_count": 6,
   "id": "a02af188",
   "metadata": {},
   "outputs": [
    {
     "name": "stdout",
     "output_type": "stream",
     "text": [
      "Requirement already satisfied: transformers in /Users/jaishreeram/anaconda3/lib/python3.11/site-packages (4.43.3)\n",
      "Requirement already satisfied: command in /Users/jaishreeram/anaconda3/lib/python3.11/site-packages (0.1.0)\n",
      "Requirement already satisfied: filelock in /Users/jaishreeram/anaconda3/lib/python3.11/site-packages (from transformers) (3.9.0)\n",
      "Requirement already satisfied: huggingface-hub<1.0,>=0.23.2 in /Users/jaishreeram/anaconda3/lib/python3.11/site-packages (from transformers) (0.24.0)\n",
      "Requirement already satisfied: numpy>=1.17 in /Users/jaishreeram/anaconda3/lib/python3.11/site-packages (from transformers) (1.23.5)\n",
      "Requirement already satisfied: packaging>=20.0 in /Users/jaishreeram/anaconda3/lib/python3.11/site-packages (from transformers) (23.0)\n",
      "Requirement already satisfied: pyyaml>=5.1 in /Users/jaishreeram/anaconda3/lib/python3.11/site-packages (from transformers) (6.0)\n",
      "Requirement already satisfied: regex!=2019.12.17 in /Users/jaishreeram/anaconda3/lib/python3.11/site-packages (from transformers) (2022.7.9)\n",
      "Requirement already satisfied: requests in /Users/jaishreeram/anaconda3/lib/python3.11/site-packages (from transformers) (2.31.0)\n",
      "Requirement already satisfied: safetensors>=0.4.1 in /Users/jaishreeram/anaconda3/lib/python3.11/site-packages (from transformers) (0.4.3)\n",
      "Requirement already satisfied: tokenizers<0.20,>=0.19 in /Users/jaishreeram/anaconda3/lib/python3.11/site-packages (from transformers) (0.19.1)\n",
      "Requirement already satisfied: tqdm>=4.27 in /Users/jaishreeram/anaconda3/lib/python3.11/site-packages (from transformers) (4.65.0)\n",
      "Requirement already satisfied: setuptools in /Users/jaishreeram/anaconda3/lib/python3.11/site-packages (from command) (68.0.0)\n",
      "Requirement already satisfied: fsspec>=2023.5.0 in /Users/jaishreeram/anaconda3/lib/python3.11/site-packages (from huggingface-hub<1.0,>=0.23.2->transformers) (2024.6.1)\n",
      "Requirement already satisfied: typing-extensions>=3.7.4.3 in /Users/jaishreeram/anaconda3/lib/python3.11/site-packages (from huggingface-hub<1.0,>=0.23.2->transformers) (4.5.0)\n",
      "Requirement already satisfied: charset-normalizer<4,>=2 in /Users/jaishreeram/anaconda3/lib/python3.11/site-packages (from requests->transformers) (2.0.4)\n",
      "Requirement already satisfied: idna<4,>=2.5 in /Users/jaishreeram/anaconda3/lib/python3.11/site-packages (from requests->transformers) (3.4)\n",
      "Requirement already satisfied: urllib3<3,>=1.21.1 in /Users/jaishreeram/anaconda3/lib/python3.11/site-packages (from requests->transformers) (1.26.16)\n",
      "Requirement already satisfied: certifi>=2017.4.17 in /Users/jaishreeram/anaconda3/lib/python3.11/site-packages (from requests->transformers) (2023.7.22)\n",
      "Note: you may need to restart the kernel to use updated packages.\n"
     ]
    }
   ],
   "source": [
    "pip install transformers command"
   ]
  },
  {
   "cell_type": "code",
   "execution_count": 7,
   "id": "7dd60b73",
   "metadata": {},
   "outputs": [
    {
     "name": "stderr",
     "output_type": "stream",
     "text": [
      "All PyTorch model weights were used when initializing TFBertForSequenceClassification.\n",
      "\n",
      "Some weights or buffers of the TF 2.0 model TFBertForSequenceClassification were not initialized from the PyTorch model and are newly initialized: ['classifier.weight', 'classifier.bias']\n",
      "You should probably TRAIN this model on a down-stream task to be able to use it for predictions and inference.\n"
     ]
    }
   ],
   "source": [
    "from transformers import BertTokenizer, TFBertForSequenceClassification\n",
    "from transformers import InputExample, InputFeatures\n",
    "\n",
    "model = TFBertForSequenceClassification.from_pretrained(\"bert-base-uncased\")\n",
    "tokenizer = BertTokenizer.from_pretrained(\"bert-base-uncased\")"
   ]
  },
  {
   "cell_type": "code",
   "execution_count": 8,
   "id": "643433d4",
   "metadata": {},
   "outputs": [
    {
     "name": "stdout",
     "output_type": "stream",
     "text": [
      "Model: \"tf_bert_for_sequence_classification\"\n",
      "_________________________________________________________________\n",
      " Layer (type)                Output Shape              Param #   \n",
      "=================================================================\n",
      " bert (TFBertMainLayer)      multiple                  109482240 \n",
      "                                                                 \n",
      " dropout_37 (Dropout)        multiple                  0 (unused)\n",
      "                                                                 \n",
      " classifier (Dense)          multiple                  1538      \n",
      "                                                                 \n",
      "=================================================================\n",
      "Total params: 109483778 (417.65 MB)\n",
      "Trainable params: 109483778 (417.65 MB)\n",
      "Non-trainable params: 0 (0.00 Byte)\n",
      "_________________________________________________________________\n"
     ]
    }
   ],
   "source": [
    "model.summary()"
   ]
  },
  {
   "cell_type": "code",
   "execution_count": 9,
   "id": "2918ba69",
   "metadata": {},
   "outputs": [],
   "source": [
    "URL = \"https://ai.stanford.edu/~amaas/data/sentiment/aclImdb_v1.tar.gz\"\n",
    "\n",
    "dataset = tf.keras.utils.get_file(fname=\"aclImdb_v1.tar.gz\", \n",
    "                                  origin=URL,\n",
    "                                  untar=True,\n",
    "                                  cache_dir='.',\n",
    "                                  cache_subdir='')"
   ]
  },
  {
   "cell_type": "code",
   "execution_count": 10,
   "id": "927fc250",
   "metadata": {},
   "outputs": [
    {
     "name": "stdout",
     "output_type": "stream",
     "text": [
      "['urls_unsup.txt', '.DS_Store', 'neg', 'urls_pos.txt', 'urls_neg.txt', 'pos', 'unsupBow.feat', 'labeledBow.feat']\n"
     ]
    }
   ],
   "source": [
    "# The shutil module offers a number of high-level \n",
    "# operations on files and collections of files.\n",
    "import os\n",
    "import shutil\n",
    "# Create main directory path (\"/aclImdb\")\n",
    "main_dir = os.path.join(os.path.dirname(dataset), 'aclImdb')\n",
    "# Create sub directory path (\"/aclImdb/train\")\n",
    "train_dir = os.path.join(main_dir, 'train')\n",
    "# Remove unsup folder since this is a supervised learning task\n",
    "remove_dir = os.path.join(train_dir, 'unsup')\n",
    "shutil.rmtree(remove_dir)\n",
    "# View the final train folder\n",
    "print(os.listdir(train_dir))"
   ]
  },
  {
   "cell_type": "code",
   "execution_count": 11,
   "id": "062bc3af",
   "metadata": {},
   "outputs": [
    {
     "name": "stdout",
     "output_type": "stream",
     "text": [
      "Found 25000 files belonging to 2 classes.\n",
      "Using 20000 files for training.\n",
      "Found 25000 files belonging to 2 classes.\n",
      "Using 5000 files for validation.\n"
     ]
    }
   ],
   "source": [
    "# We create a training dataset and a validation \n",
    "# dataset from our \"aclImdb/train\" directory with a 80/20 split.\n",
    "train = tf.keras.preprocessing.text_dataset_from_directory(\n",
    "    'aclImdb/train', batch_size=30000, validation_split=0.2, \n",
    "    subset='training', seed=123)\n",
    "test = tf.keras.preprocessing.text_dataset_from_directory(\n",
    "    'aclImdb/train', batch_size=30000, validation_split=0.2, \n",
    "    subset='validation', seed=123)"
   ]
  },
  {
   "cell_type": "code",
   "execution_count": 12,
   "id": "79376b2e",
   "metadata": {},
   "outputs": [
    {
     "data": {
      "text/html": [
       "<div>\n",
       "<style scoped>\n",
       "    .dataframe tbody tr th:only-of-type {\n",
       "        vertical-align: middle;\n",
       "    }\n",
       "\n",
       "    .dataframe tbody tr th {\n",
       "        vertical-align: top;\n",
       "    }\n",
       "\n",
       "    .dataframe thead th {\n",
       "        text-align: right;\n",
       "    }\n",
       "</style>\n",
       "<table border=\"1\" class=\"dataframe\">\n",
       "  <thead>\n",
       "    <tr style=\"text-align: right;\">\n",
       "      <th></th>\n",
       "      <th>DATA_COLUMN</th>\n",
       "      <th>LABEL_COLUMN</th>\n",
       "    </tr>\n",
       "  </thead>\n",
       "  <tbody>\n",
       "    <tr>\n",
       "      <th>0</th>\n",
       "      <td>Canadian director Vincenzo Natali took the art...</td>\n",
       "      <td>1</td>\n",
       "    </tr>\n",
       "    <tr>\n",
       "      <th>1</th>\n",
       "      <td>I gave this film 10 not because it is a superb...</td>\n",
       "      <td>1</td>\n",
       "    </tr>\n",
       "    <tr>\n",
       "      <th>2</th>\n",
       "      <td>I admit to being somewhat jaded about the movi...</td>\n",
       "      <td>1</td>\n",
       "    </tr>\n",
       "    <tr>\n",
       "      <th>3</th>\n",
       "      <td>For a long time, 'The Menagerie' was my favori...</td>\n",
       "      <td>1</td>\n",
       "    </tr>\n",
       "    <tr>\n",
       "      <th>4</th>\n",
       "      <td>A truly frightening film. Feels as if it were ...</td>\n",
       "      <td>0</td>\n",
       "    </tr>\n",
       "  </tbody>\n",
       "</table>\n",
       "</div>"
      ],
      "text/plain": [
       "                                         DATA_COLUMN LABEL_COLUMN\n",
       "0  Canadian director Vincenzo Natali took the art...            1\n",
       "1  I gave this film 10 not because it is a superb...            1\n",
       "2  I admit to being somewhat jaded about the movi...            1\n",
       "3  For a long time, 'The Menagerie' was my favori...            1\n",
       "4  A truly frightening film. Feels as if it were ...            0"
      ]
     },
     "execution_count": 12,
     "metadata": {},
     "output_type": "execute_result"
    }
   ],
   "source": [
    "for i in train.take(1):\n",
    "  train_feat = i[0].numpy()\n",
    "  train_lab = i[1].numpy()\n",
    "\n",
    "train = pd.DataFrame([train_feat, train_lab]).T\n",
    "train.columns = ['DATA_COLUMN', 'LABEL_COLUMN']\n",
    "train['DATA_COLUMN'] = train['DATA_COLUMN'].str.decode(\"utf-8\")\n",
    "train.head()"
   ]
  },
  {
   "cell_type": "code",
   "execution_count": 13,
   "id": "ef5e4e23",
   "metadata": {},
   "outputs": [
    {
     "data": {
      "text/html": [
       "<div>\n",
       "<style scoped>\n",
       "    .dataframe tbody tr th:only-of-type {\n",
       "        vertical-align: middle;\n",
       "    }\n",
       "\n",
       "    .dataframe tbody tr th {\n",
       "        vertical-align: top;\n",
       "    }\n",
       "\n",
       "    .dataframe thead th {\n",
       "        text-align: right;\n",
       "    }\n",
       "</style>\n",
       "<table border=\"1\" class=\"dataframe\">\n",
       "  <thead>\n",
       "    <tr style=\"text-align: right;\">\n",
       "      <th></th>\n",
       "      <th>DATA_COLUMN</th>\n",
       "      <th>LABEL_COLUMN</th>\n",
       "    </tr>\n",
       "  </thead>\n",
       "  <tbody>\n",
       "    <tr>\n",
       "      <th>0</th>\n",
       "      <td>I can't believe that so much talent can be was...</td>\n",
       "      <td>0</td>\n",
       "    </tr>\n",
       "    <tr>\n",
       "      <th>1</th>\n",
       "      <td>This movie blows - let's get that straight rig...</td>\n",
       "      <td>0</td>\n",
       "    </tr>\n",
       "    <tr>\n",
       "      <th>2</th>\n",
       "      <td>The saddest thing about this \"tribute\" is that...</td>\n",
       "      <td>0</td>\n",
       "    </tr>\n",
       "    <tr>\n",
       "      <th>3</th>\n",
       "      <td>I'm only rating this film as a 3 out of pity b...</td>\n",
       "      <td>0</td>\n",
       "    </tr>\n",
       "    <tr>\n",
       "      <th>4</th>\n",
       "      <td>Something surprised me about this movie - it w...</td>\n",
       "      <td>1</td>\n",
       "    </tr>\n",
       "  </tbody>\n",
       "</table>\n",
       "</div>"
      ],
      "text/plain": [
       "                                         DATA_COLUMN LABEL_COLUMN\n",
       "0  I can't believe that so much talent can be was...            0\n",
       "1  This movie blows - let's get that straight rig...            0\n",
       "2  The saddest thing about this \"tribute\" is that...            0\n",
       "3  I'm only rating this film as a 3 out of pity b...            0\n",
       "4  Something surprised me about this movie - it w...            1"
      ]
     },
     "execution_count": 13,
     "metadata": {},
     "output_type": "execute_result"
    }
   ],
   "source": [
    "for j in test.take(1):\n",
    "  test_feat = j[0].numpy()\n",
    "  test_lab = j[1].numpy()\n",
    "\n",
    "test = pd.DataFrame([test_feat, test_lab]).T\n",
    "test.columns = ['DATA_COLUMN', 'LABEL_COLUMN']\n",
    "test['DATA_COLUMN'] = test['DATA_COLUMN'].str.decode(\"utf-8\")\n",
    "test.head()"
   ]
  },
  {
   "cell_type": "code",
   "execution_count": 14,
   "id": "650f16bb",
   "metadata": {},
   "outputs": [
    {
     "data": {
      "text/plain": [
       "InputExample(guid=None, text_a='Hello, world', text_b=None, label=1)"
      ]
     },
     "execution_count": 14,
     "metadata": {},
     "output_type": "execute_result"
    }
   ],
   "source": [
    "InputExample(guid=None,\n",
    "             text_a = \"Hello, world\",\n",
    "             text_b = None,\n",
    "             label = 1)"
   ]
  },
  {
   "cell_type": "code",
   "execution_count": 15,
   "id": "1235681b",
   "metadata": {},
   "outputs": [],
   "source": [
    "def convert_data_to_examples(train, test, DATA_COLUMN, LABEL_COLUMN): \n",
    "  train_InputExamples = train.apply(lambda x: InputExample(guid=None, # Globally unique ID for bookkeeping, unused in this case\n",
    "                                                          text_a = x[DATA_COLUMN], \n",
    "                                                          text_b = None,\n",
    "                                                          label = x[LABEL_COLUMN]), axis = 1)\n",
    "\n",
    "  validation_InputExamples = test.apply(lambda x: InputExample(guid=None, # Globally unique ID for bookkeeping, unused in this case\n",
    "                                                          text_a = x[DATA_COLUMN], \n",
    "                                                          text_b = None,\n",
    "                                                          label = x[LABEL_COLUMN]), axis = 1)\n",
    "  \n",
    "  return train_InputExamples, validation_InputExamples\n",
    "  \n",
    "def convert_examples_to_tf_dataset(examples, tokenizer, max_length=128):\n",
    "    features = [] # -> will hold InputFeatures to be converted later\n",
    "\n",
    "    for e in examples:\n",
    "        # Documentation is really strong for this method, so please take a look at it\n",
    "        input_dict = tokenizer.encode_plus(\n",
    "            e.text_a,\n",
    "            add_special_tokens=True,\n",
    "            max_length=max_length, # truncates if len(s) > max_length\n",
    "            return_token_type_ids=True,\n",
    "            return_attention_mask=True,\n",
    "            pad_to_max_length=True, # pads to the right by default # CHECK THIS for pad_to_max_length\n",
    "            truncation=True\n",
    "        )\n",
    "\n",
    "        input_ids, token_type_ids, attention_mask = (input_dict[\"input_ids\"],\n",
    "            input_dict[\"token_type_ids\"], input_dict['attention_mask'])\n",
    "\n",
    "        features.append(\n",
    "            InputFeatures(\n",
    "                input_ids=input_ids, attention_mask=attention_mask, token_type_ids=token_type_ids, label=e.label\n",
    "            )\n",
    "        )\n",
    "\n",
    "    def gen():\n",
    "        for f in features:\n",
    "            yield (\n",
    "                {\n",
    "                    \"input_ids\": f.input_ids,\n",
    "                    \"attention_mask\": f.attention_mask,\n",
    "                    \"token_type_ids\": f.token_type_ids,\n",
    "                },\n",
    "                f.label,\n",
    "            )\n",
    "\n",
    "    return tf.data.Dataset.from_generator(\n",
    "        gen,\n",
    "        ({\"input_ids\": tf.int32, \"attention_mask\": tf.int32, \"token_type_ids\": tf.int32}, tf.int64),\n",
    "        (\n",
    "            {\n",
    "                \"input_ids\": tf.TensorShape([None]),\n",
    "                \"attention_mask\": tf.TensorShape([None]),\n",
    "                \"token_type_ids\": tf.TensorShape([None]),\n",
    "            },\n",
    "            tf.TensorShape([]),\n",
    "        ),\n",
    "    )\n",
    "\n",
    "\n",
    "DATA_COLUMN = 'DATA_COLUMN'\n",
    "LABEL_COLUMN = 'LABEL_COLUMN'"
   ]
  },
  {
   "cell_type": "code",
   "execution_count": 16,
   "id": "ccb47e6e",
   "metadata": {},
   "outputs": [
    {
     "name": "stderr",
     "output_type": "stream",
     "text": [
      "/Users/jaishreeram/anaconda3/lib/python3.11/site-packages/transformers/tokenization_utils_base.py:2888: FutureWarning: The `pad_to_max_length` argument is deprecated and will be removed in a future version, use `padding=True` or `padding='longest'` to pad to the longest sequence in the batch, or use `padding='max_length'` to pad to a max length. In this case, you can give a specific length with `max_length` (e.g. `max_length=45`) or leave max_length to None to pad to the maximal input size of the model (e.g. 512 for Bert).\n",
      "  warnings.warn(\n"
     ]
    }
   ],
   "source": [
    "train_InputExamples, validation_InputExamples = convert_data_to_examples(train, test, DATA_COLUMN, LABEL_COLUMN)\n",
    "\n",
    "train_data = convert_examples_to_tf_dataset(list(train_InputExamples), tokenizer)\n",
    "train_data = train_data.shuffle(100).batch(16).repeat(2)\n",
    "\n",
    "validation_data = convert_examples_to_tf_dataset(list(validation_InputExamples), tokenizer)\n",
    "validation_data = validation_data.batch(16)"
   ]
  },
  {
   "cell_type": "code",
   "execution_count": 17,
   "id": "e91e9cad",
   "metadata": {},
   "outputs": [
    {
     "name": "stderr",
     "output_type": "stream",
     "text": [
      "WARNING:absl:At this time, the v2.11+ optimizer `tf.keras.optimizers.Adam` runs slowly on M1/M2 Macs, please use the legacy TF-Keras optimizer instead, located at `tf.keras.optimizers.legacy.Adam`.\n"
     ]
    },
    {
     "name": "stdout",
     "output_type": "stream",
     "text": [
      "Model: \"tf_bert_for_sequence_classification\"\n",
      "_________________________________________________________________\n",
      " Layer (type)                Output Shape              Param #   \n",
      "=================================================================\n",
      " bert (TFBertMainLayer)      multiple                  109482240 \n",
      "                                                                 \n",
      " dropout_37 (Dropout)        multiple                  0 (unused)\n",
      "                                                                 \n",
      " classifier (Dense)          multiple                  1538      \n",
      "                                                                 \n",
      "=================================================================\n",
      "Total params: 109483778 (417.65 MB)\n",
      "Trainable params: 109483778 (417.65 MB)\n",
      "Non-trainable params: 0 (0.00 Byte)\n",
      "_________________________________________________________________\n"
     ]
    }
   ],
   "source": [
    "model.compile(optimizer=tf.keras.optimizers.Adam(learning_rate=3e-5, epsilon=1e-08, clipnorm=1.0), \n",
    "              loss=tf.keras.losses.SparseCategoricalCrossentropy(from_logits=True), \n",
    "              metrics=[tf.keras.metrics.SparseCategoricalAccuracy('accuracy')])\n",
    "\n",
    "model.summary()"
   ]
  },
  {
   "cell_type": "code",
   "execution_count": 18,
   "id": "c0a0486a",
   "metadata": {},
   "outputs": [
    {
     "name": "stdout",
     "output_type": "stream",
     "text": [
      "   1760/Unknown - 20246s 11s/step - loss: 0.3025 - accuracy: 0.8694"
     ]
    },
    {
     "ename": "KeyboardInterrupt",
     "evalue": "",
     "output_type": "error",
     "traceback": [
      "\u001b[0;31m---------------------------------------------------------------------------\u001b[0m",
      "\u001b[0;31mKeyboardInterrupt\u001b[0m                         Traceback (most recent call last)",
      "Cell \u001b[0;32mIn[18], line 5\u001b[0m\n\u001b[1;32m      2\u001b[0m mcp_save \u001b[38;5;241m=\u001b[39m tf\u001b[38;5;241m.\u001b[39mkeras\u001b[38;5;241m.\u001b[39mcallbacks\u001b[38;5;241m.\u001b[39mModelCheckpoint(\u001b[38;5;124m'\u001b[39m\u001b[38;5;124m/Users/jaishreeram/Desktop/DS/mdl_wts.keras\u001b[39m\u001b[38;5;124m'\u001b[39m, save_best_only\u001b[38;5;241m=\u001b[39m\u001b[38;5;28;01mTrue\u001b[39;00m, monitor\u001b[38;5;241m=\u001b[39m\u001b[38;5;124m'\u001b[39m\u001b[38;5;124mval_accuracy\u001b[39m\u001b[38;5;124m'\u001b[39m, mode\u001b[38;5;241m=\u001b[39m\u001b[38;5;124m'\u001b[39m\u001b[38;5;124mmax\u001b[39m\u001b[38;5;124m'\u001b[39m)\n\u001b[1;32m      4\u001b[0m \u001b[38;5;66;03m# Fit the model\u001b[39;00m\n\u001b[0;32m----> 5\u001b[0m history \u001b[38;5;241m=\u001b[39m model\u001b[38;5;241m.\u001b[39mfit(\n\u001b[1;32m      6\u001b[0m     train_data,\n\u001b[1;32m      7\u001b[0m     epochs\u001b[38;5;241m=\u001b[39m\u001b[38;5;241m1\u001b[39m,\n\u001b[1;32m      8\u001b[0m     validation_data\u001b[38;5;241m=\u001b[39mvalidation_data,\n\u001b[1;32m      9\u001b[0m     callbacks\u001b[38;5;241m=\u001b[39m[red_lr, mcp_save]\n\u001b[1;32m     10\u001b[0m )\n",
      "File \u001b[0;32m~/anaconda3/lib/python3.11/site-packages/transformers/modeling_tf_utils.py:1229\u001b[0m, in \u001b[0;36mTFPreTrainedModel.fit\u001b[0;34m(self, *args, **kwargs)\u001b[0m\n\u001b[1;32m   1226\u001b[0m \u001b[38;5;129m@functools\u001b[39m\u001b[38;5;241m.\u001b[39mwraps(keras\u001b[38;5;241m.\u001b[39mModel\u001b[38;5;241m.\u001b[39mfit)\n\u001b[1;32m   1227\u001b[0m \u001b[38;5;28;01mdef\u001b[39;00m \u001b[38;5;21mfit\u001b[39m(\u001b[38;5;28mself\u001b[39m, \u001b[38;5;241m*\u001b[39margs, \u001b[38;5;241m*\u001b[39m\u001b[38;5;241m*\u001b[39mkwargs):\n\u001b[1;32m   1228\u001b[0m     args, kwargs \u001b[38;5;241m=\u001b[39m convert_batch_encoding(\u001b[38;5;241m*\u001b[39margs, \u001b[38;5;241m*\u001b[39m\u001b[38;5;241m*\u001b[39mkwargs)\n\u001b[0;32m-> 1229\u001b[0m     \u001b[38;5;28;01mreturn\u001b[39;00m \u001b[38;5;28msuper\u001b[39m()\u001b[38;5;241m.\u001b[39mfit(\u001b[38;5;241m*\u001b[39margs, \u001b[38;5;241m*\u001b[39m\u001b[38;5;241m*\u001b[39mkwargs)\n",
      "File \u001b[0;32m~/anaconda3/lib/python3.11/site-packages/tf_keras/src/utils/traceback_utils.py:65\u001b[0m, in \u001b[0;36mfilter_traceback.<locals>.error_handler\u001b[0;34m(*args, **kwargs)\u001b[0m\n\u001b[1;32m     63\u001b[0m filtered_tb \u001b[38;5;241m=\u001b[39m \u001b[38;5;28;01mNone\u001b[39;00m\n\u001b[1;32m     64\u001b[0m \u001b[38;5;28;01mtry\u001b[39;00m:\n\u001b[0;32m---> 65\u001b[0m     \u001b[38;5;28;01mreturn\u001b[39;00m fn(\u001b[38;5;241m*\u001b[39margs, \u001b[38;5;241m*\u001b[39m\u001b[38;5;241m*\u001b[39mkwargs)\n\u001b[1;32m     66\u001b[0m \u001b[38;5;28;01mexcept\u001b[39;00m \u001b[38;5;167;01mException\u001b[39;00m \u001b[38;5;28;01mas\u001b[39;00m e:\n\u001b[1;32m     67\u001b[0m     filtered_tb \u001b[38;5;241m=\u001b[39m _process_traceback_frames(e\u001b[38;5;241m.\u001b[39m__traceback__)\n",
      "File \u001b[0;32m~/anaconda3/lib/python3.11/site-packages/tf_keras/src/engine/training.py:1804\u001b[0m, in \u001b[0;36mModel.fit\u001b[0;34m(self, x, y, batch_size, epochs, verbose, callbacks, validation_split, validation_data, shuffle, class_weight, sample_weight, initial_epoch, steps_per_epoch, validation_steps, validation_batch_size, validation_freq, max_queue_size, workers, use_multiprocessing)\u001b[0m\n\u001b[1;32m   1796\u001b[0m \u001b[38;5;28;01mwith\u001b[39;00m tf\u001b[38;5;241m.\u001b[39mprofiler\u001b[38;5;241m.\u001b[39mexperimental\u001b[38;5;241m.\u001b[39mTrace(\n\u001b[1;32m   1797\u001b[0m     \u001b[38;5;124m\"\u001b[39m\u001b[38;5;124mtrain\u001b[39m\u001b[38;5;124m\"\u001b[39m,\n\u001b[1;32m   1798\u001b[0m     epoch_num\u001b[38;5;241m=\u001b[39mepoch,\n\u001b[0;32m   (...)\u001b[0m\n\u001b[1;32m   1801\u001b[0m     _r\u001b[38;5;241m=\u001b[39m\u001b[38;5;241m1\u001b[39m,\n\u001b[1;32m   1802\u001b[0m ):\n\u001b[1;32m   1803\u001b[0m     callbacks\u001b[38;5;241m.\u001b[39mon_train_batch_begin(step)\n\u001b[0;32m-> 1804\u001b[0m     tmp_logs \u001b[38;5;241m=\u001b[39m \u001b[38;5;28mself\u001b[39m\u001b[38;5;241m.\u001b[39mtrain_function(iterator)\n\u001b[1;32m   1805\u001b[0m     \u001b[38;5;28;01mif\u001b[39;00m data_handler\u001b[38;5;241m.\u001b[39mshould_sync:\n\u001b[1;32m   1806\u001b[0m         context\u001b[38;5;241m.\u001b[39masync_wait()\n",
      "File \u001b[0;32m~/anaconda3/lib/python3.11/site-packages/tensorflow/python/util/traceback_utils.py:150\u001b[0m, in \u001b[0;36mfilter_traceback.<locals>.error_handler\u001b[0;34m(*args, **kwargs)\u001b[0m\n\u001b[1;32m    148\u001b[0m filtered_tb \u001b[38;5;241m=\u001b[39m \u001b[38;5;28;01mNone\u001b[39;00m\n\u001b[1;32m    149\u001b[0m \u001b[38;5;28;01mtry\u001b[39;00m:\n\u001b[0;32m--> 150\u001b[0m   \u001b[38;5;28;01mreturn\u001b[39;00m fn(\u001b[38;5;241m*\u001b[39margs, \u001b[38;5;241m*\u001b[39m\u001b[38;5;241m*\u001b[39mkwargs)\n\u001b[1;32m    151\u001b[0m \u001b[38;5;28;01mexcept\u001b[39;00m \u001b[38;5;167;01mException\u001b[39;00m \u001b[38;5;28;01mas\u001b[39;00m e:\n\u001b[1;32m    152\u001b[0m   filtered_tb \u001b[38;5;241m=\u001b[39m _process_traceback_frames(e\u001b[38;5;241m.\u001b[39m__traceback__)\n",
      "File \u001b[0;32m~/anaconda3/lib/python3.11/site-packages/tensorflow/python/eager/polymorphic_function/polymorphic_function.py:833\u001b[0m, in \u001b[0;36mFunction.__call__\u001b[0;34m(self, *args, **kwds)\u001b[0m\n\u001b[1;32m    830\u001b[0m compiler \u001b[38;5;241m=\u001b[39m \u001b[38;5;124m\"\u001b[39m\u001b[38;5;124mxla\u001b[39m\u001b[38;5;124m\"\u001b[39m \u001b[38;5;28;01mif\u001b[39;00m \u001b[38;5;28mself\u001b[39m\u001b[38;5;241m.\u001b[39m_jit_compile \u001b[38;5;28;01melse\u001b[39;00m \u001b[38;5;124m\"\u001b[39m\u001b[38;5;124mnonXla\u001b[39m\u001b[38;5;124m\"\u001b[39m\n\u001b[1;32m    832\u001b[0m \u001b[38;5;28;01mwith\u001b[39;00m OptionalXlaContext(\u001b[38;5;28mself\u001b[39m\u001b[38;5;241m.\u001b[39m_jit_compile):\n\u001b[0;32m--> 833\u001b[0m   result \u001b[38;5;241m=\u001b[39m \u001b[38;5;28mself\u001b[39m\u001b[38;5;241m.\u001b[39m_call(\u001b[38;5;241m*\u001b[39margs, \u001b[38;5;241m*\u001b[39m\u001b[38;5;241m*\u001b[39mkwds)\n\u001b[1;32m    835\u001b[0m new_tracing_count \u001b[38;5;241m=\u001b[39m \u001b[38;5;28mself\u001b[39m\u001b[38;5;241m.\u001b[39mexperimental_get_tracing_count()\n\u001b[1;32m    836\u001b[0m without_tracing \u001b[38;5;241m=\u001b[39m (tracing_count \u001b[38;5;241m==\u001b[39m new_tracing_count)\n",
      "File \u001b[0;32m~/anaconda3/lib/python3.11/site-packages/tensorflow/python/eager/polymorphic_function/polymorphic_function.py:869\u001b[0m, in \u001b[0;36mFunction._call\u001b[0;34m(self, *args, **kwds)\u001b[0m\n\u001b[1;32m    866\u001b[0m   \u001b[38;5;28mself\u001b[39m\u001b[38;5;241m.\u001b[39m_lock\u001b[38;5;241m.\u001b[39mrelease()\n\u001b[1;32m    867\u001b[0m   \u001b[38;5;66;03m# In this case we have created variables on the first call, so we run the\u001b[39;00m\n\u001b[1;32m    868\u001b[0m   \u001b[38;5;66;03m# defunned version which is guaranteed to never create variables.\u001b[39;00m\n\u001b[0;32m--> 869\u001b[0m   \u001b[38;5;28;01mreturn\u001b[39;00m tracing_compilation\u001b[38;5;241m.\u001b[39mcall_function(\n\u001b[1;32m    870\u001b[0m       args, kwds, \u001b[38;5;28mself\u001b[39m\u001b[38;5;241m.\u001b[39m_no_variable_creation_config\n\u001b[1;32m    871\u001b[0m   )\n\u001b[1;32m    872\u001b[0m \u001b[38;5;28;01melif\u001b[39;00m \u001b[38;5;28mself\u001b[39m\u001b[38;5;241m.\u001b[39m_variable_creation_config \u001b[38;5;129;01mis\u001b[39;00m \u001b[38;5;129;01mnot\u001b[39;00m \u001b[38;5;28;01mNone\u001b[39;00m:\n\u001b[1;32m    873\u001b[0m   \u001b[38;5;66;03m# Release the lock early so that multiple threads can perform the call\u001b[39;00m\n\u001b[1;32m    874\u001b[0m   \u001b[38;5;66;03m# in parallel.\u001b[39;00m\n\u001b[1;32m    875\u001b[0m   \u001b[38;5;28mself\u001b[39m\u001b[38;5;241m.\u001b[39m_lock\u001b[38;5;241m.\u001b[39mrelease()\n",
      "File \u001b[0;32m~/anaconda3/lib/python3.11/site-packages/tensorflow/python/eager/polymorphic_function/tracing_compilation.py:132\u001b[0m, in \u001b[0;36mcall_function\u001b[0;34m(args, kwargs, tracing_options)\u001b[0m\n\u001b[1;32m    130\u001b[0m args \u001b[38;5;241m=\u001b[39m args \u001b[38;5;28;01mif\u001b[39;00m args \u001b[38;5;28;01melse\u001b[39;00m ()\n\u001b[1;32m    131\u001b[0m kwargs \u001b[38;5;241m=\u001b[39m kwargs \u001b[38;5;28;01mif\u001b[39;00m kwargs \u001b[38;5;28;01melse\u001b[39;00m {}\n\u001b[0;32m--> 132\u001b[0m function \u001b[38;5;241m=\u001b[39m trace_function(\n\u001b[1;32m    133\u001b[0m     args\u001b[38;5;241m=\u001b[39margs, kwargs\u001b[38;5;241m=\u001b[39mkwargs, tracing_options\u001b[38;5;241m=\u001b[39mtracing_options\n\u001b[1;32m    134\u001b[0m )\n\u001b[1;32m    136\u001b[0m \u001b[38;5;66;03m# Bind it ourselves to skip unnecessary canonicalization of default call.\u001b[39;00m\n\u001b[1;32m    137\u001b[0m bound_args \u001b[38;5;241m=\u001b[39m function\u001b[38;5;241m.\u001b[39mfunction_type\u001b[38;5;241m.\u001b[39mbind(\u001b[38;5;241m*\u001b[39margs, \u001b[38;5;241m*\u001b[39m\u001b[38;5;241m*\u001b[39mkwargs)\n",
      "File \u001b[0;32m~/anaconda3/lib/python3.11/site-packages/tensorflow/python/eager/polymorphic_function/tracing_compilation.py:178\u001b[0m, in \u001b[0;36mtrace_function\u001b[0;34m(args, kwargs, tracing_options)\u001b[0m\n\u001b[1;32m    175\u001b[0m     args \u001b[38;5;241m=\u001b[39m tracing_options\u001b[38;5;241m.\u001b[39minput_signature\n\u001b[1;32m    176\u001b[0m     kwargs \u001b[38;5;241m=\u001b[39m {}\n\u001b[0;32m--> 178\u001b[0m   concrete_function \u001b[38;5;241m=\u001b[39m _maybe_define_function(\n\u001b[1;32m    179\u001b[0m       args, kwargs, tracing_options\n\u001b[1;32m    180\u001b[0m   )\n\u001b[1;32m    182\u001b[0m \u001b[38;5;28;01mif\u001b[39;00m \u001b[38;5;129;01mnot\u001b[39;00m tracing_options\u001b[38;5;241m.\u001b[39mbind_graph_to_function:\n\u001b[1;32m    183\u001b[0m   concrete_function\u001b[38;5;241m.\u001b[39m_garbage_collector\u001b[38;5;241m.\u001b[39mrelease()  \u001b[38;5;66;03m# pylint: disable=protected-access\u001b[39;00m\n",
      "File \u001b[0;32m~/anaconda3/lib/python3.11/site-packages/tensorflow/python/eager/polymorphic_function/tracing_compilation.py:239\u001b[0m, in \u001b[0;36m_maybe_define_function\u001b[0;34m(args, kwargs, tracing_options)\u001b[0m\n\u001b[1;32m    229\u001b[0m lookup_func_type, lookup_func_context \u001b[38;5;241m=\u001b[39m (\n\u001b[1;32m    230\u001b[0m     function_type_utils\u001b[38;5;241m.\u001b[39mmake_canonicalized_monomorphic_type(\n\u001b[1;32m    231\u001b[0m         args,\n\u001b[0;32m   (...)\u001b[0m\n\u001b[1;32m    235\u001b[0m     )\n\u001b[1;32m    236\u001b[0m )\n\u001b[1;32m    238\u001b[0m \u001b[38;5;28;01mif\u001b[39;00m tracing_options\u001b[38;5;241m.\u001b[39mfunction_cache \u001b[38;5;129;01mis\u001b[39;00m \u001b[38;5;129;01mnot\u001b[39;00m \u001b[38;5;28;01mNone\u001b[39;00m:\n\u001b[0;32m--> 239\u001b[0m   concrete_function \u001b[38;5;241m=\u001b[39m tracing_options\u001b[38;5;241m.\u001b[39mfunction_cache\u001b[38;5;241m.\u001b[39mlookup(\n\u001b[1;32m    240\u001b[0m       lookup_func_type, current_func_context\n\u001b[1;32m    241\u001b[0m   )\n\u001b[1;32m    242\u001b[0m \u001b[38;5;28;01melse\u001b[39;00m:\n\u001b[1;32m    243\u001b[0m   concrete_function \u001b[38;5;241m=\u001b[39m \u001b[38;5;28;01mNone\u001b[39;00m\n",
      "File \u001b[0;32m~/anaconda3/lib/python3.11/site-packages/tensorflow/core/function/polymorphism/function_cache.py:50\u001b[0m, in \u001b[0;36mFunctionCache.lookup\u001b[0;34m(self, function_type, context)\u001b[0m\n\u001b[1;32m     48\u001b[0m   dispatch_type \u001b[38;5;241m=\u001b[39m \u001b[38;5;28mself\u001b[39m\u001b[38;5;241m.\u001b[39m_dispatch_dict[context]\u001b[38;5;241m.\u001b[39mdispatch(function_type)\n\u001b[1;32m     49\u001b[0m   \u001b[38;5;28;01mif\u001b[39;00m dispatch_type:\n\u001b[0;32m---> 50\u001b[0m     \u001b[38;5;28;01mreturn\u001b[39;00m \u001b[38;5;28mself\u001b[39m\u001b[38;5;241m.\u001b[39m_primary[(context, dispatch_type)]\n\u001b[1;32m     52\u001b[0m \u001b[38;5;28;01mreturn\u001b[39;00m \u001b[38;5;28;01mNone\u001b[39;00m\n",
      "File \u001b[0;32m~/anaconda3/lib/python3.11/site-packages/tensorflow/core/function/polymorphism/function_type.py:456\u001b[0m, in \u001b[0;36mFunctionType.__hash__\u001b[0;34m(self)\u001b[0m\n\u001b[1;32m    455\u001b[0m \u001b[38;5;28;01mdef\u001b[39;00m \u001b[38;5;21m__hash__\u001b[39m(\u001b[38;5;28mself\u001b[39m) \u001b[38;5;241m-\u001b[39m\u001b[38;5;241m>\u001b[39m \u001b[38;5;28mint\u001b[39m:\n\u001b[0;32m--> 456\u001b[0m   \u001b[38;5;28;01mreturn\u001b[39;00m \u001b[38;5;28mhash\u001b[39m((\u001b[38;5;28mtuple\u001b[39m(\u001b[38;5;28mself\u001b[39m\u001b[38;5;241m.\u001b[39mparameters\u001b[38;5;241m.\u001b[39mitems()), \u001b[38;5;28mtuple\u001b[39m(\u001b[38;5;28mself\u001b[39m\u001b[38;5;241m.\u001b[39mcaptures\u001b[38;5;241m.\u001b[39mitems())))\n",
      "\u001b[0;31mKeyboardInterrupt\u001b[0m: "
     ]
    }
   ],
   "source": [
    "\n",
    "red_lr = tf.keras.callbacks.ReduceLROnPlateau(monitor='loss', patience=1, verbose=1, factor=0.1, mode='min', min_lr=1e-12)\n",
    "mcp_save = tf.keras.callbacks.ModelCheckpoint('/Users/jaishreeram/Desktop/DS/mdl_wts.keras', save_best_only=True, monitor='val_accuracy', mode='max')\n",
    "\n",
    "# Fit the model\n",
    "history = model.fit(\n",
    "    train_data,\n",
    "    epochs=1,\n",
    "    validation_data=validation_data,\n",
    "    callbacks=[red_lr, mcp_save]\n",
    ")"
   ]
  },
  {
   "cell_type": "code",
   "execution_count": 19,
   "id": "901cb3d5",
   "metadata": {},
   "outputs": [
    {
     "name": "stdout",
     "output_type": "stream",
     "text": [
      "INFO:tensorflow:Assets written to: bert_emo_finetuned/assets\n"
     ]
    },
    {
     "name": "stderr",
     "output_type": "stream",
     "text": [
      "INFO:tensorflow:Assets written to: bert_emo_finetuned/assets\n"
     ]
    }
   ],
   "source": [
    "model.save('bert_emo_finetuned')"
   ]
  },
  {
   "cell_type": "code",
   "execution_count": 21,
   "id": "5cf895b3",
   "metadata": {},
   "outputs": [
    {
     "name": "stdout",
     "output_type": "stream",
     "text": [
      "500000\n"
     ]
    },
    {
     "name": "stderr",
     "output_type": "stream",
     "text": [
      "WARNING:absl:At this time, the v2.11+ optimizer `tf.keras.optimizers.RestoredOptimizer` runs slowly on M1/M2 Macs, please use the legacy TF-Keras optimizer instead, located at `tf.keras.optimizers.legacy.RestoredOptimizer`.\n",
      "WARNING:absl:At this time, the v2.11+ optimizer `tf.keras.optimizers.Adam` runs slowly on M1/M2 Macs, please use the legacy TF-Keras optimizer instead, located at `tf.keras.optimizers.legacy.Adam`.\n"
     ]
    }
   ],
   "source": [
    "import sys\n",
    "sys.setrecursionlimit(500000)\n",
    "print(sys.getrecursionlimit())  # This should now return 500000\n",
    "finetuned_bert = tf.keras.models.load_model('bert_emo_finetuned')"
   ]
  },
  {
   "cell_type": "code",
   "execution_count": 27,
   "id": "f7563dd2",
   "metadata": {},
   "outputs": [],
   "source": [
    "finetuned_bert.save_weights('/Users/jaishreeram/Desktop/DS/test.keras')\n"
   ]
  },
  {
   "cell_type": "code",
   "execution_count": 34,
   "id": "6787e491",
   "metadata": {
    "scrolled": true
   },
   "outputs": [],
   "source": [
    "model.load_weights('/Users/jaishreeram/Desktop/DS/test.keras')\n"
   ]
  },
  {
   "cell_type": "code",
   "execution_count": 33,
   "id": "05289238",
   "metadata": {},
   "outputs": [
    {
     "name": "stdout",
     "output_type": "stream",
     "text": [
      "Files in directory: ['.DS_Store', 'Untitled.ipynb', 'test.h5', 'aclImdb', 'cleaned_sample_100_biden.csv', 'hashtag_donaldtrump.csv', 'bert_emo_finetuned', 'aclImdb_v1.tar.gz', 'test.keras', 'hashtag_joebiden.csv', '.ipynb_checkpoints']\n"
     ]
    }
   ],
   "source": [
    "import os\n",
    "\n",
    "# List files in the directory\n",
    "directory = '/Users/jaishreeram/Desktop/DS'\n",
    "print(\"Files in directory:\", os.listdir(directory))\n"
   ]
  },
  {
   "cell_type": "code",
   "execution_count": 35,
   "id": "1b3636e0",
   "metadata": {},
   "outputs": [],
   "source": [
    "model.save_weights('/Users/jaishreeram/Desktop/DS/mdl_wts.keras')"
   ]
  },
  {
   "cell_type": "code",
   "execution_count": 36,
   "id": "30078bd5",
   "metadata": {},
   "outputs": [],
   "source": [
    "model.load_weights('/Users/jaishreeram/Desktop/DS/mdl_wts.keras')"
   ]
  },
  {
   "cell_type": "code",
   "execution_count": 37,
   "id": "ebbb3594",
   "metadata": {},
   "outputs": [],
   "source": [
    "pred_sentences = ['This was an awesome movie. I watch it twice my time watching this beautiful movie if I have known it was this good',\n",
    "                  'One of the worst movies of all time. I cannot believe I wasted two hours of my life for this movie']"
   ]
  },
  {
   "cell_type": "code",
   "execution_count": 38,
   "id": "9441f778",
   "metadata": {},
   "outputs": [
    {
     "name": "stdout",
     "output_type": "stream",
     "text": [
      "This was an awesome movie. I watch it twice my time watching this beautiful movie if I have known it was this good : \n",
      " Positive\n",
      "One of the worst movies of all time. I cannot believe I wasted two hours of my life for this movie : \n",
      " Negative\n"
     ]
    }
   ],
   "source": [
    "tf_batch = tokenizer(pred_sentences, max_length=128, padding=True, truncation=True, return_tensors='tf')\n",
    "tf_outputs = model(tf_batch)\n",
    "tf_predictions = tf.nn.softmax(tf_outputs[0], axis=-1)\n",
    "labels = ['Negative','Positive']\n",
    "label = tf.argmax(tf_predictions, axis=1)\n",
    "label = label.numpy()\n",
    "for i in range(len(pred_sentences)):\n",
    "  print(pred_sentences[i], \": \\n\", labels[label[i]])"
   ]
  },
  {
   "cell_type": "code",
   "execution_count": 40,
   "id": "b4c1f953",
   "metadata": {},
   "outputs": [],
   "source": [
    "biden_df = pd.read_csv('cleaned_sample_100_biden.csv')\n",
    "trump_df = pd.read_csv('cleaned_sample_100_trump.csv')"
   ]
  },
  {
   "cell_type": "code",
   "execution_count": 41,
   "id": "338f6bc7",
   "metadata": {},
   "outputs": [
    {
     "data": {
      "text/html": [
       "<div>\n",
       "<style scoped>\n",
       "    .dataframe tbody tr th:only-of-type {\n",
       "        vertical-align: middle;\n",
       "    }\n",
       "\n",
       "    .dataframe tbody tr th {\n",
       "        vertical-align: top;\n",
       "    }\n",
       "\n",
       "    .dataframe thead th {\n",
       "        text-align: right;\n",
       "    }\n",
       "</style>\n",
       "<table border=\"1\" class=\"dataframe\">\n",
       "  <thead>\n",
       "    <tr style=\"text-align: right;\">\n",
       "      <th></th>\n",
       "      <th>tweet</th>\n",
       "      <th>long</th>\n",
       "      <th>lat</th>\n",
       "      <th>state_code</th>\n",
       "      <th>sentiment</th>\n",
       "      <th>who</th>\n",
       "    </tr>\n",
       "  </thead>\n",
       "  <tbody>\n",
       "  </tbody>\n",
       "</table>\n",
       "</div>"
      ],
      "text/plain": [
       "Empty DataFrame\n",
       "Columns: [tweet, long, lat, state_code, sentiment, who]\n",
       "Index: []"
      ]
     },
     "execution_count": 41,
     "metadata": {},
     "output_type": "execute_result"
    }
   ],
   "source": [
    "biden_df.loc[:,'who'] = 'biden'\n",
    "trump_df.loc[:,'who'] = 'trump'\n",
    "\n",
    "balance_data_df = pd.DataFrame(columns=biden_df.columns)\n",
    "balance_data_df"
   ]
  },
  {
   "cell_type": "code",
   "execution_count": 42,
   "id": "55e9c71c",
   "metadata": {},
   "outputs": [],
   "source": [
    "states_list = set(biden_df['state_code']).union(set(trump_df['state_code'])) - set(['MP', 'GU', 'PR', 'VI', 'AS', 'UM', ])\n",
    "# Northern Mariana Islands, Guam, Puerto Rico, Virgin Islands, Alaska, U.S. Minor Outlying Islands are removes because they are terroritory not electoral states"
   ]
  },
  {
   "cell_type": "code",
   "execution_count": 43,
   "id": "76275c85",
   "metadata": {},
   "outputs": [],
   "source": [
    "for state in states_list:\n",
    "    trump_df_state = trump_df[trump_df['state_code']==state]\n",
    "    biden_df_state = biden_df[biden_df['state_code']==state]\n",
    "    \n",
    "    n_sample = len(trump_df_state) if len(trump_df_state) < len(biden_df_state) else len(biden_df_state)\n",
    "    \n",
    "    if len(trump_df_state) < len(biden_df_state):\n",
    "        balance_data_df = pd.concat([balance_data_df, trump_df_state])\n",
    "        balance_data_df = pd.concat([balance_data_df, biden_df_state.sample(len(trump_df_state))])\n",
    "    else:\n",
    "        balance_data_df = pd.concat([balance_data_df, biden_df_state])\n",
    "        balance_data_df = pd.concat([balance_data_df, trump_df_state.sample(len(biden_df_state))])"
   ]
  },
  {
   "cell_type": "code",
   "execution_count": 44,
   "id": "9712583d",
   "metadata": {},
   "outputs": [
    {
     "data": {
      "text/html": [
       "<div>\n",
       "<style scoped>\n",
       "    .dataframe tbody tr th:only-of-type {\n",
       "        vertical-align: middle;\n",
       "    }\n",
       "\n",
       "    .dataframe tbody tr th {\n",
       "        vertical-align: top;\n",
       "    }\n",
       "\n",
       "    .dataframe thead th {\n",
       "        text-align: right;\n",
       "    }\n",
       "</style>\n",
       "<table border=\"1\" class=\"dataframe\">\n",
       "  <thead>\n",
       "    <tr style=\"text-align: right;\">\n",
       "      <th></th>\n",
       "      <th>tweet</th>\n",
       "      <th>long</th>\n",
       "      <th>lat</th>\n",
       "      <th>state_code</th>\n",
       "      <th>sentiment</th>\n",
       "      <th>who</th>\n",
       "    </tr>\n",
       "  </thead>\n",
       "  <tbody>\n",
       "    <tr>\n",
       "      <th>1233</th>\n",
       "      <td>danicaamac CALFIRE CALFIRELNU SFGate KTVU CALF...</td>\n",
       "      <td>-107.568535</td>\n",
       "      <td>43.170026</td>\n",
       "      <td>WY</td>\n",
       "      <td>0</td>\n",
       "      <td>biden</td>\n",
       "    </tr>\n",
       "    <tr>\n",
       "      <th>1549</th>\n",
       "      <td>Trump</td>\n",
       "      <td>-106.280075</td>\n",
       "      <td>43.411391</td>\n",
       "      <td>WY</td>\n",
       "      <td>0</td>\n",
       "      <td>biden</td>\n",
       "    </tr>\n",
       "    <tr>\n",
       "      <th>2567</th>\n",
       "      <td>Love the Trump family.</td>\n",
       "      <td>-107.568535</td>\n",
       "      <td>43.170026</td>\n",
       "      <td>WY</td>\n",
       "      <td>0</td>\n",
       "      <td>biden</td>\n",
       "    </tr>\n",
       "    <tr>\n",
       "      <th>3828</th>\n",
       "      <td>AmongUs Trump Election2020</td>\n",
       "      <td>-106.280075</td>\n",
       "      <td>43.411391</td>\n",
       "      <td>WY</td>\n",
       "      <td>0</td>\n",
       "      <td>biden</td>\n",
       "    </tr>\n",
       "    <tr>\n",
       "      <th>4755</th>\n",
       "      <td>TRUMP TrumpTrain TRUMP2020 USA KAG MAGA MYPRES...</td>\n",
       "      <td>-109.204787</td>\n",
       "      <td>41.586923</td>\n",
       "      <td>WY</td>\n",
       "      <td>0</td>\n",
       "      <td>biden</td>\n",
       "    </tr>\n",
       "    <tr>\n",
       "      <th>...</th>\n",
       "      <td>...</td>\n",
       "      <td>...</td>\n",
       "      <td>...</td>\n",
       "      <td>...</td>\n",
       "      <td>...</td>\n",
       "      <td>...</td>\n",
       "    </tr>\n",
       "    <tr>\n",
       "      <th>7770</th>\n",
       "      <td>Twitter AI for autocompletes is pushing conspi...</td>\n",
       "      <td>-122.478836</td>\n",
       "      <td>48.754401</td>\n",
       "      <td>WA</td>\n",
       "      <td>0</td>\n",
       "      <td>trump</td>\n",
       "    </tr>\n",
       "    <tr>\n",
       "      <th>8765</th>\n",
       "      <td>How would a Biden tax plan compare to what wev...</td>\n",
       "      <td>-122.330062</td>\n",
       "      <td>47.603832</td>\n",
       "      <td>WA</td>\n",
       "      <td>0</td>\n",
       "      <td>trump</td>\n",
       "    </tr>\n",
       "    <tr>\n",
       "      <th>18327</th>\n",
       "      <td>All VOTE submitted before end of 113 are legit...</td>\n",
       "      <td>-122.330062</td>\n",
       "      <td>47.603832</td>\n",
       "      <td>WA</td>\n",
       "      <td>0</td>\n",
       "      <td>trump</td>\n",
       "    </tr>\n",
       "    <tr>\n",
       "      <th>27709</th>\n",
       "      <td>kcelections I have a question. I am seeing on ...</td>\n",
       "      <td>-122.192025</td>\n",
       "      <td>47.685957</td>\n",
       "      <td>WA</td>\n",
       "      <td>0</td>\n",
       "      <td>trump</td>\n",
       "    </tr>\n",
       "    <tr>\n",
       "      <th>10958</th>\n",
       "      <td>Is anyone else receiving texts like this for B...</td>\n",
       "      <td>-122.910369</td>\n",
       "      <td>47.008066</td>\n",
       "      <td>WA</td>\n",
       "      <td>0</td>\n",
       "      <td>trump</td>\n",
       "    </tr>\n",
       "  </tbody>\n",
       "</table>\n",
       "<p>19674 rows × 6 columns</p>\n",
       "</div>"
      ],
      "text/plain": [
       "                                                   tweet        long  \\\n",
       "1233   danicaamac CALFIRE CALFIRELNU SFGate KTVU CALF... -107.568535   \n",
       "1549                                              Trump  -106.280075   \n",
       "2567                             Love the Trump family.  -107.568535   \n",
       "3828                         AmongUs Trump Election2020  -106.280075   \n",
       "4755   TRUMP TrumpTrain TRUMP2020 USA KAG MAGA MYPRES... -109.204787   \n",
       "...                                                  ...         ...   \n",
       "7770   Twitter AI for autocompletes is pushing conspi... -122.478836   \n",
       "8765   How would a Biden tax plan compare to what wev... -122.330062   \n",
       "18327  All VOTE submitted before end of 113 are legit... -122.330062   \n",
       "27709  kcelections I have a question. I am seeing on ... -122.192025   \n",
       "10958  Is anyone else receiving texts like this for B... -122.910369   \n",
       "\n",
       "             lat state_code sentiment    who  \n",
       "1233   43.170026         WY         0  biden  \n",
       "1549   43.411391         WY         0  biden  \n",
       "2567   43.170026         WY         0  biden  \n",
       "3828   43.411391         WY         0  biden  \n",
       "4755   41.586923         WY         0  biden  \n",
       "...          ...        ...       ...    ...  \n",
       "7770   48.754401         WA         0  trump  \n",
       "8765   47.603832         WA         0  trump  \n",
       "18327  47.603832         WA         0  trump  \n",
       "27709  47.685957         WA         0  trump  \n",
       "10958  47.008066         WA         0  trump  \n",
       "\n",
       "[19674 rows x 6 columns]"
      ]
     },
     "execution_count": 44,
     "metadata": {},
     "output_type": "execute_result"
    }
   ],
   "source": [
    "balance_data_df"
   ]
  },
  {
   "cell_type": "code",
   "execution_count": 45,
   "id": "0f1b4686",
   "metadata": {},
   "outputs": [],
   "source": [
    "batch_size = 100"
   ]
  },
  {
   "cell_type": "code",
   "execution_count": 48,
   "id": "545332cd",
   "metadata": {},
   "outputs": [],
   "source": [
    "import numpy as np\n",
    "from tqdm.auto import tqdm\n",
    "import tensorflow as tf\n",
    "\n",
    "def emotion_classify(tweet_list):\n",
    "    batch_idx = np.append(np.arange(0, len(tweet_list), batch_size), len(tweet_list))\n",
    "    labels = np.array([])\n",
    "    for i in tqdm(range(len(batch_idx)-1)):\n",
    "        tf_batch = tokenizer(tweet_list[batch_idx[i]:batch_idx[i+1]], max_length=280, padding=True, truncation=True, return_tensors='tf')\n",
    "        tf_outputs = model(tf_batch)\n",
    "        tf_predictions = tf.nn.softmax(tf_outputs[0], axis=-1)\n",
    "        labels = np.append(labels, tf.argmax(tf_predictions, axis=1))\n",
    "#         labels = np.append(labels, tf_predictions[:,1])\n",
    "        del tf_batch\n",
    "    return labels"
   ]
  },
  {
   "cell_type": "code",
   "execution_count": 49,
   "id": "dcdf85b6",
   "metadata": {},
   "outputs": [
    {
     "data": {
      "application/vnd.jupyter.widget-view+json": {
       "model_id": "163b3de6e40944559331fdb388c99793",
       "version_major": 2,
       "version_minor": 0
      },
      "text/plain": [
       "  0%|          | 0/197 [00:00<?, ?it/s]"
      ]
     },
     "metadata": {},
     "output_type": "display_data"
    }
   ],
   "source": [
    "balance_data_df['sentiment'] = emotion_classify(list(balance_data_df['tweet']))"
   ]
  },
  {
   "cell_type": "code",
   "execution_count": 52,
   "id": "785ba30c",
   "metadata": {},
   "outputs": [
    {
     "data": {
      "text/html": [
       "<div>\n",
       "<style scoped>\n",
       "    .dataframe tbody tr th:only-of-type {\n",
       "        vertical-align: middle;\n",
       "    }\n",
       "\n",
       "    .dataframe tbody tr th {\n",
       "        vertical-align: top;\n",
       "    }\n",
       "\n",
       "    .dataframe thead th {\n",
       "        text-align: right;\n",
       "    }\n",
       "</style>\n",
       "<table border=\"1\" class=\"dataframe\">\n",
       "  <thead>\n",
       "    <tr style=\"text-align: right;\">\n",
       "      <th></th>\n",
       "      <th>tweet</th>\n",
       "      <th>long</th>\n",
       "      <th>lat</th>\n",
       "      <th>state_code</th>\n",
       "      <th>sentiment</th>\n",
       "      <th>who</th>\n",
       "    </tr>\n",
       "  </thead>\n",
       "  <tbody>\n",
       "    <tr>\n",
       "      <th>7770</th>\n",
       "      <td>Twitter AI for autocompletes is pushing conspi...</td>\n",
       "      <td>-122.478836</td>\n",
       "      <td>48.754401</td>\n",
       "      <td>WA</td>\n",
       "      <td>0.0</td>\n",
       "      <td>trump</td>\n",
       "    </tr>\n",
       "    <tr>\n",
       "      <th>8765</th>\n",
       "      <td>How would a Biden tax plan compare to what wev...</td>\n",
       "      <td>-122.330062</td>\n",
       "      <td>47.603832</td>\n",
       "      <td>WA</td>\n",
       "      <td>0.0</td>\n",
       "      <td>trump</td>\n",
       "    </tr>\n",
       "    <tr>\n",
       "      <th>18327</th>\n",
       "      <td>All VOTE submitted before end of 113 are legit...</td>\n",
       "      <td>-122.330062</td>\n",
       "      <td>47.603832</td>\n",
       "      <td>WA</td>\n",
       "      <td>1.0</td>\n",
       "      <td>trump</td>\n",
       "    </tr>\n",
       "    <tr>\n",
       "      <th>27709</th>\n",
       "      <td>kcelections I have a question. I am seeing on ...</td>\n",
       "      <td>-122.192025</td>\n",
       "      <td>47.685957</td>\n",
       "      <td>WA</td>\n",
       "      <td>0.0</td>\n",
       "      <td>trump</td>\n",
       "    </tr>\n",
       "    <tr>\n",
       "      <th>10958</th>\n",
       "      <td>Is anyone else receiving texts like this for B...</td>\n",
       "      <td>-122.910369</td>\n",
       "      <td>47.008066</td>\n",
       "      <td>WA</td>\n",
       "      <td>1.0</td>\n",
       "      <td>trump</td>\n",
       "    </tr>\n",
       "  </tbody>\n",
       "</table>\n",
       "</div>"
      ],
      "text/plain": [
       "                                                   tweet        long  \\\n",
       "7770   Twitter AI for autocompletes is pushing conspi... -122.478836   \n",
       "8765   How would a Biden tax plan compare to what wev... -122.330062   \n",
       "18327  All VOTE submitted before end of 113 are legit... -122.330062   \n",
       "27709  kcelections I have a question. I am seeing on ... -122.192025   \n",
       "10958  Is anyone else receiving texts like this for B... -122.910369   \n",
       "\n",
       "             lat state_code  sentiment    who  \n",
       "7770   48.754401         WA        0.0  trump  \n",
       "8765   47.603832         WA        0.0  trump  \n",
       "18327  47.603832         WA        1.0  trump  \n",
       "27709  47.685957         WA        0.0  trump  \n",
       "10958  47.008066         WA        1.0  trump  "
      ]
     },
     "execution_count": 52,
     "metadata": {},
     "output_type": "execute_result"
    }
   ],
   "source": [
    "balance_data_df.tail()"
   ]
  },
  {
   "cell_type": "code",
   "execution_count": 53,
   "id": "db0b89c0",
   "metadata": {},
   "outputs": [
    {
     "data": {
      "text/plain": [
       "51"
      ]
     },
     "execution_count": 53,
     "metadata": {},
     "output_type": "execute_result"
    }
   ],
   "source": [
    "len(states_list)"
   ]
  },
  {
   "cell_type": "code",
   "execution_count": 54,
   "id": "52d3dedd",
   "metadata": {},
   "outputs": [],
   "source": [
    "dem_states = set(['DC', 'VT', 'HI', 'MA', 'MD', 'CA', 'NY', 'RI', 'DE', \n",
    "                 'CT', 'WA', 'ME', 'NJ', 'OR', 'IL'])\n",
    "rep_states = set(['OH', 'IA', 'TX', 'MT', 'SC', 'AK', 'MO', 'IN', 'NE',\n",
    "                 'KS', 'UT', 'MS', 'TN', 'SD', 'KY', 'LA', 'AL', 'ND',\n",
    "                 'ID', 'AR', 'OK', 'WV', 'WY'])\n",
    "swing_states = states_list - dem_states - rep_states"
   ]
  },
  {
   "cell_type": "code",
   "execution_count": 55,
   "id": "3e4498c4",
   "metadata": {},
   "outputs": [
    {
     "data": {
      "text/plain": [
       "{'AZ', 'CO', 'FL', 'GA', 'MI', 'MN', 'NC', 'NH', 'NM', 'NV', 'PA', 'VA', 'WI'}"
      ]
     },
     "execution_count": 55,
     "metadata": {},
     "output_type": "execute_result"
    }
   ],
   "source": [
    "swing_states"
   ]
  },
  {
   "cell_type": "code",
   "execution_count": 84,
   "id": "8a065a8a",
   "metadata": {},
   "outputs": [],
   "source": [
    "electoral_vote_by_state = pd.read_csv('/Users/jaishreeram/Desktop/DS/electrol_votes.csv')"
   ]
  },
  {
   "cell_type": "code",
   "execution_count": 94,
   "id": "cb7896c3",
   "metadata": {},
   "outputs": [
    {
     "data": {
      "text/html": [
       "<div>\n",
       "<style scoped>\n",
       "    .dataframe tbody tr th:only-of-type {\n",
       "        vertical-align: middle;\n",
       "    }\n",
       "\n",
       "    .dataframe tbody tr th {\n",
       "        vertical-align: top;\n",
       "    }\n",
       "\n",
       "    .dataframe thead th {\n",
       "        text-align: right;\n",
       "    }\n",
       "</style>\n",
       "<table border=\"1\" class=\"dataframe\">\n",
       "  <thead>\n",
       "    <tr style=\"text-align: right;\">\n",
       "      <th></th>\n",
       "      <th>Full_State</th>\n",
       "      <th>Abb_State</th>\n",
       "      <th>Electoral_College_Votes</th>\n",
       "    </tr>\n",
       "  </thead>\n",
       "  <tbody>\n",
       "    <tr>\n",
       "      <th>46</th>\n",
       "      <td>Virginia</td>\n",
       "      <td>VA</td>\n",
       "      <td>13</td>\n",
       "    </tr>\n",
       "    <tr>\n",
       "      <th>47</th>\n",
       "      <td>Washington</td>\n",
       "      <td>WA</td>\n",
       "      <td>12</td>\n",
       "    </tr>\n",
       "    <tr>\n",
       "      <th>48</th>\n",
       "      <td>West Virginia</td>\n",
       "      <td>WV</td>\n",
       "      <td>5</td>\n",
       "    </tr>\n",
       "    <tr>\n",
       "      <th>49</th>\n",
       "      <td>Wisconsin</td>\n",
       "      <td>WI</td>\n",
       "      <td>10</td>\n",
       "    </tr>\n",
       "    <tr>\n",
       "      <th>50</th>\n",
       "      <td>Wyoming</td>\n",
       "      <td>WY</td>\n",
       "      <td>3</td>\n",
       "    </tr>\n",
       "  </tbody>\n",
       "</table>\n",
       "</div>"
      ],
      "text/plain": [
       "       Full_State Abb_State  Electoral_College_Votes\n",
       "46       Virginia        VA                       13\n",
       "47     Washington        WA                       12\n",
       "48  West Virginia        WV                        5\n",
       "49      Wisconsin        WI                       10\n",
       "50        Wyoming        WY                        3"
      ]
     },
     "execution_count": 94,
     "metadata": {},
     "output_type": "execute_result"
    }
   ],
   "source": [
    "electoral_vote_by_state.tail()"
   ]
  },
  {
   "cell_type": "code",
   "execution_count": 86,
   "id": "524e5419",
   "metadata": {},
   "outputs": [],
   "source": [
    "states_results = pd.DataFrame(columns=['state_code', 'biden', 'trump', 'type', 'winner'])\n"
   ]
  },
  {
   "cell_type": "code",
   "execution_count": 87,
   "id": "f2a2f1e4",
   "metadata": {},
   "outputs": [],
   "source": [
    "states_results.loc[:,'state_code'] = electoral_vote_by_state['Abb_State']\n",
    "states_results.loc[:,'e_vote'] = electoral_vote_by_state['Electoral_College_Votes']"
   ]
  },
  {
   "cell_type": "code",
   "execution_count": 88,
   "id": "04c1b3e9",
   "metadata": {},
   "outputs": [],
   "source": [
    "type_vs_candidate = {'blue': 'biden', 'red': 'trump', 'purple': 'contentious'}\n",
    "threshold = 1.15\n",
    "for state in states_list:\n",
    "    trump_slice = balance_data_df.query(f'state_code == \"{state}\" and who == \"trump\"')\n",
    "    biden_slice = balance_data_df.query(f'state_code == \"{state}\" and who == \"biden\"')\n",
    "    trump_score = np.sum(trump_slice['sentiment']) + 1\n",
    "    biden_score = np.sum(biden_slice['sentiment']) + 1\n",
    "    \n",
    "    state_type = ''\n",
    "    if state in dem_states:\n",
    "        state_type = 'blue'\n",
    "    elif state in rep_states:\n",
    "        state_type = 'red'\n",
    "    else:\n",
    "        state_type = 'purple'\n",
    "        \n",
    "    winner = ''\n",
    "    if len(trump_slice) + len(biden_slice) < 1000:\n",
    "        winner = type_vs_candidate[state_type]\n",
    "    else:\n",
    "        if trump_score/biden_score > threshold:\n",
    "            winner = 'trump'\n",
    "        elif biden_score/trump_score > threshold:\n",
    "            winner = 'biden'\n",
    "        else:\n",
    "            winner = 'contentious'\n",
    "        \n",
    "    states_results.loc[states_results['state_code'] == state, ['biden', 'trump', 'type', 'winner']] = \\\n",
    "        [biden_score, trump_score, state_type, winner]"
   ]
  },
  {
   "cell_type": "code",
   "execution_count": 89,
   "id": "29a2f141",
   "metadata": {},
   "outputs": [
    {
     "data": {
      "text/html": [
       "<div>\n",
       "<style scoped>\n",
       "    .dataframe tbody tr th:only-of-type {\n",
       "        vertical-align: middle;\n",
       "    }\n",
       "\n",
       "    .dataframe tbody tr th {\n",
       "        vertical-align: top;\n",
       "    }\n",
       "\n",
       "    .dataframe thead th {\n",
       "        text-align: right;\n",
       "    }\n",
       "</style>\n",
       "<table border=\"1\" class=\"dataframe\">\n",
       "  <thead>\n",
       "    <tr style=\"text-align: right;\">\n",
       "      <th></th>\n",
       "      <th>state_code</th>\n",
       "      <th>biden</th>\n",
       "      <th>trump</th>\n",
       "      <th>type</th>\n",
       "      <th>winner</th>\n",
       "      <th>e_vote</th>\n",
       "    </tr>\n",
       "  </thead>\n",
       "  <tbody>\n",
       "  </tbody>\n",
       "</table>\n",
       "</div>"
      ],
      "text/plain": [
       "Empty DataFrame\n",
       "Columns: [state_code, biden, trump, type, winner, e_vote]\n",
       "Index: []"
      ]
     },
     "execution_count": 89,
     "metadata": {},
     "output_type": "execute_result"
    }
   ],
   "source": [
    "states_results.query('type==\"blue\" and winner==\"trump\"')"
   ]
  },
  {
   "cell_type": "code",
   "execution_count": 90,
   "id": "d2f4064c",
   "metadata": {},
   "outputs": [
    {
     "data": {
      "text/html": [
       "<div>\n",
       "<style scoped>\n",
       "    .dataframe tbody tr th:only-of-type {\n",
       "        vertical-align: middle;\n",
       "    }\n",
       "\n",
       "    .dataframe tbody tr th {\n",
       "        vertical-align: top;\n",
       "    }\n",
       "\n",
       "    .dataframe thead th {\n",
       "        text-align: right;\n",
       "    }\n",
       "</style>\n",
       "<table border=\"1\" class=\"dataframe\">\n",
       "  <thead>\n",
       "    <tr style=\"text-align: right;\">\n",
       "      <th></th>\n",
       "      <th>state_code</th>\n",
       "      <th>biden</th>\n",
       "      <th>trump</th>\n",
       "      <th>type</th>\n",
       "      <th>winner</th>\n",
       "      <th>e_vote</th>\n",
       "    </tr>\n",
       "  </thead>\n",
       "  <tbody>\n",
       "    <tr>\n",
       "      <th>43</th>\n",
       "      <td>TX</td>\n",
       "      <td>756.0</td>\n",
       "      <td>647.0</td>\n",
       "      <td>red</td>\n",
       "      <td>biden</td>\n",
       "      <td>38</td>\n",
       "    </tr>\n",
       "  </tbody>\n",
       "</table>\n",
       "</div>"
      ],
      "text/plain": [
       "   state_code  biden  trump type winner  e_vote\n",
       "43         TX  756.0  647.0  red  biden      38"
      ]
     },
     "execution_count": 90,
     "metadata": {},
     "output_type": "execute_result"
    }
   ],
   "source": [
    "states_results.query('type==\"red\" and winner==\"biden\"')"
   ]
  },
  {
   "cell_type": "code",
   "execution_count": 91,
   "id": "9e5ecba5",
   "metadata": {},
   "outputs": [
    {
     "data": {
      "text/html": [
       "<div>\n",
       "<style scoped>\n",
       "    .dataframe tbody tr th:only-of-type {\n",
       "        vertical-align: middle;\n",
       "    }\n",
       "\n",
       "    .dataframe tbody tr th {\n",
       "        vertical-align: top;\n",
       "    }\n",
       "\n",
       "    .dataframe thead th {\n",
       "        text-align: right;\n",
       "    }\n",
       "</style>\n",
       "<table border=\"1\" class=\"dataframe\">\n",
       "  <thead>\n",
       "    <tr style=\"text-align: right;\">\n",
       "      <th></th>\n",
       "      <th>state_code</th>\n",
       "      <th>biden</th>\n",
       "      <th>trump</th>\n",
       "      <th>type</th>\n",
       "      <th>winner</th>\n",
       "      <th>e_vote</th>\n",
       "    </tr>\n",
       "  </thead>\n",
       "  <tbody>\n",
       "    <tr>\n",
       "      <th>2</th>\n",
       "      <td>AZ</td>\n",
       "      <td>151.0</td>\n",
       "      <td>116.0</td>\n",
       "      <td>purple</td>\n",
       "      <td>contentious</td>\n",
       "      <td>11</td>\n",
       "    </tr>\n",
       "    <tr>\n",
       "      <th>4</th>\n",
       "      <td>CA</td>\n",
       "      <td>1308.0</td>\n",
       "      <td>1228.0</td>\n",
       "      <td>blue</td>\n",
       "      <td>contentious</td>\n",
       "      <td>55</td>\n",
       "    </tr>\n",
       "    <tr>\n",
       "      <th>5</th>\n",
       "      <td>CO</td>\n",
       "      <td>136.0</td>\n",
       "      <td>119.0</td>\n",
       "      <td>purple</td>\n",
       "      <td>contentious</td>\n",
       "      <td>9</td>\n",
       "    </tr>\n",
       "    <tr>\n",
       "      <th>10</th>\n",
       "      <td>GA</td>\n",
       "      <td>181.0</td>\n",
       "      <td>154.0</td>\n",
       "      <td>purple</td>\n",
       "      <td>contentious</td>\n",
       "      <td>16</td>\n",
       "    </tr>\n",
       "    <tr>\n",
       "      <th>22</th>\n",
       "      <td>MI</td>\n",
       "      <td>166.0</td>\n",
       "      <td>152.0</td>\n",
       "      <td>purple</td>\n",
       "      <td>contentious</td>\n",
       "      <td>16</td>\n",
       "    </tr>\n",
       "    <tr>\n",
       "      <th>23</th>\n",
       "      <td>MN</td>\n",
       "      <td>96.0</td>\n",
       "      <td>95.0</td>\n",
       "      <td>purple</td>\n",
       "      <td>contentious</td>\n",
       "      <td>10</td>\n",
       "    </tr>\n",
       "    <tr>\n",
       "      <th>28</th>\n",
       "      <td>NV</td>\n",
       "      <td>121.0</td>\n",
       "      <td>116.0</td>\n",
       "      <td>purple</td>\n",
       "      <td>contentious</td>\n",
       "      <td>6</td>\n",
       "    </tr>\n",
       "    <tr>\n",
       "      <th>29</th>\n",
       "      <td>NH</td>\n",
       "      <td>30.0</td>\n",
       "      <td>27.0</td>\n",
       "      <td>purple</td>\n",
       "      <td>contentious</td>\n",
       "      <td>4</td>\n",
       "    </tr>\n",
       "    <tr>\n",
       "      <th>31</th>\n",
       "      <td>NM</td>\n",
       "      <td>29.0</td>\n",
       "      <td>25.0</td>\n",
       "      <td>purple</td>\n",
       "      <td>contentious</td>\n",
       "      <td>5</td>\n",
       "    </tr>\n",
       "    <tr>\n",
       "      <th>32</th>\n",
       "      <td>NY</td>\n",
       "      <td>895.0</td>\n",
       "      <td>826.0</td>\n",
       "      <td>blue</td>\n",
       "      <td>contentious</td>\n",
       "      <td>29</td>\n",
       "    </tr>\n",
       "    <tr>\n",
       "      <th>33</th>\n",
       "      <td>NC</td>\n",
       "      <td>190.0</td>\n",
       "      <td>173.0</td>\n",
       "      <td>purple</td>\n",
       "      <td>contentious</td>\n",
       "      <td>15</td>\n",
       "    </tr>\n",
       "    <tr>\n",
       "      <th>38</th>\n",
       "      <td>PA</td>\n",
       "      <td>240.0</td>\n",
       "      <td>221.0</td>\n",
       "      <td>purple</td>\n",
       "      <td>contentious</td>\n",
       "      <td>20</td>\n",
       "    </tr>\n",
       "    <tr>\n",
       "      <th>46</th>\n",
       "      <td>VA</td>\n",
       "      <td>123.0</td>\n",
       "      <td>109.0</td>\n",
       "      <td>purple</td>\n",
       "      <td>contentious</td>\n",
       "      <td>13</td>\n",
       "    </tr>\n",
       "    <tr>\n",
       "      <th>49</th>\n",
       "      <td>WI</td>\n",
       "      <td>100.0</td>\n",
       "      <td>81.0</td>\n",
       "      <td>purple</td>\n",
       "      <td>contentious</td>\n",
       "      <td>10</td>\n",
       "    </tr>\n",
       "  </tbody>\n",
       "</table>\n",
       "</div>"
      ],
      "text/plain": [
       "   state_code   biden   trump    type       winner  e_vote\n",
       "2          AZ   151.0   116.0  purple  contentious      11\n",
       "4          CA  1308.0  1228.0    blue  contentious      55\n",
       "5          CO   136.0   119.0  purple  contentious       9\n",
       "10         GA   181.0   154.0  purple  contentious      16\n",
       "22         MI   166.0   152.0  purple  contentious      16\n",
       "23         MN    96.0    95.0  purple  contentious      10\n",
       "28         NV   121.0   116.0  purple  contentious       6\n",
       "29         NH    30.0    27.0  purple  contentious       4\n",
       "31         NM    29.0    25.0  purple  contentious       5\n",
       "32         NY   895.0   826.0    blue  contentious      29\n",
       "33         NC   190.0   173.0  purple  contentious      15\n",
       "38         PA   240.0   221.0  purple  contentious      20\n",
       "46         VA   123.0   109.0  purple  contentious      13\n",
       "49         WI   100.0    81.0  purple  contentious      10"
      ]
     },
     "execution_count": 91,
     "metadata": {},
     "output_type": "execute_result"
    }
   ],
   "source": [
    "states_results.query('winner==\"contentious\"')"
   ]
  },
  {
   "cell_type": "code",
   "execution_count": 95,
   "id": "95aa5c90",
   "metadata": {},
   "outputs": [],
   "source": [
    "import geopandas as gpd\n",
    "import matplotlib.pyplot as plt"
   ]
  },
  {
   "cell_type": "code",
   "execution_count": 96,
   "id": "753bed0d",
   "metadata": {},
   "outputs": [],
   "source": [
    "us_shape = gpd.read_file('/Users/jaishreeram/Desktop/DS/cb_2018_us_state_500k/cb_2018_us_state_500k.shp')"
   ]
  },
  {
   "cell_type": "code",
   "execution_count": 97,
   "id": "e225f63b",
   "metadata": {},
   "outputs": [],
   "source": [
    "us_shape = us_shape[['STUSPS', 'geometry']]"
   ]
  },
  {
   "cell_type": "code",
   "execution_count": 98,
   "id": "a3df472f",
   "metadata": {},
   "outputs": [],
   "source": [
    "states_results_tmp = states_results.copy()"
   ]
  },
  {
   "cell_type": "code",
   "execution_count": 99,
   "id": "e068880f",
   "metadata": {},
   "outputs": [],
   "source": [
    "states_results_tmp = states_results_tmp.merge(us_shape, left_on='state_code', right_on='STUSPS')\n",
    "states_results_tmp.drop(['STUSPS'], axis=1, inplace=True)"
   ]
  },
  {
   "cell_type": "code",
   "execution_count": 100,
   "id": "7dceab9e",
   "metadata": {},
   "outputs": [],
   "source": [
    "states_results_tmp = gpd.GeoDataFrame(states_results_tmp)"
   ]
  },
  {
   "cell_type": "code",
   "execution_count": 101,
   "id": "031b3a77",
   "metadata": {},
   "outputs": [
    {
     "data": {
      "text/plain": [
       "Index(['state_code', 'biden', 'trump', 'type', 'winner', 'e_vote', 'geometry'], dtype='object')"
      ]
     },
     "execution_count": 101,
     "metadata": {},
     "output_type": "execute_result"
    }
   ],
   "source": [
    "states_results_tmp.columns"
   ]
  },
  {
   "cell_type": "code",
   "execution_count": 103,
   "id": "22b74bb1",
   "metadata": {},
   "outputs": [
    {
     "data": {
      "image/png": "[encoded data removed]",
      "text/plain": [
       "<Figure size 1500x1500 with 1 Axes>"
      ]
     },
     "metadata": {},
     "output_type": "display_data"
    }
   ],
   "source": [
    "\n",
    "# Create the plot\n",
    "fig, ax = plt.subplots(1, 1, figsize=(15, 15))\n",
    "\n",
    "# Annotate state codes\n",
    "for _, row in states_results_tmp.iterrows():\n",
    "    centroid = row['geometry'].centroid\n",
    "    x, y = centroid.x, centroid.y\n",
    "    ax.annotate(\n",
    "        text=row['state_code'],  # The text to display\n",
    "        xy=(x, y),  # Coordinates of the centroid\n",
    "        ha='center',  # Horizontal alignment\n",
    "        fontsize=9,  # Font size\n",
    "        color='white'  # Text color\n",
    "    )\n",
    "\n",
    "# Plot states based on winner\n",
    "states_results_tmp[states_results_tmp['winner'] == 'trump'].plot(ax=ax, color='red', edgecolor='black')\n",
    "states_results_tmp[states_results_tmp['winner'] == 'biden'].plot(ax=ax, color='blue', edgecolor='black')\n",
    "states_results_tmp[states_results_tmp['winner'] == 'contentious'].plot(ax=ax, color='purple', edgecolor='black')\n",
    "\n",
    "# Set plot options\n",
    "plt.axis('square')\n",
    "ax.set_xlim([-180, -60])\n",
    "ax.set_ylim([10, 80])\n",
    "ax.set_xticks([])\n",
    "ax.set_yticks([])\n",
    "\n",
    "plt.show()"
   ]
  },
  {
   "cell_type": "code",
   "execution_count": 104,
   "id": "5f9aaeed",
   "metadata": {},
   "outputs": [],
   "source": [
    "states_results.to_csv('state_results_100_conti.csv', index=False, header=True)\n",
    "fig.savefig('state_results_100_conti.png')"
   ]
  },
  {
   "cell_type": "code",
   "execution_count": 105,
   "id": "262f667c",
   "metadata": {},
   "outputs": [
    {
     "name": "stdout",
     "output_type": "stream",
     "text": [
      "150 169\n"
     ]
    }
   ],
   "source": [
    "trump_vote = np.sum(states_results[states_results['winner'] == 'trump']['e_vote'])\n",
    "biden_vote = np.sum(states_results[states_results['winner'] == 'biden']['e_vote'])\n",
    "print(trump_vote, biden_vote)"
   ]
  },
  {
   "cell_type": "code",
   "execution_count": 106,
   "id": "4c3f2b12",
   "metadata": {},
   "outputs": [],
   "source": [
    "import itertools"
   ]
  },
  {
   "cell_type": "code",
   "execution_count": 107,
   "id": "88491854",
   "metadata": {},
   "outputs": [],
   "source": [
    "states_results = pd.read_csv('state_results_100_conti.csv')"
   ]
  },
  {
   "cell_type": "code",
   "execution_count": 108,
   "id": "b2118f3c",
   "metadata": {},
   "outputs": [
    {
     "name": "stdout",
     "output_type": "stream",
     "text": [
      "150 169\n"
     ]
    }
   ],
   "source": [
    "num_vote_to_win = 270\n",
    "trump_vote = np.sum(states_results[states_results['winner'] == 'trump']['e_vote'])\n",
    "biden_vote = np.sum(states_results[states_results['winner'] == 'biden']['e_vote'])\n",
    "print(trump_vote, biden_vote)"
   ]
  },
  {
   "cell_type": "code",
   "execution_count": 109,
   "id": "9324b196",
   "metadata": {},
   "outputs": [
    {
     "data": {
      "text/html": [
       "<div>\n",
       "<style scoped>\n",
       "    .dataframe tbody tr th:only-of-type {\n",
       "        vertical-align: middle;\n",
       "    }\n",
       "\n",
       "    .dataframe tbody tr th {\n",
       "        vertical-align: top;\n",
       "    }\n",
       "\n",
       "    .dataframe thead th {\n",
       "        text-align: right;\n",
       "    }\n",
       "</style>\n",
       "<table border=\"1\" class=\"dataframe\">\n",
       "  <thead>\n",
       "    <tr style=\"text-align: right;\">\n",
       "      <th></th>\n",
       "      <th>state_code</th>\n",
       "      <th>e_vote</th>\n",
       "    </tr>\n",
       "  </thead>\n",
       "  <tbody>\n",
       "    <tr>\n",
       "      <th>2</th>\n",
       "      <td>AZ</td>\n",
       "      <td>11</td>\n",
       "    </tr>\n",
       "    <tr>\n",
       "      <th>4</th>\n",
       "      <td>CA</td>\n",
       "      <td>55</td>\n",
       "    </tr>\n",
       "    <tr>\n",
       "      <th>5</th>\n",
       "      <td>CO</td>\n",
       "      <td>9</td>\n",
       "    </tr>\n",
       "    <tr>\n",
       "      <th>10</th>\n",
       "      <td>GA</td>\n",
       "      <td>16</td>\n",
       "    </tr>\n",
       "    <tr>\n",
       "      <th>22</th>\n",
       "      <td>MI</td>\n",
       "      <td>16</td>\n",
       "    </tr>\n",
       "    <tr>\n",
       "      <th>23</th>\n",
       "      <td>MN</td>\n",
       "      <td>10</td>\n",
       "    </tr>\n",
       "    <tr>\n",
       "      <th>28</th>\n",
       "      <td>NV</td>\n",
       "      <td>6</td>\n",
       "    </tr>\n",
       "    <tr>\n",
       "      <th>29</th>\n",
       "      <td>NH</td>\n",
       "      <td>4</td>\n",
       "    </tr>\n",
       "    <tr>\n",
       "      <th>31</th>\n",
       "      <td>NM</td>\n",
       "      <td>5</td>\n",
       "    </tr>\n",
       "    <tr>\n",
       "      <th>32</th>\n",
       "      <td>NY</td>\n",
       "      <td>29</td>\n",
       "    </tr>\n",
       "    <tr>\n",
       "      <th>33</th>\n",
       "      <td>NC</td>\n",
       "      <td>15</td>\n",
       "    </tr>\n",
       "    <tr>\n",
       "      <th>38</th>\n",
       "      <td>PA</td>\n",
       "      <td>20</td>\n",
       "    </tr>\n",
       "    <tr>\n",
       "      <th>46</th>\n",
       "      <td>VA</td>\n",
       "      <td>13</td>\n",
       "    </tr>\n",
       "    <tr>\n",
       "      <th>49</th>\n",
       "      <td>WI</td>\n",
       "      <td>10</td>\n",
       "    </tr>\n",
       "  </tbody>\n",
       "</table>\n",
       "</div>"
      ],
      "text/plain": [
       "   state_code  e_vote\n",
       "2          AZ      11\n",
       "4          CA      55\n",
       "5          CO       9\n",
       "10         GA      16\n",
       "22         MI      16\n",
       "23         MN      10\n",
       "28         NV       6\n",
       "29         NH       4\n",
       "31         NM       5\n",
       "32         NY      29\n",
       "33         NC      15\n",
       "38         PA      20\n",
       "46         VA      13\n",
       "49         WI      10"
      ]
     },
     "execution_count": 109,
     "metadata": {},
     "output_type": "execute_result"
    }
   ],
   "source": [
    "contentious_states = states_results.loc[states_results['winner'] == 'contentious',['state_code', 'e_vote']]\n",
    "contentious_states"
   ]
  },
  {
   "cell_type": "code",
   "execution_count": 110,
   "id": "de87f782",
   "metadata": {},
   "outputs": [],
   "source": [
    "def predict_winner(states, win_lose):\n",
    "    trump_cont_vote = trump_vote + np.sum(states.iloc[np.where(np.array(win_lose) == 1)[0]]['e_vote'])\n",
    "    biden_cont_vote = biden_vote + np.sum(states.iloc[np.where(np.array(win_lose) == 0)[0]]['e_vote'])\n",
    "    \n",
    "\n",
    "#     print(trump_cont_vote, biden_cont_vote)\n",
    "    \n",
    "    if trump_cont_vote >= num_vote_to_win:\n",
    "        return 1\n",
    "    elif biden_cont_vote >= num_vote_to_win:\n",
    "        return 0\n",
    "    else:\n",
    "        return None"
   ]
  },
  {
   "cell_type": "code",
   "execution_count": 111,
   "id": "603a171f",
   "metadata": {},
   "outputs": [],
   "source": [
    "get_bin = lambda x, n: format(x, 'b').zfill(n)"
   ]
  },
  {
   "cell_type": "code",
   "execution_count": 112,
   "id": "58c45076",
   "metadata": {},
   "outputs": [],
   "source": [
    "total = 0\n",
    "n_bits = len(contentious_states)\n",
    "n_possible_scenarios = 2**n_bits\n",
    "draw = 0\n",
    "for i in range(n_possible_scenarios):\n",
    "    win_lose = list(map(int, get_bin(i, n_bits)))\n",
    "    \n",
    "    winner = predict_winner(contentious_states, win_lose)\n",
    "    if winner != None:\n",
    "        total += winner\n",
    "    else:\n",
    "        draw += 1"
   ]
  },
  {
   "cell_type": "code",
   "execution_count": 113,
   "id": "4b46a045",
   "metadata": {},
   "outputs": [],
   "source": [
    "trump_chance_to_win = total/(n_possible_scenarios)\n",
    "draw_chance = draw/n_possible_scenarios\n",
    "biden_chance_to_win = 1 - draw_chance - trump_chance_to_win"
   ]
  },
  {
   "cell_type": "code",
   "execution_count": 114,
   "id": "968b8a92",
   "metadata": {},
   "outputs": [
    {
     "name": "stdout",
     "output_type": "stream",
     "text": [
      "40.88134765625 58.10546875 1.01318359375\n"
     ]
    }
   ],
   "source": [
    "print(trump_chance_to_win*100, biden_chance_to_win*100, draw_chance*100)"
   ]
  },
  {
   "cell_type": "code",
   "execution_count": 115,
   "id": "332b7763",
   "metadata": {},
   "outputs": [
    {
     "data": {
      "text/plain": [
       "{'candidate': ['trump', 'biden', 'draw'],\n",
       " 'chance_to_win': ['40.88135', '58.10547', '1.01318']}"
      ]
     },
     "execution_count": 115,
     "metadata": {},
     "output_type": "execute_result"
    }
   ],
   "source": [
    "win_chance_dict = dict({'candidate': ['trump', 'biden', 'draw'],\n",
    "                        'chance_to_win': [f'{trump_chance_to_win*100:.5f}',\n",
    "                                          f'{biden_chance_to_win*100:.5f}',\n",
    "                                          f'{draw_chance*100:.5f}']\n",
    "                       })\n",
    "win_chance_dict"
   ]
  },
  {
   "cell_type": "code",
   "execution_count": 2,
   "id": "d06eb7d6",
   "metadata": {},
   "outputs": [
    {
     "ename": "NameError",
     "evalue": "name 'pd' is not defined",
     "output_type": "error",
     "traceback": [
      "\u001b[0;31m---------------------------------------------------------------------------\u001b[0m",
      "\u001b[0;31mNameError\u001b[0m                                 Traceback (most recent call last)",
      "Cell \u001b[0;32mIn[2], line 1\u001b[0m\n\u001b[0;32m----> 1\u001b[0m win_chance_df \u001b[38;5;241m=\u001b[39m pd\u001b[38;5;241m.\u001b[39mDataFrame(win_chance_dict)\n\u001b[1;32m      2\u001b[0m win_chance_df\u001b[38;5;241m.\u001b[39mto_csv(\u001b[38;5;124m'\u001b[39m\u001b[38;5;124mwin_chance_state_results_100_conti.csv\u001b[39m\u001b[38;5;124m'\u001b[39m, index\u001b[38;5;241m=\u001b[39m\u001b[38;5;28;01mFalse\u001b[39;00m, header\u001b[38;5;241m=\u001b[39m\u001b[38;5;28;01mTrue\u001b[39;00m)\n",
      "\u001b[0;31mNameError\u001b[0m: name 'pd' is not defined"
     ]
    }
   ],
   "source": [
    "win_chance_df = pd.DataFrame(win_chance_dict)\n",
    "win_chance_df.to_csv('win_chance_state_results_100_conti.csv', index=False, header=True)"
   ]
  },
  {
   "cell_type": "code",
   "execution_count": null,
   "id": "1b2e8fae",
   "metadata": {},
   "outputs": [],
   "source": []
  }
 ],
 "metadata": {
  "kernelspec": {
   "display_name": "Python 3 (ipykernel)",
   "language": "python",
   "name": "python3"
  },
  "language_info": {
   "codemirror_mode": {
    "name": "ipython",
    "version": 3
   },
   "file_extension": ".py",
   "mimetype": "text/x-python",
   "name": "python",
   "nbconvert_exporter": "python",
   "pygments_lexer": "ipython3",
   "version": "3.11.4"
  }
 },
 "nbformat": 4,
 "nbformat_minor": 5
}
