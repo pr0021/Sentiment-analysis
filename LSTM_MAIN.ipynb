{
 "cells": [
  {
   "cell_type": "code",
   "execution_count": 3,
   "id": "c59e3ff8",
   "metadata": {},
   "outputs": [],
   "source": [
    "import pandas as pd    # to load dataset\n",
    "import numpy as np     # for mathematic equation\n",
    "from nltk.corpus import stopwords   # to get collection of stopwords\n",
    "from sklearn.model_selection import train_test_split       # for splitting dataset\n",
    "from tensorflow.keras.preprocessing.text import Tokenizer  # to encode text to int\n",
    "from tensorflow.keras.preprocessing.sequence import pad_sequences   # to do padding or truncating\n",
    "from tensorflow.keras.models import Sequential     # the model\n",
    "from tensorflow.keras.layers import Embedding, LSTM, Dense # layers of the architecture\n",
    "from tensorflow.keras.callbacks import ModelCheckpoint   # save model\n",
    "from tensorflow.keras.models import load_model   # load saved model\n",
    "import re\n",
    "import tensorflow as tf\n",
    "import pandas as pd\n",
    "     "
   ]
  },
  {
   "cell_type": "code",
   "execution_count": 4,
   "id": "d701c035",
   "metadata": {},
   "outputs": [
    {
     "name": "stdout",
     "output_type": "stream",
     "text": [
      "                                                  review sentiment\n",
      "0      One of the other reviewers has mentioned that ...  positive\n",
      "1      A wonderful little production. <br /><br />The...  positive\n",
      "2      I thought this was a wonderful way to spend ti...  positive\n",
      "3      Basically there's a family where a little boy ...  negative\n",
      "4      Petter Mattei's \"Love in the Time of Money\" is...  positive\n",
      "...                                                  ...       ...\n",
      "49995  I thought this movie did a down right good job...  positive\n",
      "49996  Bad plot, bad dialogue, bad acting, idiotic di...  negative\n",
      "49997  I am a Catholic taught in parochial elementary...  negative\n",
      "49998  I'm going to have to disagree with the previou...  negative\n",
      "49999  No one expects the Star Trek movies to be high...  negative\n",
      "\n",
      "[50000 rows x 2 columns]\n"
     ]
    }
   ],
   "source": [
    "data = pd.read_csv('IMDB Dataset.csv')\n",
    "\n",
    "print(data)"
   ]
  },
  {
   "cell_type": "code",
   "execution_count": 5,
   "id": "d4fdc1a8",
   "metadata": {},
   "outputs": [
    {
     "name": "stderr",
     "output_type": "stream",
     "text": [
      "[nltk_data] Downloading package stopwords to\n",
      "[nltk_data]     /Users/jaishreeram/nltk_data...\n",
      "[nltk_data]   Package stopwords is already up-to-date!\n"
     ]
    }
   ],
   "source": [
    "import nltk\n",
    "nltk.download('stopwords')\n",
    "english_stops = set(stopwords.words('english'))"
   ]
  },
  {
   "cell_type": "code",
   "execution_count": 6,
   "id": "33c5d189",
   "metadata": {},
   "outputs": [
    {
     "name": "stdout",
     "output_type": "stream",
     "text": [
      "Reviews\n",
      "0        [one, reviewers, mentioned, watching, oz, epis...\n",
      "1        [a, wonderful, little, production, the, filmin...\n",
      "2        [i, thought, wonderful, way, spend, time, hot,...\n",
      "3        [basically, family, little, boy, jake, thinks,...\n",
      "4        [petter, mattei, love, time, money, visually, ...\n",
      "                               ...                        \n",
      "49995    [i, thought, movie, right, good, job, it, crea...\n",
      "49996    [bad, plot, bad, dialogue, bad, acting, idioti...\n",
      "49997    [i, catholic, taught, parochial, elementary, s...\n",
      "49998    [i, going, disagree, previous, comment, side, ...\n",
      "49999    [no, one, expects, star, trek, movies, high, a...\n",
      "Name: review, Length: 50000, dtype: object \n",
      "\n",
      "Sentiment\n",
      "0        1\n",
      "1        1\n",
      "2        1\n",
      "3        0\n",
      "4        1\n",
      "        ..\n",
      "49995    1\n",
      "49996    0\n",
      "49997    0\n",
      "49998    0\n",
      "49999    0\n",
      "Name: sentiment, Length: 50000, dtype: int64\n"
     ]
    }
   ],
   "source": [
    "def load_dataset():\n",
    "    df = pd.read_csv('IMDB Dataset.csv')\n",
    "    x_data = df['review']       # Reviews/Input\n",
    "    y_data = df['sentiment']    # Sentiment/Output\n",
    "\n",
    "    # PRE-PROCESS REVIEW\n",
    "    x_data = x_data.replace({'<.*?>': ''}, regex = True)          # remove html tag\n",
    "    x_data = x_data.replace({'[^A-Za-z]': ' '}, regex = True)     # remove non alphabet\n",
    "    x_data = x_data.apply(lambda review: [w for w in review.split() if w not in english_stops])  # remove stop words\n",
    "    x_data = x_data.apply(lambda review: [w.lower() for w in review])   # lower case\n",
    "    \n",
    "    # ENCODE SENTIMENT -> 0 & 1\n",
    "    y_data = y_data.replace('positive', 1)\n",
    "    y_data = y_data.replace('negative', 0)\n",
    "\n",
    "    return x_data, y_data\n",
    "\n",
    "x_data, y_data = load_dataset()\n",
    "\n",
    "print('Reviews')\n",
    "print(x_data, '\\n')\n",
    "print('Sentiment')\n",
    "print(y_data)\n",
    "     "
   ]
  },
  {
   "cell_type": "code",
   "execution_count": 7,
   "id": "fef1816f",
   "metadata": {},
   "outputs": [
    {
     "name": "stdout",
     "output_type": "stream",
     "text": [
      "Train Set\n",
      "24711    [can, film, considered, film, imagine, situati...\n",
      "33594    [the, charm, otto, preminger, grandiose, visio...\n",
      "41858    [skeleton, man, okay, first, minutes, soon, ca...\n",
      "4844     [i, saw, movie, theatre, terrible, movie, the,...\n",
      "21435    [a, warning, potential, viewers, experimental,...\n",
      "                               ...                        \n",
      "49608    [it, rare, treat, see, checking, out, i, touch...\n",
      "16383    [a, single, mom, son, daughter, hippie, chick,...\n",
      "12666    [sigh, stupid, government, attempted, create, ...\n",
      "3370     [this, film, tells, stories, several, couples,...\n",
      "34450    [seeing, movie, always, reminds, i, remember, ...\n",
      "Name: review, Length: 40000, dtype: object \n",
      "\n",
      "20503    [for, kind, words, film, i, suspect, see, rele...\n",
      "25255    [possible, spoiler, madonna, plays, ex, con, n...\n",
      "19141    [outside, household, different, world, family,...\n",
      "44383    [i, agree, many, observers, traffik, one, memo...\n",
      "41041    [when, opened, london, christmas, season, musi...\n",
      "                               ...                        \n",
      "7355     [while, watching, movie, i, came, script, movi...\n",
      "32932    [i, sorry, jean, good, original, movie, follow...\n",
      "46110    [i, caught, film, test, screening, was, surpri...\n",
      "2696     [this, great, movie, most, us, seen, jurassic,...\n",
      "31298    [there, much, wrong, movie, greico, girls, wig...\n",
      "Name: review, Length: 10000, dtype: object \n",
      "\n",
      "Test Set\n",
      "24711    0\n",
      "33594    1\n",
      "41858    0\n",
      "4844     0\n",
      "21435    1\n",
      "        ..\n",
      "49608    1\n",
      "16383    0\n",
      "12666    0\n",
      "3370     1\n",
      "34450    1\n",
      "Name: sentiment, Length: 40000, dtype: int64 \n",
      "\n",
      "20503    0\n",
      "25255    0\n",
      "19141    1\n",
      "44383    1\n",
      "41041    1\n",
      "        ..\n",
      "7355     0\n",
      "32932    0\n",
      "46110    1\n",
      "2696     1\n",
      "31298    0\n",
      "Name: sentiment, Length: 10000, dtype: int64\n"
     ]
    }
   ],
   "source": [
    "x_train, x_test, y_train, y_test = train_test_split(x_data, y_data, test_size = 0.2)\n",
    "\n",
    "print('Train Set')\n",
    "print(x_train, '\\n')\n",
    "print(x_test, '\\n')\n",
    "print('Test Set')\n",
    "print(y_train, '\\n')\n",
    "print(y_test)"
   ]
  },
  {
   "cell_type": "code",
   "execution_count": 8,
   "id": "cec47f48",
   "metadata": {},
   "outputs": [],
   "source": [
    "def get_max_length():\n",
    "    review_length = []\n",
    "    for review in x_train:\n",
    "        review_length.append(len(review))\n",
    "\n",
    "    return int(np.ceil(np.mean(review_length)))\n",
    "     \n"
   ]
  },
  {
   "cell_type": "code",
   "execution_count": 9,
   "id": "46e22fde",
   "metadata": {},
   "outputs": [
    {
     "name": "stdout",
     "output_type": "stream",
     "text": [
      "24711    [can, film, considered, film, imagine, situati...\n",
      "33594    [the, charm, otto, preminger, grandiose, visio...\n",
      "41858    [skeleton, man, okay, first, minutes, soon, ca...\n",
      "4844     [i, saw, movie, theatre, terrible, movie, the,...\n",
      "21435    [a, warning, potential, viewers, experimental,...\n",
      "                               ...                        \n",
      "49608    [it, rare, treat, see, checking, out, i, touch...\n",
      "16383    [a, single, mom, son, daughter, hippie, chick,...\n",
      "12666    [sigh, stupid, government, attempted, create, ...\n",
      "3370     [this, film, tells, stories, several, couples,...\n",
      "34450    [seeing, movie, always, reminds, i, remember, ...\n",
      "Name: review, Length: 40000, dtype: object\n",
      "Encoded X Train\n",
      " [[1320    4 1148 ...    0    0    0]\n",
      " [   2 1355 6639 ...  473 6273  124]\n",
      " [5787   52  693 ...    0    0    0]\n",
      " ...\n",
      " [7684  265 1174 ... 3180 2033  425]\n",
      " [   8    4  616 ...    0    0    0]\n",
      " [ 218    3  124 ...    0    0    0]] \n",
      "\n",
      "Encoded X Test\n",
      " [[ 204  147  551 ...    0    0    0]\n",
      " [ 530 1272 3485 ...  181   79   72]\n",
      " [ 910 4828  185 ...  701  179    4]\n",
      " ...\n",
      " [   1  911    4 ...    0    0    0]\n",
      " [   8   21    3 ...    0    0    0]\n",
      " [  50   17  262 ...    0    0    0]] \n",
      "\n",
      "Maximum review length:  130\n"
     ]
    }
   ],
   "source": [
    "print(x_train)\n",
    "# ENCODE REVIEW\n",
    "token = Tokenizer(lower=False)    # no need lower, because already lowered the data in load_data()\n",
    "token.fit_on_texts(x_train)\n",
    "x_train = token.texts_to_sequences(x_train)\n",
    "x_test = token.texts_to_sequences(x_test)\n",
    "\n",
    "max_length = get_max_length()\n",
    "\n",
    "x_train = pad_sequences(x_train, maxlen=max_length, padding='post', truncating='post')\n",
    "x_test = pad_sequences(x_test, maxlen=max_length, padding='post', truncating='post')\n",
    "\n",
    "total_words = len(token.word_index) + 1   # add 1 because of 0 padding\n",
    "\n",
    "print('Encoded X Train\\n', x_train, '\\n')\n",
    "print('Encoded X Test\\n', x_test, '\\n')\n",
    "print('Maximum review length: ', max_length)\n",
    "     "
   ]
  },
  {
   "cell_type": "code",
   "execution_count": 10,
   "id": "62529b4c",
   "metadata": {},
   "outputs": [
    {
     "name": "stdout",
     "output_type": "stream",
     "text": [
      "You must install graphviz (see instructions at https://graphviz.gitlab.io/download/) for `plot_model` to work.\n"
     ]
    },
    {
     "name": "stderr",
     "output_type": "stream",
     "text": [
      "/Users/jaishreeram/anaconda3/lib/python3.11/site-packages/keras/src/layers/core/embedding.py:90: UserWarning: Argument `input_length` is deprecated. Just remove it.\n",
      "  warnings.warn(\n"
     ]
    },
    {
     "data": {
      "text/html": [
       "<pre style=\"white-space:pre;overflow-x:auto;line-height:normal;font-family:Menlo,'DejaVu Sans Mono',consolas,'Courier New',monospace\"><span style=\"font-weight: bold\">Model: \"sequential\"</span>\n",
       "</pre>\n"
      ],
      "text/plain": [
       "\u001b[1mModel: \"sequential\"\u001b[0m\n"
      ]
     },
     "metadata": {},
     "output_type": "display_data"
    },
    {
     "data": {
      "text/html": [
       "<pre style=\"white-space:pre;overflow-x:auto;line-height:normal;font-family:Menlo,'DejaVu Sans Mono',consolas,'Courier New',monospace\">┏━━━━━━━━━━━━━━━━━━━━━━━━━━━━━━━━━┳━━━━━━━━━━━━━━━━━━━━━━━━┳━━━━━━━━━━━━━━━┓\n",
       "┃<span style=\"font-weight: bold\"> Layer (type)                    </span>┃<span style=\"font-weight: bold\"> Output Shape           </span>┃<span style=\"font-weight: bold\">       Param # </span>┃\n",
       "┡━━━━━━━━━━━━━━━━━━━━━━━━━━━━━━━━━╇━━━━━━━━━━━━━━━━━━━━━━━━╇━━━━━━━━━━━━━━━┩\n",
       "│ embedding (<span style=\"color: #0087ff; text-decoration-color: #0087ff\">Embedding</span>)           │ (<span style=\"color: #00d7ff; text-decoration-color: #00d7ff\">None</span>, <span style=\"color: #00af00; text-decoration-color: #00af00\">130</span>, <span style=\"color: #00af00; text-decoration-color: #00af00\">32</span>)        │     <span style=\"color: #00af00; text-decoration-color: #00af00\">2,959,424</span> │\n",
       "├─────────────────────────────────┼────────────────────────┼───────────────┤\n",
       "│ lstm (<span style=\"color: #0087ff; text-decoration-color: #0087ff\">LSTM</span>)                     │ (<span style=\"color: #00d7ff; text-decoration-color: #00d7ff\">None</span>, <span style=\"color: #00af00; text-decoration-color: #00af00\">64</span>)             │        <span style=\"color: #00af00; text-decoration-color: #00af00\">24,832</span> │\n",
       "├─────────────────────────────────┼────────────────────────┼───────────────┤\n",
       "│ dense (<span style=\"color: #0087ff; text-decoration-color: #0087ff\">Dense</span>)                   │ (<span style=\"color: #00d7ff; text-decoration-color: #00d7ff\">None</span>, <span style=\"color: #00af00; text-decoration-color: #00af00\">64</span>)             │         <span style=\"color: #00af00; text-decoration-color: #00af00\">4,160</span> │\n",
       "├─────────────────────────────────┼────────────────────────┼───────────────┤\n",
       "│ dense_1 (<span style=\"color: #0087ff; text-decoration-color: #0087ff\">Dense</span>)                 │ (<span style=\"color: #00d7ff; text-decoration-color: #00d7ff\">None</span>, <span style=\"color: #00af00; text-decoration-color: #00af00\">1</span>)              │            <span style=\"color: #00af00; text-decoration-color: #00af00\">65</span> │\n",
       "└─────────────────────────────────┴────────────────────────┴───────────────┘\n",
       "</pre>\n"
      ],
      "text/plain": [
       "┏━━━━━━━━━━━━━━━━━━━━━━━━━━━━━━━━━┳━━━━━━━━━━━━━━━━━━━━━━━━┳━━━━━━━━━━━━━━━┓\n",
       "┃\u001b[1m \u001b[0m\u001b[1mLayer (type)                   \u001b[0m\u001b[1m \u001b[0m┃\u001b[1m \u001b[0m\u001b[1mOutput Shape          \u001b[0m\u001b[1m \u001b[0m┃\u001b[1m \u001b[0m\u001b[1m      Param #\u001b[0m\u001b[1m \u001b[0m┃\n",
       "┡━━━━━━━━━━━━━━━━━━━━━━━━━━━━━━━━━╇━━━━━━━━━━━━━━━━━━━━━━━━╇━━━━━━━━━━━━━━━┩\n",
       "│ embedding (\u001b[38;5;33mEmbedding\u001b[0m)           │ (\u001b[38;5;45mNone\u001b[0m, \u001b[38;5;34m130\u001b[0m, \u001b[38;5;34m32\u001b[0m)        │     \u001b[38;5;34m2,959,424\u001b[0m │\n",
       "├─────────────────────────────────┼────────────────────────┼───────────────┤\n",
       "│ lstm (\u001b[38;5;33mLSTM\u001b[0m)                     │ (\u001b[38;5;45mNone\u001b[0m, \u001b[38;5;34m64\u001b[0m)             │        \u001b[38;5;34m24,832\u001b[0m │\n",
       "├─────────────────────────────────┼────────────────────────┼───────────────┤\n",
       "│ dense (\u001b[38;5;33mDense\u001b[0m)                   │ (\u001b[38;5;45mNone\u001b[0m, \u001b[38;5;34m64\u001b[0m)             │         \u001b[38;5;34m4,160\u001b[0m │\n",
       "├─────────────────────────────────┼────────────────────────┼───────────────┤\n",
       "│ dense_1 (\u001b[38;5;33mDense\u001b[0m)                 │ (\u001b[38;5;45mNone\u001b[0m, \u001b[38;5;34m1\u001b[0m)              │            \u001b[38;5;34m65\u001b[0m │\n",
       "└─────────────────────────────────┴────────────────────────┴───────────────┘\n"
      ]
     },
     "metadata": {},
     "output_type": "display_data"
    },
    {
     "data": {
      "text/html": [
       "<pre style=\"white-space:pre;overflow-x:auto;line-height:normal;font-family:Menlo,'DejaVu Sans Mono',consolas,'Courier New',monospace\"><span style=\"font-weight: bold\"> Total params: </span><span style=\"color: #00af00; text-decoration-color: #00af00\">2,988,481</span> (11.40 MB)\n",
       "</pre>\n"
      ],
      "text/plain": [
       "\u001b[1m Total params: \u001b[0m\u001b[38;5;34m2,988,481\u001b[0m (11.40 MB)\n"
      ]
     },
     "metadata": {},
     "output_type": "display_data"
    },
    {
     "data": {
      "text/html": [
       "<pre style=\"white-space:pre;overflow-x:auto;line-height:normal;font-family:Menlo,'DejaVu Sans Mono',consolas,'Courier New',monospace\"><span style=\"font-weight: bold\"> Trainable params: </span><span style=\"color: #00af00; text-decoration-color: #00af00\">2,988,481</span> (11.40 MB)\n",
       "</pre>\n"
      ],
      "text/plain": [
       "\u001b[1m Trainable params: \u001b[0m\u001b[38;5;34m2,988,481\u001b[0m (11.40 MB)\n"
      ]
     },
     "metadata": {},
     "output_type": "display_data"
    },
    {
     "data": {
      "text/html": [
       "<pre style=\"white-space:pre;overflow-x:auto;line-height:normal;font-family:Menlo,'DejaVu Sans Mono',consolas,'Courier New',monospace\"><span style=\"font-weight: bold\"> Non-trainable params: </span><span style=\"color: #00af00; text-decoration-color: #00af00\">0</span> (0.00 B)\n",
       "</pre>\n"
      ],
      "text/plain": [
       "\u001b[1m Non-trainable params: \u001b[0m\u001b[38;5;34m0\u001b[0m (0.00 B)\n"
      ]
     },
     "metadata": {},
     "output_type": "display_data"
    },
    {
     "name": "stdout",
     "output_type": "stream",
     "text": [
      "None\n"
     ]
    }
   ],
   "source": [
    "# Import necessary libraries\n",
    "from tensorflow.keras.models import Sequential\n",
    "from tensorflow.keras.layers import Embedding, LSTM, Dense\n",
    "from tensorflow.keras.utils import plot_model\n",
    "\n",
    "\n",
    "# Define the architecture\n",
    "EMBED_DIM = 32\n",
    "LSTM_OUT = 64\n",
    "\n",
    "# Create the model\n",
    "model = Sequential()\n",
    "model.add(Embedding(total_words, EMBED_DIM, input_length=max_length))\n",
    "model.add(LSTM(LSTM_OUT))\n",
    "model.add(Dense(64, activation='relu'))\n",
    "model.add(Dense(1, activation='sigmoid'))\n",
    "\n",
    "# Build the model\n",
    "model.build(input_shape=(None, max_length))\n",
    "\n",
    "# Compile the model\n",
    "model.compile(optimizer='adam', loss='binary_crossentropy', metrics=['accuracy'])\n",
    "\n",
    "# Plot the model architecture\n",
    "plot_model(model, to_file='modelLSTM_1.png')\n",
    "\n",
    "# Print the model summary\n",
    "print(model.summary())"
   ]
  },
  {
   "cell_type": "code",
   "execution_count": 11,
   "id": "f6079f9b",
   "metadata": {},
   "outputs": [],
   "source": [
    "checkpoint = ModelCheckpoint(\n",
    "    'LSTM/LSTM_2.keras',\n",
    "    monitor='accuracy',\n",
    "    save_best_only=True,\n",
    "    verbose=1\n",
    ")\n",
    "     "
   ]
  },
  {
   "cell_type": "code",
   "execution_count": 12,
   "id": "02cfa7b5",
   "metadata": {},
   "outputs": [
    {
     "name": "stdout",
     "output_type": "stream",
     "text": [
      "Epoch 1/8\n",
      "\u001b[1m312/313\u001b[0m \u001b[32m━━━━━━━━━━━━━━━━━━━\u001b[0m\u001b[37m━\u001b[0m \u001b[1m0s\u001b[0m 70ms/step - accuracy: 0.5168 - loss: 0.6912\n",
      "Epoch 1: accuracy improved from -inf to 0.54555, saving model to LSTM/LSTM_2.keras\n",
      "\u001b[1m313/313\u001b[0m \u001b[32m━━━━━━━━━━━━━━━━━━━━\u001b[0m\u001b[37m\u001b[0m \u001b[1m25s\u001b[0m 79ms/step - accuracy: 0.5169 - loss: 0.6911\n",
      "Epoch 2/8\n",
      "\u001b[1m312/313\u001b[0m \u001b[32m━━━━━━━━━━━━━━━━━━━\u001b[0m\u001b[37m━\u001b[0m \u001b[1m0s\u001b[0m 69ms/step - accuracy: 0.6803 - loss: 0.5839\n",
      "Epoch 2: accuracy improved from 0.54555 to 0.63823, saving model to LSTM/LSTM_2.keras\n",
      "\u001b[1m313/313\u001b[0m \u001b[32m━━━━━━━━━━━━━━━━━━━━\u001b[0m\u001b[37m\u001b[0m \u001b[1m22s\u001b[0m 69ms/step - accuracy: 0.6800 - loss: 0.5841\n",
      "Epoch 3/8\n",
      "\u001b[1m312/313\u001b[0m \u001b[32m━━━━━━━━━━━━━━━━━━━\u001b[0m\u001b[37m━\u001b[0m \u001b[1m0s\u001b[0m 70ms/step - accuracy: 0.5979 - loss: 0.6391\n",
      "Epoch 3: accuracy improved from 0.63823 to 0.64950, saving model to LSTM/LSTM_2.keras\n",
      "\u001b[1m313/313\u001b[0m \u001b[32m━━━━━━━━━━━━━━━━━━━━\u001b[0m\u001b[37m\u001b[0m \u001b[1m22s\u001b[0m 70ms/step - accuracy: 0.5982 - loss: 0.6388\n",
      "Epoch 4/8\n",
      "\u001b[1m312/313\u001b[0m \u001b[32m━━━━━━━━━━━━━━━━━━━\u001b[0m\u001b[37m━\u001b[0m \u001b[1m0s\u001b[0m 71ms/step - accuracy: 0.7351 - loss: 0.5150\n",
      "Epoch 4: accuracy improved from 0.64950 to 0.73115, saving model to LSTM/LSTM_2.keras\n",
      "\u001b[1m313/313\u001b[0m \u001b[32m━━━━━━━━━━━━━━━━━━━━\u001b[0m\u001b[37m\u001b[0m \u001b[1m22s\u001b[0m 72ms/step - accuracy: 0.7351 - loss: 0.5151\n",
      "Epoch 5/8\n",
      "\u001b[1m312/313\u001b[0m \u001b[32m━━━━━━━━━━━━━━━━━━━\u001b[0m\u001b[37m━\u001b[0m \u001b[1m0s\u001b[0m 73ms/step - accuracy: 0.8501 - loss: 0.3952\n",
      "Epoch 5: accuracy improved from 0.73115 to 0.85900, saving model to LSTM/LSTM_2.keras\n",
      "\u001b[1m313/313\u001b[0m \u001b[32m━━━━━━━━━━━━━━━━━━━━\u001b[0m\u001b[37m\u001b[0m \u001b[1m23s\u001b[0m 73ms/step - accuracy: 0.8501 - loss: 0.3951\n",
      "Epoch 6/8\n",
      "\u001b[1m312/313\u001b[0m \u001b[32m━━━━━━━━━━━━━━━━━━━\u001b[0m\u001b[37m━\u001b[0m \u001b[1m0s\u001b[0m 72ms/step - accuracy: 0.8582 - loss: 0.3742\n",
      "Epoch 6: accuracy did not improve from 0.85900\n",
      "\u001b[1m313/313\u001b[0m \u001b[32m━━━━━━━━━━━━━━━━━━━━\u001b[0m\u001b[37m\u001b[0m \u001b[1m23s\u001b[0m 72ms/step - accuracy: 0.8581 - loss: 0.3744\n",
      "Epoch 7/8\n",
      "\u001b[1m312/313\u001b[0m \u001b[32m━━━━━━━━━━━━━━━━━━━\u001b[0m\u001b[37m━\u001b[0m \u001b[1m0s\u001b[0m 72ms/step - accuracy: 0.8109 - loss: 0.4386\n",
      "Epoch 7: accuracy did not improve from 0.85900\n",
      "\u001b[1m313/313\u001b[0m \u001b[32m━━━━━━━━━━━━━━━━━━━━\u001b[0m\u001b[37m\u001b[0m \u001b[1m22s\u001b[0m 72ms/step - accuracy: 0.8111 - loss: 0.4382\n",
      "Epoch 8/8\n",
      "\u001b[1m312/313\u001b[0m \u001b[32m━━━━━━━━━━━━━━━━━━━\u001b[0m\u001b[37m━\u001b[0m \u001b[1m0s\u001b[0m 72ms/step - accuracy: 0.9078 - loss: 0.2585\n",
      "Epoch 8: accuracy improved from 0.85900 to 0.90670, saving model to LSTM/LSTM_2.keras\n",
      "\u001b[1m313/313\u001b[0m \u001b[32m━━━━━━━━━━━━━━━━━━━━\u001b[0m\u001b[37m\u001b[0m \u001b[1m23s\u001b[0m 72ms/step - accuracy: 0.9078 - loss: 0.2585\n"
     ]
    },
    {
     "data": {
      "text/plain": [
       "<keras.src.callbacks.history.History at 0x16e7a8810>"
      ]
     },
     "execution_count": 12,
     "metadata": {},
     "output_type": "execute_result"
    }
   ],
   "source": [
    "\n",
    "\n",
    "model.fit(x_train, y_train, batch_size = 128, epochs = 8, callbacks=[checkpoint])"
   ]
  },
  {
   "cell_type": "code",
   "execution_count": 13,
   "id": "63cb22fd",
   "metadata": {},
   "outputs": [
    {
     "name": "stdout",
     "output_type": "stream",
     "text": [
      "\u001b[1m79/79\u001b[0m \u001b[32m━━━━━━━━━━━━━━━━━━━━\u001b[0m\u001b[37m\u001b[0m \u001b[1m2s\u001b[0m 21ms/step\n",
      "Correct Predictions: 8356\n",
      "Wrong Predictions: 1644\n",
      "Accuracy: 83.56%\n"
     ]
    }
   ],
   "source": [
    "# Predict probabilities\n",
    "y_pred_prob = model.predict(x_test, batch_size=128)\n",
    "\n",
    "# Convert probabilities to class labels (0 or 1)\n",
    "y_pred = (y_pred_prob > 0.5).astype(int)\n",
    "\n",
    "# Compute the number of correct predictions\n",
    "true = 0\n",
    "for i, y in enumerate(y_test):\n",
    "    if y == y_pred[i]:\n",
    "        true += 1\n",
    "\n",
    "# Print results\n",
    "print('Correct Predictions: {}'.format(true))\n",
    "print('Wrong Predictions: {}'.format(len(y_pred) - true))\n",
    "print('Accuracy: {:.2f}%'.format(true / len(y_pred) * 100))"
   ]
  },
  {
   "cell_type": "code",
   "execution_count": 14,
   "id": "3f6cf673",
   "metadata": {},
   "outputs": [],
   "source": [
    "loaded_model = load_model('LSTM/LSTM_2.keras')"
   ]
  },
  {
   "cell_type": "code",
   "execution_count": 15,
   "id": "c725f33d",
   "metadata": {},
   "outputs": [
    {
     "name": "stdout",
     "output_type": "stream",
     "text": [
      "Movie Review: Nothing was typical about this. Everything was beautifully done in this movie, the story, the flow, the scenario, everything. I highly recommend it for mystery lovers, for anyone who wants to watch a good movie!\n"
     ]
    }
   ],
   "source": [
    "review = str(input('Movie Review: '))"
   ]
  },
  {
   "cell_type": "code",
   "execution_count": 16,
   "id": "f6be78db",
   "metadata": {},
   "outputs": [
    {
     "name": "stdout",
     "output_type": "stream",
     "text": [
      "Cleaned:  Nothing was typical about this Everything was beautifully done in this movie the story the flow the scenario everything I highly recommend it for mystery lovers for anyone who wants to watch a good movie\n",
      "Filtered:  ['nothing typical everything beautifully done movie story flow scenario everything i highly recommend mystery lovers anyone wants watch good movie']\n"
     ]
    }
   ],
   "source": [
    "# Pre-process input\n",
    "regex = re.compile(r'[^a-zA-Z\\s]')\n",
    "review = regex.sub('', review)\n",
    "print('Cleaned: ', review)\n",
    "\n",
    "words = review.split(' ')\n",
    "filtered = [w for w in words if w not in english_stops]\n",
    "filtered = ' '.join(filtered)\n",
    "filtered = [filtered.lower()]\n",
    "\n",
    "print('Filtered: ', filtered)"
   ]
  },
  {
   "cell_type": "code",
   "execution_count": 17,
   "id": "3002b55f",
   "metadata": {},
   "outputs": [
    {
     "name": "stdout",
     "output_type": "stream",
     "text": [
      "[[  76  682  173 1227  127    3   15 2676 2622  173    1  441  282  685\n",
      "  1722  152  397   33    9    3    0    0    0    0    0    0    0    0\n",
      "     0    0    0    0    0    0    0    0    0    0    0    0    0    0\n",
      "     0    0    0    0    0    0    0    0    0    0    0    0    0    0\n",
      "     0    0    0    0    0    0    0    0    0    0    0    0    0    0\n",
      "     0    0    0    0    0    0    0    0    0    0    0    0    0    0\n",
      "     0    0    0    0    0    0    0    0    0    0    0    0    0    0\n",
      "     0    0    0    0    0    0    0    0    0    0    0    0    0    0\n",
      "     0    0    0    0    0    0    0    0    0    0    0    0    0    0\n",
      "     0    0    0    0]]\n"
     ]
    }
   ],
   "source": [
    "tokenize_words = token.texts_to_sequences(filtered)\n",
    "tokenize_words = pad_sequences(tokenize_words, maxlen=max_length, padding='post', truncating='post')\n",
    "print(tokenize_words)\n",
    "     "
   ]
  },
  {
   "cell_type": "code",
   "execution_count": 18,
   "id": "7a779c73",
   "metadata": {},
   "outputs": [
    {
     "name": "stdout",
     "output_type": "stream",
     "text": [
      "\u001b[1m1/1\u001b[0m \u001b[32m━━━━━━━━━━━━━━━━━━━━\u001b[0m\u001b[37m\u001b[0m \u001b[1m0s\u001b[0m 81ms/step\n",
      "[[0.9054457]]\n"
     ]
    }
   ],
   "source": [
    "result = loaded_model.predict(tokenize_words)\n",
    "print(result)"
   ]
  },
  {
   "cell_type": "code",
   "execution_count": 19,
   "id": "860a574a",
   "metadata": {},
   "outputs": [
    {
     "name": "stdout",
     "output_type": "stream",
     "text": [
      "positive\n"
     ]
    }
   ],
   "source": [
    "\n",
    "if result >= 0.7:\n",
    "    print('positive')\n",
    "else:\n",
    "    print('negative')"
   ]
  },
  {
   "cell_type": "code",
   "execution_count": 20,
   "id": "9fc19c7d",
   "metadata": {},
   "outputs": [
    {
     "name": "stderr",
     "output_type": "stream",
     "text": [
      "All PyTorch model weights were used when initializing TFBertForSequenceClassification.\n",
      "\n",
      "Some weights or buffers of the TF 2.0 model TFBertForSequenceClassification were not initialized from the PyTorch model and are newly initialized: ['classifier.weight', 'classifier.bias']\n",
      "You should probably TRAIN this model on a down-stream task to be able to use it for predictions and inference.\n"
     ]
    }
   ],
   "source": [
    "\n",
    "from transformers import BertTokenizer, TFBertForSequenceClassification\n",
    "\n",
    "model = TFBertForSequenceClassification.from_pretrained(\"bert-base-uncased\")\n",
    "tokenizer = BertTokenizer.from_pretrained(\"bert-base-uncased\")"
   ]
  },
  {
   "cell_type": "code",
   "execution_count": 34,
   "id": "d29c8106",
   "metadata": {},
   "outputs": [],
   "source": [
    "loaded_model = load_model('LSTM/LSTM_2.keras')"
   ]
  },
  {
   "cell_type": "code",
   "execution_count": 35,
   "id": "f328b915",
   "metadata": {},
   "outputs": [],
   "source": [
    "biden_df = pd.read_csv('cleaned_sample_100_biden.csv')\n",
    "trump_df = pd.read_csv('cleaned_sample_100_trump.csv')"
   ]
  },
  {
   "cell_type": "code",
   "execution_count": 36,
   "id": "66743827",
   "metadata": {},
   "outputs": [
    {
     "data": {
      "text/html": [
       "<div>\n",
       "<style scoped>\n",
       "    .dataframe tbody tr th:only-of-type {\n",
       "        vertical-align: middle;\n",
       "    }\n",
       "\n",
       "    .dataframe tbody tr th {\n",
       "        vertical-align: top;\n",
       "    }\n",
       "\n",
       "    .dataframe thead th {\n",
       "        text-align: right;\n",
       "    }\n",
       "</style>\n",
       "<table border=\"1\" class=\"dataframe\">\n",
       "  <thead>\n",
       "    <tr style=\"text-align: right;\">\n",
       "      <th></th>\n",
       "      <th>tweet</th>\n",
       "      <th>long</th>\n",
       "      <th>lat</th>\n",
       "      <th>state_code</th>\n",
       "      <th>sentiment</th>\n",
       "      <th>who</th>\n",
       "    </tr>\n",
       "  </thead>\n",
       "  <tbody>\n",
       "  </tbody>\n",
       "</table>\n",
       "</div>"
      ],
      "text/plain": [
       "Empty DataFrame\n",
       "Columns: [tweet, long, lat, state_code, sentiment, who]\n",
       "Index: []"
      ]
     },
     "execution_count": 36,
     "metadata": {},
     "output_type": "execute_result"
    }
   ],
   "source": [
    "biden_df.loc[:,'who'] = 'biden'\n",
    "trump_df.loc[:,'who'] = 'trump'\n",
    "\n",
    "balance_data_df = pd.DataFrame(columns=trump_df.columns)\n",
    "balance_data_df"
   ]
  },
  {
   "cell_type": "code",
   "execution_count": 37,
   "id": "b5325984",
   "metadata": {},
   "outputs": [],
   "source": [
    "states_list = set(biden_df['state_code']).union(set(trump_df['state_code'])) - set(['MP', 'GU', 'PR', 'VI', 'AS', 'UM', ])\n",
    "     "
   ]
  },
  {
   "cell_type": "code",
   "execution_count": 38,
   "id": "05f8a978",
   "metadata": {},
   "outputs": [],
   "source": [
    "for state in states_list:\n",
    "    trump_df_state = trump_df[trump_df['state_code']==state]\n",
    "    biden_df_state = biden_df[biden_df['state_code']==state]\n",
    "    \n",
    "    n_sample = len(trump_df_state) if len(trump_df_state) < len(biden_df_state) else len(biden_df_state)\n",
    "    \n",
    "    if len(trump_df_state) < len(biden_df_state):\n",
    "        balance_data_df = pd.concat([balance_data_df, trump_df_state])\n",
    "        balance_data_df = pd.concat([balance_data_df, biden_df_state.sample(len(trump_df_state))])\n",
    "    else:\n",
    "        balance_data_df = pd.concat([balance_data_df, biden_df_state])\n",
    "        balance_data_df = pd.concat([balance_data_df, trump_df_state.sample(len(biden_df_state))])"
   ]
  },
  {
   "cell_type": "code",
   "execution_count": 39,
   "id": "62f32df3",
   "metadata": {},
   "outputs": [
    {
     "data": {
      "text/html": [
       "<div>\n",
       "<style scoped>\n",
       "    .dataframe tbody tr th:only-of-type {\n",
       "        vertical-align: middle;\n",
       "    }\n",
       "\n",
       "    .dataframe tbody tr th {\n",
       "        vertical-align: top;\n",
       "    }\n",
       "\n",
       "    .dataframe thead th {\n",
       "        text-align: right;\n",
       "    }\n",
       "</style>\n",
       "<table border=\"1\" class=\"dataframe\">\n",
       "  <thead>\n",
       "    <tr style=\"text-align: right;\">\n",
       "      <th></th>\n",
       "      <th>tweet</th>\n",
       "      <th>long</th>\n",
       "      <th>lat</th>\n",
       "      <th>state_code</th>\n",
       "      <th>sentiment</th>\n",
       "      <th>who</th>\n",
       "    </tr>\n",
       "  </thead>\n",
       "  <tbody>\n",
       "    <tr>\n",
       "      <th>40</th>\n",
       "      <td>Trump</td>\n",
       "      <td>-79.142246</td>\n",
       "      <td>37.413754</td>\n",
       "      <td>VA</td>\n",
       "      <td>0</td>\n",
       "      <td>biden</td>\n",
       "    </tr>\n",
       "    <tr>\n",
       "      <th>53</th>\n",
       "      <td>Trump sues for Michigan ballot access, asks Wi...</td>\n",
       "      <td>-76.411419</td>\n",
       "      <td>36.950755</td>\n",
       "      <td>VA</td>\n",
       "      <td>0</td>\n",
       "      <td>biden</td>\n",
       "    </tr>\n",
       "    <tr>\n",
       "      <th>79</th>\n",
       "      <td>Biden2020 will win the popular vote, but bewar...</td>\n",
       "      <td>-77.447943</td>\n",
       "      <td>38.793099</td>\n",
       "      <td>VA</td>\n",
       "      <td>0</td>\n",
       "      <td>biden</td>\n",
       "    </tr>\n",
       "    <tr>\n",
       "      <th>94</th>\n",
       "      <td>VoteRedToSaveAmerica2020 MAGA2020 Trump</td>\n",
       "      <td>-78.492772</td>\n",
       "      <td>37.123224</td>\n",
       "      <td>VA</td>\n",
       "      <td>0</td>\n",
       "      <td>biden</td>\n",
       "    </tr>\n",
       "    <tr>\n",
       "      <th>260</th>\n",
       "      <td>American Democracy will Survive 2020  Democrac...</td>\n",
       "      <td>-78.492772</td>\n",
       "      <td>37.123224</td>\n",
       "      <td>VA</td>\n",
       "      <td>0</td>\n",
       "      <td>biden</td>\n",
       "    </tr>\n",
       "    <tr>\n",
       "      <th>...</th>\n",
       "      <td>...</td>\n",
       "      <td>...</td>\n",
       "      <td>...</td>\n",
       "      <td>...</td>\n",
       "      <td>...</td>\n",
       "      <td>...</td>\n",
       "    </tr>\n",
       "    <tr>\n",
       "      <th>12043</th>\n",
       "      <td>As I watch the news and stories about Trump, I...</td>\n",
       "      <td>-88.732158</td>\n",
       "      <td>45.189585</td>\n",
       "      <td>WI</td>\n",
       "      <td>0</td>\n",
       "      <td>trump</td>\n",
       "    </tr>\n",
       "    <tr>\n",
       "      <th>20562</th>\n",
       "      <td>JohnJwirenius MonicaHesse Gorgeous piece hitti...</td>\n",
       "      <td>-89.688464</td>\n",
       "      <td>44.430898</td>\n",
       "      <td>WI</td>\n",
       "      <td>0</td>\n",
       "      <td>trump</td>\n",
       "    </tr>\n",
       "    <tr>\n",
       "      <th>22789</th>\n",
       "      <td>realDonaldTrump THIS GUY SAYS STOP THE COUNT F...</td>\n",
       "      <td>-89.688464</td>\n",
       "      <td>44.430898</td>\n",
       "      <td>WI</td>\n",
       "      <td>0</td>\n",
       "      <td>trump</td>\n",
       "    </tr>\n",
       "    <tr>\n",
       "      <th>25430</th>\n",
       "      <td>Arizona, Nevada, Wisconsin, Michigan and Maine...</td>\n",
       "      <td>-89.688464</td>\n",
       "      <td>44.430898</td>\n",
       "      <td>WI</td>\n",
       "      <td>0</td>\n",
       "      <td>trump</td>\n",
       "    </tr>\n",
       "    <tr>\n",
       "      <th>29399</th>\n",
       "      <td>I wish it was RoddyRicch2020  but go vote ! Jo...</td>\n",
       "      <td>-87.922497</td>\n",
       "      <td>43.034993</td>\n",
       "      <td>WI</td>\n",
       "      <td>0</td>\n",
       "      <td>trump</td>\n",
       "    </tr>\n",
       "  </tbody>\n",
       "</table>\n",
       "<p>19674 rows × 6 columns</p>\n",
       "</div>"
      ],
      "text/plain": [
       "                                                   tweet       long  \\\n",
       "40                                                Trump  -79.142246   \n",
       "53     Trump sues for Michigan ballot access, asks Wi... -76.411419   \n",
       "79     Biden2020 will win the popular vote, but bewar... -77.447943   \n",
       "94              VoteRedToSaveAmerica2020 MAGA2020 Trump  -78.492772   \n",
       "260    American Democracy will Survive 2020  Democrac... -78.492772   \n",
       "...                                                  ...        ...   \n",
       "12043  As I watch the news and stories about Trump, I... -88.732158   \n",
       "20562  JohnJwirenius MonicaHesse Gorgeous piece hitti... -89.688464   \n",
       "22789  realDonaldTrump THIS GUY SAYS STOP THE COUNT F... -89.688464   \n",
       "25430  Arizona, Nevada, Wisconsin, Michigan and Maine... -89.688464   \n",
       "29399  I wish it was RoddyRicch2020  but go vote ! Jo... -87.922497   \n",
       "\n",
       "             lat state_code sentiment    who  \n",
       "40     37.413754         VA         0  biden  \n",
       "53     36.950755         VA         0  biden  \n",
       "79     38.793099         VA         0  biden  \n",
       "94     37.123224         VA         0  biden  \n",
       "260    37.123224         VA         0  biden  \n",
       "...          ...        ...       ...    ...  \n",
       "12043  45.189585         WI         0  trump  \n",
       "20562  44.430898         WI         0  trump  \n",
       "22789  44.430898         WI         0  trump  \n",
       "25430  44.430898         WI         0  trump  \n",
       "29399  43.034993         WI         0  trump  \n",
       "\n",
       "[19674 rows x 6 columns]"
      ]
     },
     "execution_count": 39,
     "metadata": {},
     "output_type": "execute_result"
    }
   ],
   "source": [
    "balance_data_df"
   ]
  },
  {
   "cell_type": "code",
   "execution_count": 40,
   "id": "776bdc6b",
   "metadata": {},
   "outputs": [],
   "source": [
    "batch_size = 100"
   ]
  },
  {
   "cell_type": "code",
   "execution_count": 41,
   "id": "fd66476f",
   "metadata": {},
   "outputs": [],
   "source": [
    "from tqdm.auto import tqdm\n",
    "import tensorflow as tf\n",
    "\n",
    "def emotion_classify(tweet_list):\n",
    "    batch_idx = np.append(np.arange(0, len(tweet_list), batch_size), len(tweet_list))\n",
    "    labels = np.array([])\n",
    "    for i in tqdm(range(len(batch_idx)-1)):\n",
    "        tf_batch = tokenizer(tweet_list[batch_idx[i]:batch_idx[i+1]], max_length=280, padding=True, truncation=True, return_tensors='tf')\n",
    "        tf_outputs = model(tf_batch)\n",
    "        tf_predictions = tf.nn.softmax(tf_outputs[0], axis=-1)\n",
    "        labels = np.append(labels, tf.argmax(tf_predictions, axis=1))\n",
    "#         labels = np.append(labels, tf_predictions[:,1])\n",
    "        del tf_batch\n",
    "    return labels\n",
    "     "
   ]
  },
  {
   "cell_type": "code",
   "execution_count": 43,
   "id": "fa8f6b91",
   "metadata": {},
   "outputs": [
    {
     "data": {
      "application/vnd.jupyter.widget-view+json": {
       "model_id": "1b52dc61ba004f59a62ef1470d6740ab",
       "version_major": 2,
       "version_minor": 0
      },
      "text/plain": [
       "  0%|          | 0/197 [00:00<?, ?it/s]"
      ]
     },
     "metadata": {},
     "output_type": "display_data"
    }
   ],
   "source": [
    "balance_data_df['sentiment'] = emotion_classify(list(balance_data_df['tweet']))\n"
   ]
  },
  {
   "cell_type": "code",
   "execution_count": 44,
   "id": "0dc78a0e",
   "metadata": {},
   "outputs": [
    {
     "data": {
      "text/html": [
       "<div>\n",
       "<style scoped>\n",
       "    .dataframe tbody tr th:only-of-type {\n",
       "        vertical-align: middle;\n",
       "    }\n",
       "\n",
       "    .dataframe tbody tr th {\n",
       "        vertical-align: top;\n",
       "    }\n",
       "\n",
       "    .dataframe thead th {\n",
       "        text-align: right;\n",
       "    }\n",
       "</style>\n",
       "<table border=\"1\" class=\"dataframe\">\n",
       "  <thead>\n",
       "    <tr style=\"text-align: right;\">\n",
       "      <th></th>\n",
       "      <th>tweet</th>\n",
       "      <th>long</th>\n",
       "      <th>lat</th>\n",
       "      <th>state_code</th>\n",
       "      <th>sentiment</th>\n",
       "      <th>who</th>\n",
       "    </tr>\n",
       "  </thead>\n",
       "  <tbody>\n",
       "    <tr>\n",
       "      <th>40</th>\n",
       "      <td>Trump</td>\n",
       "      <td>-79.142246</td>\n",
       "      <td>37.413754</td>\n",
       "      <td>VA</td>\n",
       "      <td>1.0</td>\n",
       "      <td>biden</td>\n",
       "    </tr>\n",
       "    <tr>\n",
       "      <th>53</th>\n",
       "      <td>Trump sues for Michigan ballot access, asks Wi...</td>\n",
       "      <td>-76.411419</td>\n",
       "      <td>36.950755</td>\n",
       "      <td>VA</td>\n",
       "      <td>1.0</td>\n",
       "      <td>biden</td>\n",
       "    </tr>\n",
       "    <tr>\n",
       "      <th>79</th>\n",
       "      <td>Biden2020 will win the popular vote, but bewar...</td>\n",
       "      <td>-77.447943</td>\n",
       "      <td>38.793099</td>\n",
       "      <td>VA</td>\n",
       "      <td>1.0</td>\n",
       "      <td>biden</td>\n",
       "    </tr>\n",
       "    <tr>\n",
       "      <th>94</th>\n",
       "      <td>VoteRedToSaveAmerica2020 MAGA2020 Trump</td>\n",
       "      <td>-78.492772</td>\n",
       "      <td>37.123224</td>\n",
       "      <td>VA</td>\n",
       "      <td>1.0</td>\n",
       "      <td>biden</td>\n",
       "    </tr>\n",
       "    <tr>\n",
       "      <th>260</th>\n",
       "      <td>American Democracy will Survive 2020  Democrac...</td>\n",
       "      <td>-78.492772</td>\n",
       "      <td>37.123224</td>\n",
       "      <td>VA</td>\n",
       "      <td>1.0</td>\n",
       "      <td>biden</td>\n",
       "    </tr>\n",
       "  </tbody>\n",
       "</table>\n",
       "</div>"
      ],
      "text/plain": [
       "                                                 tweet       long        lat  \\\n",
       "40                                              Trump  -79.142246  37.413754   \n",
       "53   Trump sues for Michigan ballot access, asks Wi... -76.411419  36.950755   \n",
       "79   Biden2020 will win the popular vote, but bewar... -77.447943  38.793099   \n",
       "94            VoteRedToSaveAmerica2020 MAGA2020 Trump  -78.492772  37.123224   \n",
       "260  American Democracy will Survive 2020  Democrac... -78.492772  37.123224   \n",
       "\n",
       "    state_code  sentiment    who  \n",
       "40          VA        1.0  biden  \n",
       "53          VA        1.0  biden  \n",
       "79          VA        1.0  biden  \n",
       "94          VA        1.0  biden  \n",
       "260         VA        1.0  biden  "
      ]
     },
     "execution_count": 44,
     "metadata": {},
     "output_type": "execute_result"
    }
   ],
   "source": [
    "\n",
    "balance_data_df.to_csv('LSTM/balance_data_with_sentiments.csv', index=False, header=True)\n",
    "\n",
    "balance_data_df.head()"
   ]
  },
  {
   "cell_type": "code",
   "execution_count": 45,
   "id": "1948d9f5",
   "metadata": {},
   "outputs": [],
   "source": [
    "dem_states = set(['DC', 'VT', 'HI', 'MA', 'MD', 'CA', 'NY', 'RI', 'DE', \n",
    "                 'CT', 'WA', 'ME', 'NJ', 'OR', 'IL'])\n",
    "rep_states = set(['OH', 'IA', 'TX', 'MT', 'SC', 'AK', 'MO', 'IN', 'NE',\n",
    "                 'KS', 'UT', 'MS', 'TN', 'SD', 'KY', 'LA', 'AL', 'ND',\n",
    "                 'ID', 'AR', 'OK', 'WV', 'WY'])\n",
    "swing_states = states_list - dem_states - rep_states\n",
    "     "
   ]
  },
  {
   "cell_type": "code",
   "execution_count": 46,
   "id": "6b6bcbfc",
   "metadata": {},
   "outputs": [],
   "source": [
    "electoral_vote_by_state = pd.read_csv('/Users/jaishreeram/Desktop/DS/electrol_votes.csv')"
   ]
  },
  {
   "cell_type": "code",
   "execution_count": 47,
   "id": "b664a92b",
   "metadata": {},
   "outputs": [],
   "source": [
    "states_results = pd.DataFrame(columns=['state_code', 'biden', 'trump', 'type', 'winner'])\n",
    "     "
   ]
  },
  {
   "cell_type": "code",
   "execution_count": 48,
   "id": "b8c48535",
   "metadata": {},
   "outputs": [],
   "source": [
    "states_results.loc[:,'state_code'] = electoral_vote_by_state['Abb_State']\n",
    "states_results.loc[:,'e_vote'] = electoral_vote_by_state['Electoral_College_Votes']"
   ]
  },
  {
   "cell_type": "code",
   "execution_count": 49,
   "id": "410b57cc",
   "metadata": {},
   "outputs": [],
   "source": [
    "type_vs_candidate = {'blue': 'biden', 'red': 'trump', 'purple': 'contentious'}\n",
    "threshold = 1.15\n",
    "for state in states_list:\n",
    "    trump_slice = balance_data_df.query(f'state_code == \"{state}\" and who == \"trump\"')\n",
    "    biden_slice = balance_data_df.query(f'state_code == \"{state}\" and who == \"biden\"')\n",
    "    trump_score = np.sum(trump_slice['sentiment']) + 1\n",
    "    biden_score = np.sum(biden_slice['sentiment']) + 1\n",
    "    \n",
    "    state_type = ''\n",
    "    if state in dem_states:\n",
    "        state_type = 'blue'\n",
    "    elif state in rep_states:\n",
    "        state_type = 'red'\n",
    "    else:\n",
    "        state_type = 'purple'\n",
    "        \n",
    "    winner = ''\n",
    "    if len(trump_slice) + len(biden_slice) < 1000:\n",
    "        winner = type_vs_candidate[state_type]\n",
    "    else:\n",
    "        if trump_score/biden_score > threshold:\n",
    "            winner = 'trump'\n",
    "        elif biden_score/trump_score > threshold:\n",
    "            winner = 'biden'\n",
    "        else:\n",
    "            winner = 'contentious'\n",
    "        \n",
    "    states_results.loc[states_results['state_code'] == state, ['biden', 'trump', 'type', 'winner']] = \\\n",
    "        [biden_score, trump_score, state_type, winner]"
   ]
  },
  {
   "cell_type": "code",
   "execution_count": 50,
   "id": "8684ce92",
   "metadata": {},
   "outputs": [
    {
     "data": {
      "text/html": [
       "<div>\n",
       "<style scoped>\n",
       "    .dataframe tbody tr th:only-of-type {\n",
       "        vertical-align: middle;\n",
       "    }\n",
       "\n",
       "    .dataframe tbody tr th {\n",
       "        vertical-align: top;\n",
       "    }\n",
       "\n",
       "    .dataframe thead th {\n",
       "        text-align: right;\n",
       "    }\n",
       "</style>\n",
       "<table border=\"1\" class=\"dataframe\">\n",
       "  <thead>\n",
       "    <tr style=\"text-align: right;\">\n",
       "      <th></th>\n",
       "      <th>state_code</th>\n",
       "      <th>biden</th>\n",
       "      <th>trump</th>\n",
       "      <th>type</th>\n",
       "      <th>winner</th>\n",
       "      <th>e_vote</th>\n",
       "    </tr>\n",
       "  </thead>\n",
       "  <tbody>\n",
       "    <tr>\n",
       "      <th>2</th>\n",
       "      <td>AZ</td>\n",
       "      <td>185.0</td>\n",
       "      <td>173.0</td>\n",
       "      <td>purple</td>\n",
       "      <td>contentious</td>\n",
       "      <td>11</td>\n",
       "    </tr>\n",
       "    <tr>\n",
       "      <th>4</th>\n",
       "      <td>CA</td>\n",
       "      <td>1630.0</td>\n",
       "      <td>1491.0</td>\n",
       "      <td>blue</td>\n",
       "      <td>contentious</td>\n",
       "      <td>55</td>\n",
       "    </tr>\n",
       "    <tr>\n",
       "      <th>5</th>\n",
       "      <td>CO</td>\n",
       "      <td>170.0</td>\n",
       "      <td>156.0</td>\n",
       "      <td>purple</td>\n",
       "      <td>contentious</td>\n",
       "      <td>9</td>\n",
       "    </tr>\n",
       "    <tr>\n",
       "      <th>9</th>\n",
       "      <td>FL</td>\n",
       "      <td>820.0</td>\n",
       "      <td>767.0</td>\n",
       "      <td>purple</td>\n",
       "      <td>contentious</td>\n",
       "      <td>29</td>\n",
       "    </tr>\n",
       "    <tr>\n",
       "      <th>10</th>\n",
       "      <td>GA</td>\n",
       "      <td>202.0</td>\n",
       "      <td>183.0</td>\n",
       "      <td>purple</td>\n",
       "      <td>contentious</td>\n",
       "      <td>16</td>\n",
       "    </tr>\n",
       "    <tr>\n",
       "      <th>22</th>\n",
       "      <td>MI</td>\n",
       "      <td>203.0</td>\n",
       "      <td>185.0</td>\n",
       "      <td>purple</td>\n",
       "      <td>contentious</td>\n",
       "      <td>16</td>\n",
       "    </tr>\n",
       "    <tr>\n",
       "      <th>23</th>\n",
       "      <td>MN</td>\n",
       "      <td>119.0</td>\n",
       "      <td>109.0</td>\n",
       "      <td>purple</td>\n",
       "      <td>contentious</td>\n",
       "      <td>10</td>\n",
       "    </tr>\n",
       "    <tr>\n",
       "      <th>28</th>\n",
       "      <td>NV</td>\n",
       "      <td>145.0</td>\n",
       "      <td>134.0</td>\n",
       "      <td>purple</td>\n",
       "      <td>contentious</td>\n",
       "      <td>6</td>\n",
       "    </tr>\n",
       "    <tr>\n",
       "      <th>29</th>\n",
       "      <td>NH</td>\n",
       "      <td>33.0</td>\n",
       "      <td>30.0</td>\n",
       "      <td>purple</td>\n",
       "      <td>contentious</td>\n",
       "      <td>4</td>\n",
       "    </tr>\n",
       "    <tr>\n",
       "      <th>31</th>\n",
       "      <td>NM</td>\n",
       "      <td>36.0</td>\n",
       "      <td>32.0</td>\n",
       "      <td>purple</td>\n",
       "      <td>contentious</td>\n",
       "      <td>5</td>\n",
       "    </tr>\n",
       "    <tr>\n",
       "      <th>32</th>\n",
       "      <td>NY</td>\n",
       "      <td>1079.0</td>\n",
       "      <td>1007.0</td>\n",
       "      <td>blue</td>\n",
       "      <td>contentious</td>\n",
       "      <td>29</td>\n",
       "    </tr>\n",
       "    <tr>\n",
       "      <th>33</th>\n",
       "      <td>NC</td>\n",
       "      <td>235.0</td>\n",
       "      <td>212.0</td>\n",
       "      <td>purple</td>\n",
       "      <td>contentious</td>\n",
       "      <td>15</td>\n",
       "    </tr>\n",
       "    <tr>\n",
       "      <th>38</th>\n",
       "      <td>PA</td>\n",
       "      <td>314.0</td>\n",
       "      <td>278.0</td>\n",
       "      <td>purple</td>\n",
       "      <td>contentious</td>\n",
       "      <td>20</td>\n",
       "    </tr>\n",
       "    <tr>\n",
       "      <th>43</th>\n",
       "      <td>TX</td>\n",
       "      <td>909.0</td>\n",
       "      <td>843.0</td>\n",
       "      <td>red</td>\n",
       "      <td>contentious</td>\n",
       "      <td>38</td>\n",
       "    </tr>\n",
       "    <tr>\n",
       "      <th>46</th>\n",
       "      <td>VA</td>\n",
       "      <td>145.0</td>\n",
       "      <td>131.0</td>\n",
       "      <td>purple</td>\n",
       "      <td>contentious</td>\n",
       "      <td>13</td>\n",
       "    </tr>\n",
       "    <tr>\n",
       "      <th>49</th>\n",
       "      <td>WI</td>\n",
       "      <td>107.0</td>\n",
       "      <td>102.0</td>\n",
       "      <td>purple</td>\n",
       "      <td>contentious</td>\n",
       "      <td>10</td>\n",
       "    </tr>\n",
       "  </tbody>\n",
       "</table>\n",
       "</div>"
      ],
      "text/plain": [
       "   state_code   biden   trump    type       winner  e_vote\n",
       "2          AZ   185.0   173.0  purple  contentious      11\n",
       "4          CA  1630.0  1491.0    blue  contentious      55\n",
       "5          CO   170.0   156.0  purple  contentious       9\n",
       "9          FL   820.0   767.0  purple  contentious      29\n",
       "10         GA   202.0   183.0  purple  contentious      16\n",
       "22         MI   203.0   185.0  purple  contentious      16\n",
       "23         MN   119.0   109.0  purple  contentious      10\n",
       "28         NV   145.0   134.0  purple  contentious       6\n",
       "29         NH    33.0    30.0  purple  contentious       4\n",
       "31         NM    36.0    32.0  purple  contentious       5\n",
       "32         NY  1079.0  1007.0    blue  contentious      29\n",
       "33         NC   235.0   212.0  purple  contentious      15\n",
       "38         PA   314.0   278.0  purple  contentious      20\n",
       "43         TX   909.0   843.0     red  contentious      38\n",
       "46         VA   145.0   131.0  purple  contentious      13\n",
       "49         WI   107.0   102.0  purple  contentious      10"
      ]
     },
     "execution_count": 50,
     "metadata": {},
     "output_type": "execute_result"
    }
   ],
   "source": [
    "states_results.query('winner==\"contentious\"')"
   ]
  },
  {
   "cell_type": "code",
   "execution_count": 52,
   "id": "ef462621",
   "metadata": {},
   "outputs": [
    {
     "data": {
      "text/plain": [
       "Index(['state_code', 'biden', 'trump', 'type', 'winner', 'e_vote', 'geometry'], dtype='object')"
      ]
     },
     "execution_count": 52,
     "metadata": {},
     "output_type": "execute_result"
    }
   ],
   "source": [
    "import geopandas as gpd\n",
    "import matplotlib.pyplot as plt\n",
    "\n",
    "us_shape = gpd.read_file('/Users/jaishreeram/Desktop/DS/cb_2018_us_state_500k/cb_2018_us_state_500k.shp')\n",
    "us_shape = us_shape[['STUSPS', 'geometry']]\n",
    "states_results_tmp = states_results.copy()\n",
    "states_results_tmp = states_results_tmp.merge(us_shape, left_on='state_code', right_on='STUSPS')\n",
    "states_results_tmp.drop(['STUSPS'], axis=1, inplace=True)\n",
    "states_results_tmp = gpd.GeoDataFrame(states_results_tmp)\n",
    "\n",
    "states_results_tmp.columns\n",
    "     "
   ]
  },
  {
   "cell_type": "code",
   "execution_count": 54,
   "id": "223da40c",
   "metadata": {},
   "outputs": [
    {
     "data": {
      "image/png": "[encoded data removed]",
      "text/plain": [
       "<Figure size 1500x1500 with 1 Axes>"
      ]
     },
     "metadata": {},
     "output_type": "display_data"
    }
   ],
   "source": [
    "\n",
    "# Create the plot\n",
    "fig, ax = plt.subplots(1, 1, figsize=(15, 15))\n",
    "\n",
    "# Annotate state codes\n",
    "for _, row in states_results_tmp.iterrows():\n",
    "    centroid = row['geometry'].centroid\n",
    "    x, y = centroid.x, centroid.y\n",
    "    ax.annotate(\n",
    "        text=row['state_code'],  # The text to display\n",
    "        xy=(x, y),  # Coordinates of the centroid\n",
    "        ha='center',  # Horizontal alignment\n",
    "        fontsize=9,  # Font size\n",
    "        color='white'  # Text color\n",
    "    )\n",
    "\n",
    "# Plot states based on winner\n",
    "states_results_tmp[states_results_tmp['winner'] == 'trump'].plot(ax=ax, color='red', edgecolor='black')\n",
    "states_results_tmp[states_results_tmp['winner'] == 'biden'].plot(ax=ax, color='blue', edgecolor='black')\n",
    "states_results_tmp[states_results_tmp['winner'] == 'contentious'].plot(ax=ax, color='purple', edgecolor='black')\n",
    "\n",
    "# Set plot options\n",
    "plt.axis('square')\n",
    "ax.set_xlim([-180, -60])\n",
    "ax.set_ylim([10, 80])\n",
    "ax.set_xticks([])\n",
    "ax.set_yticks([])\n",
    "\n",
    "plt.show()"
   ]
  },
  {
   "cell_type": "code",
   "execution_count": 55,
   "id": "4f397ae4",
   "metadata": {},
   "outputs": [],
   "source": [
    "states_results.to_csv('state_results_LSTM.csv', index=False, header=True)\n",
    "fig.savefig('state_results_LSTM.png')"
   ]
  },
  {
   "cell_type": "code",
   "execution_count": 56,
   "id": "0215762f",
   "metadata": {},
   "outputs": [
    {
     "name": "stdout",
     "output_type": "stream",
     "text": [
      "150 102\n"
     ]
    }
   ],
   "source": [
    "trump_vote = np.sum(states_results[states_results['winner'] == 'trump']['e_vote'])\n",
    "biden_vote = np.sum(states_results[states_results['winner'] == 'biden']['e_vote'])\n",
    "print(trump_vote, biden_vote)"
   ]
  },
  {
   "cell_type": "code",
   "execution_count": 57,
   "id": "dddaf947",
   "metadata": {},
   "outputs": [],
   "source": [
    "import itertools"
   ]
  },
  {
   "cell_type": "code",
   "execution_count": 58,
   "id": "9de7a267",
   "metadata": {},
   "outputs": [],
   "source": [
    "states_results = pd.read_csv('state_results_LSTM.csv')"
   ]
  },
  {
   "cell_type": "code",
   "execution_count": 59,
   "id": "9d33847e",
   "metadata": {},
   "outputs": [
    {
     "name": "stdout",
     "output_type": "stream",
     "text": [
      "150 102\n"
     ]
    }
   ],
   "source": [
    "num_vote_to_win = 270\n",
    "trump_vote = np.sum(states_results[states_results['winner'] == 'trump']['e_vote'])\n",
    "biden_vote = np.sum(states_results[states_results['winner'] == 'biden']['e_vote'])\n",
    "print(trump_vote, biden_vote)"
   ]
  },
  {
   "cell_type": "code",
   "execution_count": 60,
   "id": "6521b7cf",
   "metadata": {},
   "outputs": [
    {
     "data": {
      "text/html": [
       "<div>\n",
       "<style scoped>\n",
       "    .dataframe tbody tr th:only-of-type {\n",
       "        vertical-align: middle;\n",
       "    }\n",
       "\n",
       "    .dataframe tbody tr th {\n",
       "        vertical-align: top;\n",
       "    }\n",
       "\n",
       "    .dataframe thead th {\n",
       "        text-align: right;\n",
       "    }\n",
       "</style>\n",
       "<table border=\"1\" class=\"dataframe\">\n",
       "  <thead>\n",
       "    <tr style=\"text-align: right;\">\n",
       "      <th></th>\n",
       "      <th>state_code</th>\n",
       "      <th>e_vote</th>\n",
       "    </tr>\n",
       "  </thead>\n",
       "  <tbody>\n",
       "    <tr>\n",
       "      <th>2</th>\n",
       "      <td>AZ</td>\n",
       "      <td>11</td>\n",
       "    </tr>\n",
       "    <tr>\n",
       "      <th>4</th>\n",
       "      <td>CA</td>\n",
       "      <td>55</td>\n",
       "    </tr>\n",
       "    <tr>\n",
       "      <th>5</th>\n",
       "      <td>CO</td>\n",
       "      <td>9</td>\n",
       "    </tr>\n",
       "    <tr>\n",
       "      <th>9</th>\n",
       "      <td>FL</td>\n",
       "      <td>29</td>\n",
       "    </tr>\n",
       "    <tr>\n",
       "      <th>10</th>\n",
       "      <td>GA</td>\n",
       "      <td>16</td>\n",
       "    </tr>\n",
       "    <tr>\n",
       "      <th>22</th>\n",
       "      <td>MI</td>\n",
       "      <td>16</td>\n",
       "    </tr>\n",
       "    <tr>\n",
       "      <th>23</th>\n",
       "      <td>MN</td>\n",
       "      <td>10</td>\n",
       "    </tr>\n",
       "    <tr>\n",
       "      <th>28</th>\n",
       "      <td>NV</td>\n",
       "      <td>6</td>\n",
       "    </tr>\n",
       "    <tr>\n",
       "      <th>29</th>\n",
       "      <td>NH</td>\n",
       "      <td>4</td>\n",
       "    </tr>\n",
       "    <tr>\n",
       "      <th>31</th>\n",
       "      <td>NM</td>\n",
       "      <td>5</td>\n",
       "    </tr>\n",
       "    <tr>\n",
       "      <th>32</th>\n",
       "      <td>NY</td>\n",
       "      <td>29</td>\n",
       "    </tr>\n",
       "    <tr>\n",
       "      <th>33</th>\n",
       "      <td>NC</td>\n",
       "      <td>15</td>\n",
       "    </tr>\n",
       "    <tr>\n",
       "      <th>38</th>\n",
       "      <td>PA</td>\n",
       "      <td>20</td>\n",
       "    </tr>\n",
       "    <tr>\n",
       "      <th>43</th>\n",
       "      <td>TX</td>\n",
       "      <td>38</td>\n",
       "    </tr>\n",
       "    <tr>\n",
       "      <th>46</th>\n",
       "      <td>VA</td>\n",
       "      <td>13</td>\n",
       "    </tr>\n",
       "    <tr>\n",
       "      <th>49</th>\n",
       "      <td>WI</td>\n",
       "      <td>10</td>\n",
       "    </tr>\n",
       "  </tbody>\n",
       "</table>\n",
       "</div>"
      ],
      "text/plain": [
       "   state_code  e_vote\n",
       "2          AZ      11\n",
       "4          CA      55\n",
       "5          CO       9\n",
       "9          FL      29\n",
       "10         GA      16\n",
       "22         MI      16\n",
       "23         MN      10\n",
       "28         NV       6\n",
       "29         NH       4\n",
       "31         NM       5\n",
       "32         NY      29\n",
       "33         NC      15\n",
       "38         PA      20\n",
       "43         TX      38\n",
       "46         VA      13\n",
       "49         WI      10"
      ]
     },
     "execution_count": 60,
     "metadata": {},
     "output_type": "execute_result"
    }
   ],
   "source": [
    "contentious_states = states_results.loc[states_results['winner'] == 'contentious',['state_code', 'e_vote']]\n",
    "contentious_states"
   ]
  },
  {
   "cell_type": "code",
   "execution_count": 61,
   "id": "cfb8ae7d",
   "metadata": {},
   "outputs": [],
   "source": [
    "def predict_winner(states, win_lose):\n",
    "    trump_cont_vote = trump_vote + np.sum(states.iloc[np.where(np.array(win_lose) == 1)[0]]['e_vote'])\n",
    "    biden_cont_vote = biden_vote + np.sum(states.iloc[np.where(np.array(win_lose) == 0)[0]]['e_vote'])\n",
    "    \n",
    "\n",
    "#     print(trump_cont_vote, biden_cont_vote)\n",
    "    \n",
    "    if trump_cont_vote >= num_vote_to_win:\n",
    "        return 1\n",
    "    elif biden_cont_vote >= num_vote_to_win:\n",
    "        return 0\n",
    "    else:\n",
    "        return None"
   ]
  },
  {
   "cell_type": "code",
   "execution_count": 62,
   "id": "8adf4577",
   "metadata": {},
   "outputs": [],
   "source": [
    "get_bin = lambda x, n: format(x, 'b').zfill(n)"
   ]
  },
  {
   "cell_type": "code",
   "execution_count": 63,
   "id": "c0ebed2f",
   "metadata": {},
   "outputs": [],
   "source": [
    "total = 0\n",
    "n_bits = len(contentious_states)\n",
    "n_possible_scenarios = 2**n_bits\n",
    "draw = 0\n",
    "for i in range(n_possible_scenarios):\n",
    "    win_lose = list(map(int, get_bin(i, n_bits)))\n",
    "    \n",
    "    winner = predict_winner(contentious_states, win_lose)\n",
    "    if winner != None:\n",
    "        total += winner\n",
    "    else:\n",
    "        draw += 1"
   ]
  },
  {
   "cell_type": "code",
   "execution_count": 64,
   "id": "e36b7ab8",
   "metadata": {},
   "outputs": [],
   "source": [
    "trump_chance_to_win = total/(n_possible_scenarios)\n",
    "draw_chance = draw/n_possible_scenarios\n",
    "biden_chance_to_win = 1 - draw_chance - trump_chance_to_win"
   ]
  },
  {
   "cell_type": "code",
   "execution_count": 65,
   "id": "f2b121d2",
   "metadata": {},
   "outputs": [
    {
     "name": "stdout",
     "output_type": "stream",
     "text": [
      "68.9971923828125 30.2032470703125 0.799560546875\n"
     ]
    }
   ],
   "source": [
    "print(trump_chance_to_win*100, biden_chance_to_win*100, draw_chance*100)"
   ]
  },
  {
   "cell_type": "code",
   "execution_count": 66,
   "id": "1835fe66",
   "metadata": {},
   "outputs": [
    {
     "data": {
      "text/plain": [
       "{'candidate': ['trump', 'biden', 'draw'],\n",
       " 'chance_to_win': ['68.99719', '30.20325', '0.79956']}"
      ]
     },
     "execution_count": 66,
     "metadata": {},
     "output_type": "execute_result"
    }
   ],
   "source": [
    "win_chance_dict = dict({'candidate': ['trump', 'biden', 'draw'],\n",
    "                        'chance_to_win': [f'{trump_chance_to_win*100:.5f}',\n",
    "                                          f'{biden_chance_to_win*100:.5f}',\n",
    "                                          f'{draw_chance*100:.5f}']\n",
    "                       })\n",
    "win_chance_dict"
   ]
  },
  {
   "cell_type": "code",
   "execution_count": 67,
   "id": "0ee14ccd",
   "metadata": {},
   "outputs": [],
   "source": [
    "win_chance_df = pd.DataFrame(win_chance_dict)\n",
    "win_chance_df.to_csv('win_chance_state_results_LSTM.csv', index=False, header=True)"
   ]
  },
  {
   "cell_type": "code",
   "execution_count": 71,
   "id": "979556ca",
   "metadata": {},
   "outputs": [
    {
     "data": {
      "text/html": [
       "<div>\n",
       "<style scoped>\n",
       "    .dataframe tbody tr th:only-of-type {\n",
       "        vertical-align: middle;\n",
       "    }\n",
       "\n",
       "    .dataframe tbody tr th {\n",
       "        vertical-align: top;\n",
       "    }\n",
       "\n",
       "    .dataframe thead th {\n",
       "        text-align: right;\n",
       "    }\n",
       "</style>\n",
       "<table border=\"1\" class=\"dataframe\">\n",
       "  <thead>\n",
       "    <tr style=\"text-align: right;\">\n",
       "      <th></th>\n",
       "      <th>candidate</th>\n",
       "      <th>chance_to_win</th>\n",
       "    </tr>\n",
       "  </thead>\n",
       "  <tbody>\n",
       "    <tr>\n",
       "      <th>0</th>\n",
       "      <td>trump</td>\n",
       "      <td>68.99719</td>\n",
       "    </tr>\n",
       "    <tr>\n",
       "      <th>1</th>\n",
       "      <td>biden</td>\n",
       "      <td>30.20325</td>\n",
       "    </tr>\n",
       "    <tr>\n",
       "      <th>2</th>\n",
       "      <td>draw</td>\n",
       "      <td>0.79956</td>\n",
       "    </tr>\n",
       "  </tbody>\n",
       "</table>\n",
       "</div>"
      ],
      "text/plain": [
       "  candidate chance_to_win\n",
       "0     trump      68.99719\n",
       "1     biden      30.20325\n",
       "2      draw       0.79956"
      ]
     },
     "execution_count": 71,
     "metadata": {},
     "output_type": "execute_result"
    }
   ],
   "source": [
    "win_chance_df.head()"
   ]
  },
  {
   "cell_type": "code",
   "execution_count": null,
   "id": "605d7d30",
   "metadata": {},
   "outputs": [],
   "source": []
  }
 ],
 "metadata": {
  "kernelspec": {
   "display_name": "Python 3 (ipykernel)",
   "language": "python",
   "name": "python3"
  },
  "language_info": {
   "codemirror_mode": {
    "name": "ipython",
    "version": 3
   },
   "file_extension": ".py",
   "mimetype": "text/x-python",
   "name": "python",
   "nbconvert_exporter": "python",
   "pygments_lexer": "ipython3",
   "version": "3.11.4"
  }
 },
 "nbformat": 4,
 "nbformat_minor": 5
}
